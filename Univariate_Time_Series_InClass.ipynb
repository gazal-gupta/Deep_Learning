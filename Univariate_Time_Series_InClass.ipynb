{
  "nbformat": 4,
  "nbformat_minor": 0,
  "metadata": {
    "colab": {
      "name": "Univariate_Time_Series_InClass.ipynb",
      "provenance": [],
      "collapsed_sections": [],
      "include_colab_link": true
    },
    "kernelspec": {
      "name": "python3",
      "display_name": "Python 3"
    }
  },
  "cells": [
    {
      "cell_type": "markdown",
      "metadata": {
        "id": "view-in-github",
        "colab_type": "text"
      },
      "source": [
        "<a href=\"https://colab.research.google.com/github/gazal-gupta/Deep_Learning/blob/master/Univariate_Time_Series_InClass.ipynb\" target=\"_parent\"><img src=\"https://colab.research.google.com/assets/colab-badge.svg\" alt=\"Open In Colab\"/></a>"
      ]
    },
    {
      "cell_type": "markdown",
      "metadata": {
        "id": "KaPvLLxNcgwg",
        "colab_type": "text"
      },
      "source": [
        "\n",
        "\n",
        "```\n",
        "# Univariate Time Series\n",
        "```\n",
        "\n"
      ]
    },
    {
      "cell_type": "code",
      "metadata": {
        "id": "JHa1u8pEcXkt",
        "colab_type": "code",
        "colab": {}
      },
      "source": [
        "import warnings\n",
        "warnings.filterwarnings('ignore')\n",
        "import pandas as pd\n",
        "import numpy as np\n",
        "import math\n",
        "from keras.models import Sequential\n",
        "from keras.layers.recurrent import LSTM\n",
        "from keras.layers.core import Dense,Activation, Dropout\n",
        "from sklearn.preprocessing import MinMaxScaler, StandardScaler\n",
        "from sklearn.metrics import mean_squared_error\n",
        "from sklearn.utils import shuffle\n",
        "import seaborn as sns"
      ],
      "execution_count": 0,
      "outputs": []
    },
    {
      "cell_type": "code",
      "metadata": {
        "id": "NY6sebo3eSR2",
        "colab_type": "code",
        "colab": {
          "base_uri": "https://localhost:8080/",
          "height": 401
        },
        "outputId": "9f6be36b-cc3d-4c59-f036-28179b195d21"
      },
      "source": [
        "!wget https://www.dropbox.com/sh/edjj4duz16m6fdj/AADxEIKHLlB38oQHMBsEeNJoa/international-airline-passengers.csv?dl=0"
      ],
      "execution_count": 50,
      "outputs": [
        {
          "output_type": "stream",
          "text": [
            "--2019-12-21 08:36:19--  https://www.dropbox.com/sh/edjj4duz16m6fdj/AADxEIKHLlB38oQHMBsEeNJoa/international-airline-passengers.csv?dl=0\n",
            "Resolving www.dropbox.com (www.dropbox.com)... 162.125.65.1, 2620:100:6021:1::a27d:4101\n",
            "Connecting to www.dropbox.com (www.dropbox.com)|162.125.65.1|:443... connected.\n",
            "HTTP request sent, awaiting response... 301 Moved Permanently\n",
            "Location: /sh/raw/edjj4duz16m6fdj/AADxEIKHLlB38oQHMBsEeNJoa/international-airline-passengers.csv [following]\n",
            "--2019-12-21 08:36:19--  https://www.dropbox.com/sh/raw/edjj4duz16m6fdj/AADxEIKHLlB38oQHMBsEeNJoa/international-airline-passengers.csv\n",
            "Reusing existing connection to www.dropbox.com:443.\n",
            "HTTP request sent, awaiting response... 302 Found\n",
            "Location: https://uc343787f50710ea5ea92bb24ce4.dl.dropboxusercontent.com/cd/0/inline/AupGaTYZ86D6-Nq7wnfX_v0lA2D3ZBpt7RbJY0ymbEZZn_7XliWSHQP9EJopPG9JunL47cawdudvScyR1ki9rLN8bG2ItiqKI3nfTxG_u0FFtQ/file# [following]\n",
            "--2019-12-21 08:36:19--  https://uc343787f50710ea5ea92bb24ce4.dl.dropboxusercontent.com/cd/0/inline/AupGaTYZ86D6-Nq7wnfX_v0lA2D3ZBpt7RbJY0ymbEZZn_7XliWSHQP9EJopPG9JunL47cawdudvScyR1ki9rLN8bG2ItiqKI3nfTxG_u0FFtQ/file\n",
            "Resolving uc343787f50710ea5ea92bb24ce4.dl.dropboxusercontent.com (uc343787f50710ea5ea92bb24ce4.dl.dropboxusercontent.com)... 162.125.65.6, 2620:100:6021:6::a27d:4106\n",
            "Connecting to uc343787f50710ea5ea92bb24ce4.dl.dropboxusercontent.com (uc343787f50710ea5ea92bb24ce4.dl.dropboxusercontent.com)|162.125.65.6|:443... connected.\n",
            "HTTP request sent, awaiting response... 200 OK\n",
            "Length: 2199 (2.1K) [text/plain]\n",
            "Saving to: ‘international-airline-passengers.csv?dl=0.2’\n",
            "\n",
            "\r          internati   0%[                    ]       0  --.-KB/s               \rinternational-airli 100%[===================>]   2.15K  --.-KB/s    in 0s      \n",
            "\n",
            "2019-12-21 08:36:20 (288 MB/s) - ‘international-airline-passengers.csv?dl=0.2’ saved [2199/2199]\n",
            "\n"
          ],
          "name": "stdout"
        }
      ]
    },
    {
      "cell_type": "code",
      "metadata": {
        "id": "seNiffqUeSRB",
        "colab_type": "code",
        "colab": {}
      },
      "source": [
        "data = pd.read_csv(\"/content/international-airline-passengers.csv?dl=0\")\n",
        "\n",
        "  "
      ],
      "execution_count": 0,
      "outputs": []
    },
    {
      "cell_type": "code",
      "metadata": {
        "id": "1omW-E0reSOn",
        "colab_type": "code",
        "colab": {
          "base_uri": "https://localhost:8080/",
          "height": 198
        },
        "outputId": "1a30104f-f1ba-4c4d-e3bf-dc42343be1df"
      },
      "source": [
        "data.head()"
      ],
      "execution_count": 52,
      "outputs": [
        {
          "output_type": "execute_result",
          "data": {
            "text/html": [
              "<div>\n",
              "<style scoped>\n",
              "    .dataframe tbody tr th:only-of-type {\n",
              "        vertical-align: middle;\n",
              "    }\n",
              "\n",
              "    .dataframe tbody tr th {\n",
              "        vertical-align: top;\n",
              "    }\n",
              "\n",
              "    .dataframe thead th {\n",
              "        text-align: right;\n",
              "    }\n",
              "</style>\n",
              "<table border=\"1\" class=\"dataframe\">\n",
              "  <thead>\n",
              "    <tr style=\"text-align: right;\">\n",
              "      <th></th>\n",
              "      <th>Month</th>\n",
              "      <th>passengers_in_100_thousands</th>\n",
              "    </tr>\n",
              "  </thead>\n",
              "  <tbody>\n",
              "    <tr>\n",
              "      <th>0</th>\n",
              "      <td>1949-01</td>\n",
              "      <td>112</td>\n",
              "    </tr>\n",
              "    <tr>\n",
              "      <th>1</th>\n",
              "      <td>1949-02</td>\n",
              "      <td>118</td>\n",
              "    </tr>\n",
              "    <tr>\n",
              "      <th>2</th>\n",
              "      <td>1949-03</td>\n",
              "      <td>132</td>\n",
              "    </tr>\n",
              "    <tr>\n",
              "      <th>3</th>\n",
              "      <td>1949-04</td>\n",
              "      <td>129</td>\n",
              "    </tr>\n",
              "    <tr>\n",
              "      <th>4</th>\n",
              "      <td>1949-05</td>\n",
              "      <td>121</td>\n",
              "    </tr>\n",
              "  </tbody>\n",
              "</table>\n",
              "</div>"
            ],
            "text/plain": [
              "     Month  passengers_in_100_thousands\n",
              "0  1949-01                          112\n",
              "1  1949-02                          118\n",
              "2  1949-03                          132\n",
              "3  1949-04                          129\n",
              "4  1949-05                          121"
            ]
          },
          "metadata": {
            "tags": []
          },
          "execution_count": 52
        }
      ]
    },
    {
      "cell_type": "code",
      "metadata": {
        "id": "ZRQvJ6lgeSNf",
        "colab_type": "code",
        "colab": {
          "base_uri": "https://localhost:8080/",
          "height": 35
        },
        "outputId": "aabbc21b-45eb-4701-f692-31280d6e7d3e"
      },
      "source": [
        "data.shape"
      ],
      "execution_count": 53,
      "outputs": [
        {
          "output_type": "execute_result",
          "data": {
            "text/plain": [
              "(144, 2)"
            ]
          },
          "metadata": {
            "tags": []
          },
          "execution_count": 53
        }
      ]
    },
    {
      "cell_type": "code",
      "metadata": {
        "id": "vujpychoeSMW",
        "colab_type": "code",
        "colab": {}
      },
      "source": [
        "ts_data = data.iloc[:,1]"
      ],
      "execution_count": 0,
      "outputs": []
    },
    {
      "cell_type": "code",
      "metadata": {
        "id": "sAdz9QMsg2wL",
        "colab_type": "code",
        "colab": {}
      },
      "source": [
        "#sns.lineplot(ts_data)"
      ],
      "execution_count": 0,
      "outputs": []
    },
    {
      "cell_type": "code",
      "metadata": {
        "id": "P_auxOTbeSJx",
        "colab_type": "code",
        "colab": {}
      },
      "source": [
        "scaler = MinMaxScaler(feature_range=(0,1))\n",
        "dataset = scaler.fit_transform(pd.DataFrame(data=ts_data))"
      ],
      "execution_count": 0,
      "outputs": []
    },
    {
      "cell_type": "code",
      "metadata": {
        "id": "sP10z3SOeSC5",
        "colab_type": "code",
        "colab": {
          "base_uri": "https://localhost:8080/",
          "height": 35
        },
        "outputId": "a3c71728-a5bd-4587-f560-c9afe6b3b16e"
      },
      "source": [
        "dataset.shape"
      ],
      "execution_count": 57,
      "outputs": [
        {
          "output_type": "execute_result",
          "data": {
            "text/plain": [
              "(144, 1)"
            ]
          },
          "metadata": {
            "tags": []
          },
          "execution_count": 57
        }
      ]
    },
    {
      "cell_type": "code",
      "metadata": {
        "id": "vqwyUhEmeR_j",
        "colab_type": "code",
        "colab": {
          "base_uri": "https://localhost:8080/",
          "height": 1000
        },
        "outputId": "ccdb7370-f03b-4b47-909c-c3f3ce6ab438"
      },
      "source": [
        "dataset"
      ],
      "execution_count": 58,
      "outputs": [
        {
          "output_type": "execute_result",
          "data": {
            "text/plain": [
              "array([[0.01544402],\n",
              "       [0.02702703],\n",
              "       [0.05405405],\n",
              "       [0.04826255],\n",
              "       [0.03281853],\n",
              "       [0.05984556],\n",
              "       [0.08494208],\n",
              "       [0.08494208],\n",
              "       [0.06177606],\n",
              "       [0.02895753],\n",
              "       [0.        ],\n",
              "       [0.02702703],\n",
              "       [0.02123552],\n",
              "       [0.04247104],\n",
              "       [0.07142857],\n",
              "       [0.05984556],\n",
              "       [0.04054054],\n",
              "       [0.08687259],\n",
              "       [0.12741313],\n",
              "       [0.12741313],\n",
              "       [0.1042471 ],\n",
              "       [0.05598456],\n",
              "       [0.01930502],\n",
              "       [0.06949807],\n",
              "       [0.07915058],\n",
              "       [0.08880309],\n",
              "       [0.14285714],\n",
              "       [0.11389961],\n",
              "       [0.13127413],\n",
              "       [0.14285714],\n",
              "       [0.18339768],\n",
              "       [0.18339768],\n",
              "       [0.15444015],\n",
              "       [0.11196911],\n",
              "       [0.08108108],\n",
              "       [0.11969112],\n",
              "       [0.12934363],\n",
              "       [0.14671815],\n",
              "       [0.17181467],\n",
              "       [0.14864865],\n",
              "       [0.15250965],\n",
              "       [0.22007722],\n",
              "       [0.24324324],\n",
              "       [0.26640927],\n",
              "       [0.2027027 ],\n",
              "       [0.16795367],\n",
              "       [0.13127413],\n",
              "       [0.17374517],\n",
              "       [0.17760618],\n",
              "       [0.17760618],\n",
              "       [0.25482625],\n",
              "       [0.25289575],\n",
              "       [0.24131274],\n",
              "       [0.26833977],\n",
              "       [0.30888031],\n",
              "       [0.32432432],\n",
              "       [0.25675676],\n",
              "       [0.20656371],\n",
              "       [0.14671815],\n",
              "       [0.18725869],\n",
              "       [0.19305019],\n",
              "       [0.16216216],\n",
              "       [0.25289575],\n",
              "       [0.23745174],\n",
              "       [0.25096525],\n",
              "       [0.30888031],\n",
              "       [0.38223938],\n",
              "       [0.36486486],\n",
              "       [0.2992278 ],\n",
              "       [0.24131274],\n",
              "       [0.19111969],\n",
              "       [0.24131274],\n",
              "       [0.26640927],\n",
              "       [0.24903475],\n",
              "       [0.31467181],\n",
              "       [0.31853282],\n",
              "       [0.32046332],\n",
              "       [0.40733591],\n",
              "       [0.5019305 ],\n",
              "       [0.46911197],\n",
              "       [0.4015444 ],\n",
              "       [0.32818533],\n",
              "       [0.25675676],\n",
              "       [0.33590734],\n",
              "       [0.34749035],\n",
              "       [0.33397683],\n",
              "       [0.41119691],\n",
              "       [0.4034749 ],\n",
              "       [0.41312741],\n",
              "       [0.52123552],\n",
              "       [0.5965251 ],\n",
              "       [0.58108108],\n",
              "       [0.48455598],\n",
              "       [0.38996139],\n",
              "       [0.32239382],\n",
              "       [0.38996139],\n",
              "       [0.40733591],\n",
              "       [0.38030888],\n",
              "       [0.48648649],\n",
              "       [0.47104247],\n",
              "       [0.48455598],\n",
              "       [0.61389961],\n",
              "       [0.6969112 ],\n",
              "       [0.7007722 ],\n",
              "       [0.57915058],\n",
              "       [0.46911197],\n",
              "       [0.38803089],\n",
              "       [0.44787645],\n",
              "       [0.45559846],\n",
              "       [0.41312741],\n",
              "       [0.4980695 ],\n",
              "       [0.47104247],\n",
              "       [0.5       ],\n",
              "       [0.63899614],\n",
              "       [0.74710425],\n",
              "       [0.77413127],\n",
              "       [0.57915058],\n",
              "       [0.49227799],\n",
              "       [0.3976834 ],\n",
              "       [0.44980695],\n",
              "       [0.49420849],\n",
              "       [0.45945946],\n",
              "       [0.58301158],\n",
              "       [0.56370656],\n",
              "       [0.61003861],\n",
              "       [0.71042471],\n",
              "       [0.85714286],\n",
              "       [0.87837838],\n",
              "       [0.69305019],\n",
              "       [0.58494208],\n",
              "       [0.4980695 ],\n",
              "       [0.58108108],\n",
              "       [0.6042471 ],\n",
              "       [0.55405405],\n",
              "       [0.60810811],\n",
              "       [0.68918919],\n",
              "       [0.71042471],\n",
              "       [0.83204633],\n",
              "       [1.        ],\n",
              "       [0.96911197],\n",
              "       [0.77992278],\n",
              "       [0.68918919],\n",
              "       [0.55212355],\n",
              "       [0.63320463]])"
            ]
          },
          "metadata": {
            "tags": []
          },
          "execution_count": 58
        }
      ]
    },
    {
      "cell_type": "code",
      "metadata": {
        "id": "owbPshCceR8S",
        "colab_type": "code",
        "colab": {
          "base_uri": "https://localhost:8080/",
          "height": 35
        },
        "outputId": "f8edba8c-76f8-45f0-82d7-2f02fae87f9b"
      },
      "source": [
        "#144*0.60\n",
        "train_ratio = 0.60\n",
        "train_size = int(dataset.shape[0]*train_ratio)\n",
        "train_size\n"
      ],
      "execution_count": 59,
      "outputs": [
        {
          "output_type": "execute_result",
          "data": {
            "text/plain": [
              "86"
            ]
          },
          "metadata": {
            "tags": []
          },
          "execution_count": 59
        }
      ]
    },
    {
      "cell_type": "code",
      "metadata": {
        "id": "C5uzswM4eR53",
        "colab_type": "code",
        "colab": {}
      },
      "source": [
        "train = dataset[:train_size,:]\n",
        "test = dataset[train_size:,:]"
      ],
      "execution_count": 0,
      "outputs": []
    },
    {
      "cell_type": "code",
      "metadata": {
        "id": "UrMXqr1jiEVo",
        "colab_type": "code",
        "colab": {
          "base_uri": "https://localhost:8080/",
          "height": 54
        },
        "outputId": "87c4a7b3-bc7b-4ab9-dac7-225ec142c90e"
      },
      "source": [
        "print(train.shape)\n",
        "print(test.shape)"
      ],
      "execution_count": 61,
      "outputs": [
        {
          "output_type": "stream",
          "text": [
            "(86, 1)\n",
            "(58, 1)\n"
          ],
          "name": "stdout"
        }
      ]
    },
    {
      "cell_type": "code",
      "metadata": {
        "id": "KhZlkYIQiGHv",
        "colab_type": "code",
        "colab": {}
      },
      "source": [
        "def create_dataset(dataset, window_size = 1):\n",
        "    data_X, data_Y = [], []\n",
        "    for i in range(len(dataset) - window_size - 1):\n",
        "        a = dataset[i:(i + window_size), 0]\n",
        "        data_X.append(a)\n",
        "        data_Y.append(dataset[i + window_size, 0])\n",
        "    return(np.array(data_X), np.array(data_Y))"
      ],
      "execution_count": 0,
      "outputs": []
    },
    {
      "cell_type": "code",
      "metadata": {
        "id": "wUdhSlphkPam",
        "colab_type": "code",
        "colab": {
          "base_uri": "https://localhost:8080/",
          "height": 54
        },
        "outputId": "19f4e19a-d630-46f3-9a5c-f2b42d227ac3"
      },
      "source": [
        "window_size = 10\n",
        "train_X, train_Y = create_dataset(train, window_size)\n",
        "test_X, test_Y = create_dataset(test, window_size)\n",
        "print(\"Original training data shape:\")\n",
        "print(train_X.shape)"
      ],
      "execution_count": 63,
      "outputs": [
        {
          "output_type": "stream",
          "text": [
            "Original training data shape:\n",
            "(75, 10)\n"
          ],
          "name": "stdout"
        }
      ]
    },
    {
      "cell_type": "code",
      "metadata": {
        "id": "z69aOf8zkpGj",
        "colab_type": "code",
        "colab": {
          "base_uri": "https://localhost:8080/",
          "height": 198
        },
        "outputId": "b0fa8ba4-8e2b-4a6e-a715-41e2258d8d6b"
      },
      "source": [
        "pd.DataFrame(train_X).head()"
      ],
      "execution_count": 64,
      "outputs": [
        {
          "output_type": "execute_result",
          "data": {
            "text/html": [
              "<div>\n",
              "<style scoped>\n",
              "    .dataframe tbody tr th:only-of-type {\n",
              "        vertical-align: middle;\n",
              "    }\n",
              "\n",
              "    .dataframe tbody tr th {\n",
              "        vertical-align: top;\n",
              "    }\n",
              "\n",
              "    .dataframe thead th {\n",
              "        text-align: right;\n",
              "    }\n",
              "</style>\n",
              "<table border=\"1\" class=\"dataframe\">\n",
              "  <thead>\n",
              "    <tr style=\"text-align: right;\">\n",
              "      <th></th>\n",
              "      <th>0</th>\n",
              "      <th>1</th>\n",
              "      <th>2</th>\n",
              "      <th>3</th>\n",
              "      <th>4</th>\n",
              "      <th>5</th>\n",
              "      <th>6</th>\n",
              "      <th>7</th>\n",
              "      <th>8</th>\n",
              "      <th>9</th>\n",
              "    </tr>\n",
              "  </thead>\n",
              "  <tbody>\n",
              "    <tr>\n",
              "      <th>0</th>\n",
              "      <td>0.015444</td>\n",
              "      <td>0.027027</td>\n",
              "      <td>0.054054</td>\n",
              "      <td>0.048263</td>\n",
              "      <td>0.032819</td>\n",
              "      <td>0.059846</td>\n",
              "      <td>0.084942</td>\n",
              "      <td>0.084942</td>\n",
              "      <td>0.061776</td>\n",
              "      <td>0.028958</td>\n",
              "    </tr>\n",
              "    <tr>\n",
              "      <th>1</th>\n",
              "      <td>0.027027</td>\n",
              "      <td>0.054054</td>\n",
              "      <td>0.048263</td>\n",
              "      <td>0.032819</td>\n",
              "      <td>0.059846</td>\n",
              "      <td>0.084942</td>\n",
              "      <td>0.084942</td>\n",
              "      <td>0.061776</td>\n",
              "      <td>0.028958</td>\n",
              "      <td>0.000000</td>\n",
              "    </tr>\n",
              "    <tr>\n",
              "      <th>2</th>\n",
              "      <td>0.054054</td>\n",
              "      <td>0.048263</td>\n",
              "      <td>0.032819</td>\n",
              "      <td>0.059846</td>\n",
              "      <td>0.084942</td>\n",
              "      <td>0.084942</td>\n",
              "      <td>0.061776</td>\n",
              "      <td>0.028958</td>\n",
              "      <td>0.000000</td>\n",
              "      <td>0.027027</td>\n",
              "    </tr>\n",
              "    <tr>\n",
              "      <th>3</th>\n",
              "      <td>0.048263</td>\n",
              "      <td>0.032819</td>\n",
              "      <td>0.059846</td>\n",
              "      <td>0.084942</td>\n",
              "      <td>0.084942</td>\n",
              "      <td>0.061776</td>\n",
              "      <td>0.028958</td>\n",
              "      <td>0.000000</td>\n",
              "      <td>0.027027</td>\n",
              "      <td>0.021236</td>\n",
              "    </tr>\n",
              "    <tr>\n",
              "      <th>4</th>\n",
              "      <td>0.032819</td>\n",
              "      <td>0.059846</td>\n",
              "      <td>0.084942</td>\n",
              "      <td>0.084942</td>\n",
              "      <td>0.061776</td>\n",
              "      <td>0.028958</td>\n",
              "      <td>0.000000</td>\n",
              "      <td>0.027027</td>\n",
              "      <td>0.021236</td>\n",
              "      <td>0.042471</td>\n",
              "    </tr>\n",
              "  </tbody>\n",
              "</table>\n",
              "</div>"
            ],
            "text/plain": [
              "          0         1         2  ...         7         8         9\n",
              "0  0.015444  0.027027  0.054054  ...  0.084942  0.061776  0.028958\n",
              "1  0.027027  0.054054  0.048263  ...  0.061776  0.028958  0.000000\n",
              "2  0.054054  0.048263  0.032819  ...  0.028958  0.000000  0.027027\n",
              "3  0.048263  0.032819  0.059846  ...  0.000000  0.027027  0.021236\n",
              "4  0.032819  0.059846  0.084942  ...  0.027027  0.021236  0.042471\n",
              "\n",
              "[5 rows x 10 columns]"
            ]
          },
          "metadata": {
            "tags": []
          },
          "execution_count": 64
        }
      ]
    },
    {
      "cell_type": "code",
      "metadata": {
        "id": "ZgP8jzbAlV1u",
        "colab_type": "code",
        "colab": {
          "base_uri": "https://localhost:8080/",
          "height": 54
        },
        "outputId": "a6d2152c-d0f0-46fc-d414-8ee796477aed"
      },
      "source": [
        "# shape of data should be : (num_obs, feature_dimension, sequence_length)\n",
        "train_X = np.reshape(train_X, (train_X.shape[0], 1, train_X.shape[1]))\n",
        "test_X = np.reshape(test_X, (test_X.shape[0], 1, test_X.shape[1]))\n",
        "print(\"New training data shape:\")\n",
        "print(train_X.shape)"
      ],
      "execution_count": 65,
      "outputs": [
        {
          "output_type": "stream",
          "text": [
            "New training data shape:\n",
            "(75, 1, 10)\n"
          ],
          "name": "stdout"
        }
      ]
    },
    {
      "cell_type": "code",
      "metadata": {
        "id": "ekN-4iYMlVx-",
        "colab_type": "code",
        "colab": {
          "base_uri": "https://localhost:8080/",
          "height": 1000
        },
        "outputId": "f14c170b-ea56-4253-d879-7a23d22340eb"
      },
      "source": [
        "# input shape : (feature_dimension, seq_length)\n",
        "model = Sequential()\n",
        "    \n",
        "model.add(LSTM(4, \n",
        "               input_shape = (1, window_size)))\n",
        "model.add(Dense(1))\n",
        "model.compile(loss = \"mean_squared_error\", \n",
        "              optimizer = \"adam\")\n",
        "model.fit(train_X, \n",
        "          train_Y, \n",
        "          epochs = 100, \n",
        "          batch_size = 1, \n",
        "          verbose = 2)"
      ],
      "execution_count": 66,
      "outputs": [
        {
          "output_type": "stream",
          "text": [
            "Epoch 1/100\n",
            " - 1s - loss: 0.0468\n",
            "Epoch 2/100\n",
            " - 0s - loss: 0.0144\n",
            "Epoch 3/100\n",
            " - 0s - loss: 0.0077\n",
            "Epoch 4/100\n",
            " - 0s - loss: 0.0064\n",
            "Epoch 5/100\n",
            " - 0s - loss: 0.0057\n",
            "Epoch 6/100\n",
            " - 0s - loss: 0.0052\n",
            "Epoch 7/100\n",
            " - 0s - loss: 0.0047\n",
            "Epoch 8/100\n",
            " - 0s - loss: 0.0043\n",
            "Epoch 9/100\n",
            " - 0s - loss: 0.0040\n",
            "Epoch 10/100\n",
            " - 0s - loss: 0.0037\n",
            "Epoch 11/100\n",
            " - 0s - loss: 0.0035\n",
            "Epoch 12/100\n",
            " - 0s - loss: 0.0033\n",
            "Epoch 13/100\n",
            " - 0s - loss: 0.0031\n",
            "Epoch 14/100\n",
            " - 0s - loss: 0.0030\n",
            "Epoch 15/100\n",
            " - 0s - loss: 0.0029\n",
            "Epoch 16/100\n",
            " - 0s - loss: 0.0028\n",
            "Epoch 17/100\n",
            " - 0s - loss: 0.0028\n",
            "Epoch 18/100\n",
            " - 0s - loss: 0.0026\n",
            "Epoch 19/100\n",
            " - 0s - loss: 0.0026\n",
            "Epoch 20/100\n",
            " - 0s - loss: 0.0025\n",
            "Epoch 21/100\n",
            " - 0s - loss: 0.0024\n",
            "Epoch 22/100\n",
            " - 0s - loss: 0.0023\n",
            "Epoch 23/100\n",
            " - 0s - loss: 0.0023\n",
            "Epoch 24/100\n",
            " - 0s - loss: 0.0023\n",
            "Epoch 25/100\n",
            " - 0s - loss: 0.0022\n",
            "Epoch 26/100\n",
            " - 0s - loss: 0.0020\n",
            "Epoch 27/100\n",
            " - 0s - loss: 0.0021\n",
            "Epoch 28/100\n",
            " - 0s - loss: 0.0020\n",
            "Epoch 29/100\n",
            " - 0s - loss: 0.0020\n",
            "Epoch 30/100\n",
            " - 0s - loss: 0.0019\n",
            "Epoch 31/100\n",
            " - 0s - loss: 0.0019\n",
            "Epoch 32/100\n",
            " - 0s - loss: 0.0018\n",
            "Epoch 33/100\n",
            " - 0s - loss: 0.0019\n",
            "Epoch 34/100\n",
            " - 0s - loss: 0.0018\n",
            "Epoch 35/100\n",
            " - 0s - loss: 0.0017\n",
            "Epoch 36/100\n",
            " - 0s - loss: 0.0018\n",
            "Epoch 37/100\n",
            " - 0s - loss: 0.0017\n",
            "Epoch 38/100\n",
            " - 0s - loss: 0.0017\n",
            "Epoch 39/100\n",
            " - 0s - loss: 0.0016\n",
            "Epoch 40/100\n",
            " - 0s - loss: 0.0017\n",
            "Epoch 41/100\n",
            " - 0s - loss: 0.0017\n",
            "Epoch 42/100\n",
            " - 0s - loss: 0.0016\n",
            "Epoch 43/100\n",
            " - 0s - loss: 0.0016\n",
            "Epoch 44/100\n",
            " - 0s - loss: 0.0016\n",
            "Epoch 45/100\n",
            " - 0s - loss: 0.0016\n",
            "Epoch 46/100\n",
            " - 0s - loss: 0.0016\n",
            "Epoch 47/100\n",
            " - 0s - loss: 0.0015\n",
            "Epoch 48/100\n",
            " - 0s - loss: 0.0016\n",
            "Epoch 49/100\n",
            " - 0s - loss: 0.0015\n",
            "Epoch 50/100\n",
            " - 0s - loss: 0.0015\n",
            "Epoch 51/100\n",
            " - 0s - loss: 0.0015\n",
            "Epoch 52/100\n",
            " - 0s - loss: 0.0014\n",
            "Epoch 53/100\n",
            " - 0s - loss: 0.0015\n",
            "Epoch 54/100\n",
            " - 0s - loss: 0.0014\n",
            "Epoch 55/100\n",
            " - 0s - loss: 0.0015\n",
            "Epoch 56/100\n",
            " - 0s - loss: 0.0014\n",
            "Epoch 57/100\n",
            " - 0s - loss: 0.0015\n",
            "Epoch 58/100\n",
            " - 0s - loss: 0.0015\n",
            "Epoch 59/100\n",
            " - 0s - loss: 0.0014\n",
            "Epoch 60/100\n",
            " - 0s - loss: 0.0016\n",
            "Epoch 61/100\n",
            " - 0s - loss: 0.0014\n",
            "Epoch 62/100\n",
            " - 0s - loss: 0.0014\n",
            "Epoch 63/100\n",
            " - 0s - loss: 0.0014\n",
            "Epoch 64/100\n",
            " - 0s - loss: 0.0015\n",
            "Epoch 65/100\n",
            " - 0s - loss: 0.0014\n",
            "Epoch 66/100\n",
            " - 0s - loss: 0.0014\n",
            "Epoch 67/100\n",
            " - 0s - loss: 0.0013\n",
            "Epoch 68/100\n",
            " - 0s - loss: 0.0013\n",
            "Epoch 69/100\n",
            " - 0s - loss: 0.0013\n",
            "Epoch 70/100\n",
            " - 0s - loss: 0.0013\n",
            "Epoch 71/100\n",
            " - 0s - loss: 0.0014\n",
            "Epoch 72/100\n",
            " - 0s - loss: 0.0014\n",
            "Epoch 73/100\n",
            " - 0s - loss: 0.0013\n",
            "Epoch 74/100\n",
            " - 0s - loss: 0.0014\n",
            "Epoch 75/100\n",
            " - 0s - loss: 0.0013\n",
            "Epoch 76/100\n",
            " - 0s - loss: 0.0014\n",
            "Epoch 77/100\n",
            " - 0s - loss: 0.0013\n",
            "Epoch 78/100\n",
            " - 0s - loss: 0.0015\n",
            "Epoch 79/100\n",
            " - 0s - loss: 0.0014\n",
            "Epoch 80/100\n",
            " - 0s - loss: 0.0013\n",
            "Epoch 81/100\n",
            " - 0s - loss: 0.0013\n",
            "Epoch 82/100\n",
            " - 0s - loss: 0.0014\n",
            "Epoch 83/100\n",
            " - 0s - loss: 0.0013\n",
            "Epoch 84/100\n",
            " - 0s - loss: 0.0014\n",
            "Epoch 85/100\n",
            " - 0s - loss: 0.0013\n",
            "Epoch 86/100\n",
            " - 0s - loss: 0.0013\n",
            "Epoch 87/100\n",
            " - 0s - loss: 0.0013\n",
            "Epoch 88/100\n",
            " - 0s - loss: 0.0014\n",
            "Epoch 89/100\n",
            " - 0s - loss: 0.0014\n",
            "Epoch 90/100\n",
            " - 0s - loss: 0.0013\n",
            "Epoch 91/100\n",
            " - 0s - loss: 0.0013\n",
            "Epoch 92/100\n",
            " - 0s - loss: 0.0013\n",
            "Epoch 93/100\n",
            " - 0s - loss: 0.0013\n",
            "Epoch 94/100\n",
            " - 0s - loss: 0.0013\n",
            "Epoch 95/100\n",
            " - 0s - loss: 0.0013\n",
            "Epoch 96/100\n",
            " - 0s - loss: 0.0012\n",
            "Epoch 97/100\n",
            " - 0s - loss: 0.0013\n",
            "Epoch 98/100\n",
            " - 0s - loss: 0.0013\n",
            "Epoch 99/100\n",
            " - 0s - loss: 0.0013\n",
            "Epoch 100/100\n",
            " - 0s - loss: 0.0013\n"
          ],
          "name": "stdout"
        },
        {
          "output_type": "execute_result",
          "data": {
            "text/plain": [
              "<keras.callbacks.History at 0x7f05013eaeb8>"
            ]
          },
          "metadata": {
            "tags": []
          },
          "execution_count": 66
        }
      ]
    },
    {
      "cell_type": "code",
      "metadata": {
        "id": "0iUForUclVun",
        "colab_type": "code",
        "colab": {}
      },
      "source": [
        "# Make predictions on the original scale of the data.\n",
        "pred = scaler.inverse_transform(model.predict(train_X))\n",
        "# Prepare Y data to also be on the original scale for interpretability.\n",
        "orig_data = scaler.inverse_transform([train_Y])\n",
        "# Calculate RMSE.\n",
        "score_train = np.sqrt(mean_squared_error(orig_data[0], pred[:, 0]))"
      ],
      "execution_count": 0,
      "outputs": []
    },
    {
      "cell_type": "code",
      "metadata": {
        "id": "9jq0Boz1lVs9",
        "colab_type": "code",
        "colab": {}
      },
      "source": [
        "# Make predictions on the original scale of the data.\n",
        "pred = scaler.inverse_transform(model.predict(test_X))\n",
        "# Prepare Y data to also be on the original scale for interpretability.\n",
        "orig_data = scaler.inverse_transform([test_Y])\n",
        "# Calculate RMSE.\n",
        "score_test = np.sqrt(mean_squared_error(orig_data[0], pred[:, 0]))"
      ],
      "execution_count": 0,
      "outputs": []
    },
    {
      "cell_type": "code",
      "metadata": {
        "id": "iCY2w2C9lVqw",
        "colab_type": "code",
        "colab": {
          "base_uri": "https://localhost:8080/",
          "height": 54
        },
        "outputId": "b410927e-dd2b-44f7-cb51-fb92b8eabcee"
      },
      "source": [
        "print(\"Training data score: \",  score_train)\n",
        "print(\"Test data score: \",  score_test)"
      ],
      "execution_count": 69,
      "outputs": [
        {
          "output_type": "stream",
          "text": [
            "Training data score:  17.671824419032163\n",
            "Test data score:  46.64037956581168\n"
          ],
          "name": "stdout"
        }
      ]
    },
    {
      "cell_type": "code",
      "metadata": {
        "id": "6Rlh3nOglVnH",
        "colab_type": "code",
        "colab": {}
      },
      "source": [
        ""
      ],
      "execution_count": 0,
      "outputs": []
    },
    {
      "cell_type": "code",
      "metadata": {
        "id": "TZ8CW7bYlVj9",
        "colab_type": "code",
        "colab": {}
      },
      "source": [
        ""
      ],
      "execution_count": 0,
      "outputs": []
    },
    {
      "cell_type": "code",
      "metadata": {
        "id": "R6sb45ohlVhn",
        "colab_type": "code",
        "colab": {}
      },
      "source": [
        ""
      ],
      "execution_count": 0,
      "outputs": []
    },
    {
      "cell_type": "code",
      "metadata": {
        "id": "Fub1aArblVf0",
        "colab_type": "code",
        "colab": {}
      },
      "source": [
        ""
      ],
      "execution_count": 0,
      "outputs": []
    },
    {
      "cell_type": "code",
      "metadata": {
        "id": "sMMz-G2ulVcR",
        "colab_type": "code",
        "colab": {}
      },
      "source": [
        ""
      ],
      "execution_count": 0,
      "outputs": []
    },
    {
      "cell_type": "code",
      "metadata": {
        "id": "ScWStn8olVYG",
        "colab_type": "code",
        "colab": {}
      },
      "source": [
        ""
      ],
      "execution_count": 0,
      "outputs": []
    },
    {
      "cell_type": "markdown",
      "metadata": {
        "id": "ZTy9fNHWlVDM",
        "colab_type": "text"
      },
      "source": [
        ""
      ]
    }
  ]
}