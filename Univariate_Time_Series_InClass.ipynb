{
  "nbformat": 4,
  "nbformat_minor": 0,
  "metadata": {
    "colab": {
      "name": "Univariate_Time_Series_InClass.ipynb",
      "provenance": [],
      "collapsed_sections": [],
      "include_colab_link": true
    },
    "kernelspec": {
      "name": "python3",
      "display_name": "Python 3"
    }
  },
  "cells": [
    {
      "cell_type": "markdown",
      "metadata": {
        "id": "view-in-github",
        "colab_type": "text"
      },
      "source": [
        "<a href=\"https://colab.research.google.com/github/gazal-gupta/Deep_Learning/blob/master/Univariate_Time_Series_InClass.ipynb\" target=\"_parent\"><img src=\"https://colab.research.google.com/assets/colab-badge.svg\" alt=\"Open In Colab\"/></a>"
      ]
    },
    {
      "cell_type": "markdown",
      "metadata": {
        "id": "KaPvLLxNcgwg",
        "colab_type": "text"
      },
      "source": [
        "\n",
        "\n",
        "```\n",
        "# Univariate Time Series\n",
        "```\n",
        "\n"
      ]
    },
    {
      "cell_type": "code",
      "metadata": {
        "id": "JHa1u8pEcXkt",
        "colab_type": "code",
        "colab": {}
      },
      "source": [
        "import warnings\n",
        "warnings.filterwarnings('ignore')\n",
        "import pandas as pd\n",
        "import numpy as np\n",
        "import math\n",
        "from keras.models import Sequential\n",
        "from keras.layers.recurrent import LSTM\n",
        "from keras.layers.core import Dense,Activation, Dropout\n",
        "from sklearn.preprocessing import MinMaxScaler, StandardScaler\n",
        "from sklearn.metrics import mean_squared_error\n",
        "from sklearn.utils import shuffle\n",
        "import seaborn as sns"
      ],
      "execution_count": 0,
      "outputs": []
    },
    {
      "cell_type": "code",
      "metadata": {
        "id": "NY6sebo3eSR2",
        "colab_type": "code",
        "outputId": "d353df59-27f1-4521-beaa-856ce6f92257",
        "colab": {
          "base_uri": "https://localhost:8080/",
          "height": 401
        }
      },
      "source": [
        "!wget https://www.dropbox.com/sh/edjj4duz16m6fdj/AADxEIKHLlB38oQHMBsEeNJoa/international-airline-passengers.csv"
      ],
      "execution_count": 59,
      "outputs": [
        {
          "output_type": "stream",
          "text": [
            "--2019-12-22 06:07:46--  https://www.dropbox.com/sh/edjj4duz16m6fdj/AADxEIKHLlB38oQHMBsEeNJoa/international-airline-passengers.csv\n",
            "Resolving www.dropbox.com (www.dropbox.com)... 162.125.1.1, 2620:100:6016:1::a27d:101\n",
            "Connecting to www.dropbox.com (www.dropbox.com)|162.125.1.1|:443... connected.\n",
            "HTTP request sent, awaiting response... 301 Moved Permanently\n",
            "Location: /sh/raw/edjj4duz16m6fdj/AADxEIKHLlB38oQHMBsEeNJoa/international-airline-passengers.csv [following]\n",
            "--2019-12-22 06:07:46--  https://www.dropbox.com/sh/raw/edjj4duz16m6fdj/AADxEIKHLlB38oQHMBsEeNJoa/international-airline-passengers.csv\n",
            "Reusing existing connection to www.dropbox.com:443.\n",
            "HTTP request sent, awaiting response... 302 Found\n",
            "Location: https://uc3b0acbe60462c89f9ad9b98ca7.dl.dropboxusercontent.com/cd/0/inline/AusMuqPWgdUYc96MumGf-i9MdeJhYSWefVImDU4jUfrDgu51YCARbqcSXE1yhRjNVfUmmDvFAor7kyXkHzDgVZaMd26TxEGkSyzS0lpDGzVIYQ/file# [following]\n",
            "--2019-12-22 06:07:46--  https://uc3b0acbe60462c89f9ad9b98ca7.dl.dropboxusercontent.com/cd/0/inline/AusMuqPWgdUYc96MumGf-i9MdeJhYSWefVImDU4jUfrDgu51YCARbqcSXE1yhRjNVfUmmDvFAor7kyXkHzDgVZaMd26TxEGkSyzS0lpDGzVIYQ/file\n",
            "Resolving uc3b0acbe60462c89f9ad9b98ca7.dl.dropboxusercontent.com (uc3b0acbe60462c89f9ad9b98ca7.dl.dropboxusercontent.com)... 162.125.1.6, 2620:100:6016:6::a27d:106\n",
            "Connecting to uc3b0acbe60462c89f9ad9b98ca7.dl.dropboxusercontent.com (uc3b0acbe60462c89f9ad9b98ca7.dl.dropboxusercontent.com)|162.125.1.6|:443... connected.\n",
            "HTTP request sent, awaiting response... 200 OK\n",
            "Length: 2199 (2.1K) [text/plain]\n",
            "Saving to: ‘international-airline-passengers.csv’\n",
            "\n",
            "\r          internati   0%[                    ]       0  --.-KB/s               \rinternational-airli 100%[===================>]   2.15K  --.-KB/s    in 0s      \n",
            "\n",
            "2019-12-22 06:07:46 (413 MB/s) - ‘international-airline-passengers.csv’ saved [2199/2199]\n",
            "\n"
          ],
          "name": "stdout"
        }
      ]
    },
    {
      "cell_type": "code",
      "metadata": {
        "id": "seNiffqUeSRB",
        "colab_type": "code",
        "colab": {}
      },
      "source": [
        "data = pd.read_csv(\"/content/international-airline-passengers.csv?dl=0\")\n",
        "\n",
        "  "
      ],
      "execution_count": 0,
      "outputs": []
    },
    {
      "cell_type": "code",
      "metadata": {
        "id": "1omW-E0reSOn",
        "colab_type": "code",
        "outputId": "e6b7d4d8-ba6c-4f34-e674-42b0ca2a8abe",
        "colab": {
          "base_uri": "https://localhost:8080/",
          "height": 198
        }
      },
      "source": [
        "data.head()"
      ],
      "execution_count": 32,
      "outputs": [
        {
          "output_type": "execute_result",
          "data": {
            "text/html": [
              "<div>\n",
              "<style scoped>\n",
              "    .dataframe tbody tr th:only-of-type {\n",
              "        vertical-align: middle;\n",
              "    }\n",
              "\n",
              "    .dataframe tbody tr th {\n",
              "        vertical-align: top;\n",
              "    }\n",
              "\n",
              "    .dataframe thead th {\n",
              "        text-align: right;\n",
              "    }\n",
              "</style>\n",
              "<table border=\"1\" class=\"dataframe\">\n",
              "  <thead>\n",
              "    <tr style=\"text-align: right;\">\n",
              "      <th></th>\n",
              "      <th>Month</th>\n",
              "      <th>passengers_in_100_thousands</th>\n",
              "    </tr>\n",
              "  </thead>\n",
              "  <tbody>\n",
              "    <tr>\n",
              "      <th>0</th>\n",
              "      <td>1949-01</td>\n",
              "      <td>112</td>\n",
              "    </tr>\n",
              "    <tr>\n",
              "      <th>1</th>\n",
              "      <td>1949-02</td>\n",
              "      <td>118</td>\n",
              "    </tr>\n",
              "    <tr>\n",
              "      <th>2</th>\n",
              "      <td>1949-03</td>\n",
              "      <td>132</td>\n",
              "    </tr>\n",
              "    <tr>\n",
              "      <th>3</th>\n",
              "      <td>1949-04</td>\n",
              "      <td>129</td>\n",
              "    </tr>\n",
              "    <tr>\n",
              "      <th>4</th>\n",
              "      <td>1949-05</td>\n",
              "      <td>121</td>\n",
              "    </tr>\n",
              "  </tbody>\n",
              "</table>\n",
              "</div>"
            ],
            "text/plain": [
              "     Month  passengers_in_100_thousands\n",
              "0  1949-01                          112\n",
              "1  1949-02                          118\n",
              "2  1949-03                          132\n",
              "3  1949-04                          129\n",
              "4  1949-05                          121"
            ]
          },
          "metadata": {
            "tags": []
          },
          "execution_count": 32
        }
      ]
    },
    {
      "cell_type": "code",
      "metadata": {
        "id": "ZRQvJ6lgeSNf",
        "colab_type": "code",
        "outputId": "f7c9a150-c0a3-4ca7-ff93-7f23fe206709",
        "colab": {
          "base_uri": "https://localhost:8080/",
          "height": 35
        }
      },
      "source": [
        "data.shape"
      ],
      "execution_count": 33,
      "outputs": [
        {
          "output_type": "execute_result",
          "data": {
            "text/plain": [
              "(144, 2)"
            ]
          },
          "metadata": {
            "tags": []
          },
          "execution_count": 33
        }
      ]
    },
    {
      "cell_type": "code",
      "metadata": {
        "id": "vujpychoeSMW",
        "colab_type": "code",
        "colab": {}
      },
      "source": [
        "ts_data = data.iloc[:,1]"
      ],
      "execution_count": 0,
      "outputs": []
    },
    {
      "cell_type": "code",
      "metadata": {
        "id": "sAdz9QMsg2wL",
        "colab_type": "code",
        "colab": {}
      },
      "source": [
        "#sns.lineplot(ts_data)"
      ],
      "execution_count": 0,
      "outputs": []
    },
    {
      "cell_type": "code",
      "metadata": {
        "id": "P_auxOTbeSJx",
        "colab_type": "code",
        "colab": {}
      },
      "source": [
        "scaler = MinMaxScaler(feature_range=(0,1))\n",
        "dataset = scaler.fit_transform(pd.DataFrame(data=ts_data))"
      ],
      "execution_count": 0,
      "outputs": []
    },
    {
      "cell_type": "code",
      "metadata": {
        "id": "sP10z3SOeSC5",
        "colab_type": "code",
        "outputId": "689827c2-0879-42e5-fce1-578c4e4cacdf",
        "colab": {
          "base_uri": "https://localhost:8080/",
          "height": 35
        }
      },
      "source": [
        "dataset.shape"
      ],
      "execution_count": 37,
      "outputs": [
        {
          "output_type": "execute_result",
          "data": {
            "text/plain": [
              "(144, 1)"
            ]
          },
          "metadata": {
            "tags": []
          },
          "execution_count": 37
        }
      ]
    },
    {
      "cell_type": "code",
      "metadata": {
        "id": "vqwyUhEmeR_j",
        "colab_type": "code",
        "outputId": "13a90ba4-ae3f-40b1-b8ea-8aa2417c2ec4",
        "colab": {
          "base_uri": "https://localhost:8080/",
          "height": 1000
        }
      },
      "source": [
        "dataset"
      ],
      "execution_count": 38,
      "outputs": [
        {
          "output_type": "execute_result",
          "data": {
            "text/plain": [
              "array([[0.01544402],\n",
              "       [0.02702703],\n",
              "       [0.05405405],\n",
              "       [0.04826255],\n",
              "       [0.03281853],\n",
              "       [0.05984556],\n",
              "       [0.08494208],\n",
              "       [0.08494208],\n",
              "       [0.06177606],\n",
              "       [0.02895753],\n",
              "       [0.        ],\n",
              "       [0.02702703],\n",
              "       [0.02123552],\n",
              "       [0.04247104],\n",
              "       [0.07142857],\n",
              "       [0.05984556],\n",
              "       [0.04054054],\n",
              "       [0.08687259],\n",
              "       [0.12741313],\n",
              "       [0.12741313],\n",
              "       [0.1042471 ],\n",
              "       [0.05598456],\n",
              "       [0.01930502],\n",
              "       [0.06949807],\n",
              "       [0.07915058],\n",
              "       [0.08880309],\n",
              "       [0.14285714],\n",
              "       [0.11389961],\n",
              "       [0.13127413],\n",
              "       [0.14285714],\n",
              "       [0.18339768],\n",
              "       [0.18339768],\n",
              "       [0.15444015],\n",
              "       [0.11196911],\n",
              "       [0.08108108],\n",
              "       [0.11969112],\n",
              "       [0.12934363],\n",
              "       [0.14671815],\n",
              "       [0.17181467],\n",
              "       [0.14864865],\n",
              "       [0.15250965],\n",
              "       [0.22007722],\n",
              "       [0.24324324],\n",
              "       [0.26640927],\n",
              "       [0.2027027 ],\n",
              "       [0.16795367],\n",
              "       [0.13127413],\n",
              "       [0.17374517],\n",
              "       [0.17760618],\n",
              "       [0.17760618],\n",
              "       [0.25482625],\n",
              "       [0.25289575],\n",
              "       [0.24131274],\n",
              "       [0.26833977],\n",
              "       [0.30888031],\n",
              "       [0.32432432],\n",
              "       [0.25675676],\n",
              "       [0.20656371],\n",
              "       [0.14671815],\n",
              "       [0.18725869],\n",
              "       [0.19305019],\n",
              "       [0.16216216],\n",
              "       [0.25289575],\n",
              "       [0.23745174],\n",
              "       [0.25096525],\n",
              "       [0.30888031],\n",
              "       [0.38223938],\n",
              "       [0.36486486],\n",
              "       [0.2992278 ],\n",
              "       [0.24131274],\n",
              "       [0.19111969],\n",
              "       [0.24131274],\n",
              "       [0.26640927],\n",
              "       [0.24903475],\n",
              "       [0.31467181],\n",
              "       [0.31853282],\n",
              "       [0.32046332],\n",
              "       [0.40733591],\n",
              "       [0.5019305 ],\n",
              "       [0.46911197],\n",
              "       [0.4015444 ],\n",
              "       [0.32818533],\n",
              "       [0.25675676],\n",
              "       [0.33590734],\n",
              "       [0.34749035],\n",
              "       [0.33397683],\n",
              "       [0.41119691],\n",
              "       [0.4034749 ],\n",
              "       [0.41312741],\n",
              "       [0.52123552],\n",
              "       [0.5965251 ],\n",
              "       [0.58108108],\n",
              "       [0.48455598],\n",
              "       [0.38996139],\n",
              "       [0.32239382],\n",
              "       [0.38996139],\n",
              "       [0.40733591],\n",
              "       [0.38030888],\n",
              "       [0.48648649],\n",
              "       [0.47104247],\n",
              "       [0.48455598],\n",
              "       [0.61389961],\n",
              "       [0.6969112 ],\n",
              "       [0.7007722 ],\n",
              "       [0.57915058],\n",
              "       [0.46911197],\n",
              "       [0.38803089],\n",
              "       [0.44787645],\n",
              "       [0.45559846],\n",
              "       [0.41312741],\n",
              "       [0.4980695 ],\n",
              "       [0.47104247],\n",
              "       [0.5       ],\n",
              "       [0.63899614],\n",
              "       [0.74710425],\n",
              "       [0.77413127],\n",
              "       [0.57915058],\n",
              "       [0.49227799],\n",
              "       [0.3976834 ],\n",
              "       [0.44980695],\n",
              "       [0.49420849],\n",
              "       [0.45945946],\n",
              "       [0.58301158],\n",
              "       [0.56370656],\n",
              "       [0.61003861],\n",
              "       [0.71042471],\n",
              "       [0.85714286],\n",
              "       [0.87837838],\n",
              "       [0.69305019],\n",
              "       [0.58494208],\n",
              "       [0.4980695 ],\n",
              "       [0.58108108],\n",
              "       [0.6042471 ],\n",
              "       [0.55405405],\n",
              "       [0.60810811],\n",
              "       [0.68918919],\n",
              "       [0.71042471],\n",
              "       [0.83204633],\n",
              "       [1.        ],\n",
              "       [0.96911197],\n",
              "       [0.77992278],\n",
              "       [0.68918919],\n",
              "       [0.55212355],\n",
              "       [0.63320463]])"
            ]
          },
          "metadata": {
            "tags": []
          },
          "execution_count": 38
        }
      ]
    },
    {
      "cell_type": "code",
      "metadata": {
        "id": "owbPshCceR8S",
        "colab_type": "code",
        "outputId": "7c2d25a2-af24-47f0-81d2-7a68f11f5539",
        "colab": {
          "base_uri": "https://localhost:8080/",
          "height": 35
        }
      },
      "source": [
        "#144*0.60\n",
        "train_ratio = 0.60\n",
        "train_size = int(dataset.shape[0]*train_ratio)\n",
        "train_size\n"
      ],
      "execution_count": 39,
      "outputs": [
        {
          "output_type": "execute_result",
          "data": {
            "text/plain": [
              "86"
            ]
          },
          "metadata": {
            "tags": []
          },
          "execution_count": 39
        }
      ]
    },
    {
      "cell_type": "code",
      "metadata": {
        "id": "C5uzswM4eR53",
        "colab_type": "code",
        "colab": {}
      },
      "source": [
        "train = dataset[:train_size,:]\n",
        "test = dataset[train_size:,:]"
      ],
      "execution_count": 0,
      "outputs": []
    },
    {
      "cell_type": "code",
      "metadata": {
        "id": "UrMXqr1jiEVo",
        "colab_type": "code",
        "outputId": "42b97254-cc14-4c64-9101-ec1d0dc187fb",
        "colab": {
          "base_uri": "https://localhost:8080/",
          "height": 54
        }
      },
      "source": [
        "print(train.shape)\n",
        "print(test.shape)"
      ],
      "execution_count": 41,
      "outputs": [
        {
          "output_type": "stream",
          "text": [
            "(86, 1)\n",
            "(58, 1)\n"
          ],
          "name": "stdout"
        }
      ]
    },
    {
      "cell_type": "code",
      "metadata": {
        "id": "KhZlkYIQiGHv",
        "colab_type": "code",
        "colab": {}
      },
      "source": [
        "def create_dataset(dataset, window_size = 1):\n",
        "    data_X, data_Y = [], []\n",
        "    for i in range(len(dataset) - window_size - 1):\n",
        "        a = dataset[i:(i + window_size), 0]\n",
        "        data_X.append(a)\n",
        "        data_Y.append(dataset[i + window_size, 0])\n",
        "    return(np.array(data_X), np.array(data_Y))"
      ],
      "execution_count": 0,
      "outputs": []
    },
    {
      "cell_type": "code",
      "metadata": {
        "id": "wUdhSlphkPam",
        "colab_type": "code",
        "outputId": "f84436a9-5bfa-4cc8-f3c0-8a090b1efc52",
        "colab": {
          "base_uri": "https://localhost:8080/",
          "height": 54
        }
      },
      "source": [
        "window_size = 10\n",
        "train_X, train_Y = create_dataset(train, window_size)\n",
        "test_X, test_Y = create_dataset(test, window_size)\n",
        "print(\"Original training data shape:\")\n",
        "print(train_X.shape)"
      ],
      "execution_count": 43,
      "outputs": [
        {
          "output_type": "stream",
          "text": [
            "Original training data shape:\n",
            "(75, 10)\n"
          ],
          "name": "stdout"
        }
      ]
    },
    {
      "cell_type": "code",
      "metadata": {
        "id": "z69aOf8zkpGj",
        "colab_type": "code",
        "outputId": "d50bb0f3-2255-4108-d755-e11f8473e99f",
        "colab": {
          "base_uri": "https://localhost:8080/",
          "height": 198
        }
      },
      "source": [
        "pd.DataFrame(train_X).head()"
      ],
      "execution_count": 44,
      "outputs": [
        {
          "output_type": "execute_result",
          "data": {
            "text/html": [
              "<div>\n",
              "<style scoped>\n",
              "    .dataframe tbody tr th:only-of-type {\n",
              "        vertical-align: middle;\n",
              "    }\n",
              "\n",
              "    .dataframe tbody tr th {\n",
              "        vertical-align: top;\n",
              "    }\n",
              "\n",
              "    .dataframe thead th {\n",
              "        text-align: right;\n",
              "    }\n",
              "</style>\n",
              "<table border=\"1\" class=\"dataframe\">\n",
              "  <thead>\n",
              "    <tr style=\"text-align: right;\">\n",
              "      <th></th>\n",
              "      <th>0</th>\n",
              "      <th>1</th>\n",
              "      <th>2</th>\n",
              "      <th>3</th>\n",
              "      <th>4</th>\n",
              "      <th>5</th>\n",
              "      <th>6</th>\n",
              "      <th>7</th>\n",
              "      <th>8</th>\n",
              "      <th>9</th>\n",
              "    </tr>\n",
              "  </thead>\n",
              "  <tbody>\n",
              "    <tr>\n",
              "      <th>0</th>\n",
              "      <td>0.015444</td>\n",
              "      <td>0.027027</td>\n",
              "      <td>0.054054</td>\n",
              "      <td>0.048263</td>\n",
              "      <td>0.032819</td>\n",
              "      <td>0.059846</td>\n",
              "      <td>0.084942</td>\n",
              "      <td>0.084942</td>\n",
              "      <td>0.061776</td>\n",
              "      <td>0.028958</td>\n",
              "    </tr>\n",
              "    <tr>\n",
              "      <th>1</th>\n",
              "      <td>0.027027</td>\n",
              "      <td>0.054054</td>\n",
              "      <td>0.048263</td>\n",
              "      <td>0.032819</td>\n",
              "      <td>0.059846</td>\n",
              "      <td>0.084942</td>\n",
              "      <td>0.084942</td>\n",
              "      <td>0.061776</td>\n",
              "      <td>0.028958</td>\n",
              "      <td>0.000000</td>\n",
              "    </tr>\n",
              "    <tr>\n",
              "      <th>2</th>\n",
              "      <td>0.054054</td>\n",
              "      <td>0.048263</td>\n",
              "      <td>0.032819</td>\n",
              "      <td>0.059846</td>\n",
              "      <td>0.084942</td>\n",
              "      <td>0.084942</td>\n",
              "      <td>0.061776</td>\n",
              "      <td>0.028958</td>\n",
              "      <td>0.000000</td>\n",
              "      <td>0.027027</td>\n",
              "    </tr>\n",
              "    <tr>\n",
              "      <th>3</th>\n",
              "      <td>0.048263</td>\n",
              "      <td>0.032819</td>\n",
              "      <td>0.059846</td>\n",
              "      <td>0.084942</td>\n",
              "      <td>0.084942</td>\n",
              "      <td>0.061776</td>\n",
              "      <td>0.028958</td>\n",
              "      <td>0.000000</td>\n",
              "      <td>0.027027</td>\n",
              "      <td>0.021236</td>\n",
              "    </tr>\n",
              "    <tr>\n",
              "      <th>4</th>\n",
              "      <td>0.032819</td>\n",
              "      <td>0.059846</td>\n",
              "      <td>0.084942</td>\n",
              "      <td>0.084942</td>\n",
              "      <td>0.061776</td>\n",
              "      <td>0.028958</td>\n",
              "      <td>0.000000</td>\n",
              "      <td>0.027027</td>\n",
              "      <td>0.021236</td>\n",
              "      <td>0.042471</td>\n",
              "    </tr>\n",
              "  </tbody>\n",
              "</table>\n",
              "</div>"
            ],
            "text/plain": [
              "          0         1         2  ...         7         8         9\n",
              "0  0.015444  0.027027  0.054054  ...  0.084942  0.061776  0.028958\n",
              "1  0.027027  0.054054  0.048263  ...  0.061776  0.028958  0.000000\n",
              "2  0.054054  0.048263  0.032819  ...  0.028958  0.000000  0.027027\n",
              "3  0.048263  0.032819  0.059846  ...  0.000000  0.027027  0.021236\n",
              "4  0.032819  0.059846  0.084942  ...  0.027027  0.021236  0.042471\n",
              "\n",
              "[5 rows x 10 columns]"
            ]
          },
          "metadata": {
            "tags": []
          },
          "execution_count": 44
        }
      ]
    },
    {
      "cell_type": "code",
      "metadata": {
        "id": "ZgP8jzbAlV1u",
        "colab_type": "code",
        "outputId": "6548cbc2-e95d-468b-d7d6-ef2ba7f22f20",
        "colab": {
          "base_uri": "https://localhost:8080/",
          "height": 54
        }
      },
      "source": [
        "# shape of data should be : (num_obs, feature_dimension, sequence_length)\n",
        "train_X = np.reshape(train_X, (train_X.shape[0], 1, train_X.shape[1]))\n",
        "test_X = np.reshape(test_X, (test_X.shape[0], 1, test_X.shape[1]))\n",
        "print(\"New training data shape:\")\n",
        "print(train_X.shape)"
      ],
      "execution_count": 45,
      "outputs": [
        {
          "output_type": "stream",
          "text": [
            "New training data shape:\n",
            "(75, 1, 10)\n"
          ],
          "name": "stdout"
        }
      ]
    },
    {
      "cell_type": "code",
      "metadata": {
        "id": "ekN-4iYMlVx-",
        "colab_type": "code",
        "outputId": "f56bd6f9-dc8c-49d7-e639-d6bbc27769c8",
        "colab": {
          "base_uri": "https://localhost:8080/",
          "height": 1000
        }
      },
      "source": [
        "# input shape : (feature_dimension, seq_length)\n",
        "from keras.callbacks import ModelCheckpoint\n",
        "from keras.callbacks import EarlyStopping\n",
        "model = Sequential()\n",
        "    \n",
        "model.add(LSTM(4, \n",
        "               input_shape = (1, window_size)))\n",
        "model.add(Dense(1))\n",
        "model.compile(loss = \"mean_squared_error\", \n",
        "              optimizer = \"adam\")\n",
        "model.fit(train_X, \n",
        "          train_Y, \n",
        "          epochs = 100, \n",
        "          batch_size = 1, \n",
        "          verbose = 2,\n",
        "          validation_data = (test_X, test_Y))\n",
        "\n",
        "\n",
        "es = EarlyStopping (monitor = 'val_loss', patience = 3)"
      ],
      "execution_count": 46,
      "outputs": [
        {
          "output_type": "stream",
          "text": [
            "Train on 75 samples, validate on 47 samples\n",
            "Epoch 1/100\n",
            " - 1s - loss: 0.0303 - val_loss: 0.1644\n",
            "Epoch 2/100\n",
            " - 0s - loss: 0.0093 - val_loss: 0.0837\n",
            "Epoch 3/100\n",
            " - 0s - loss: 0.0066 - val_loss: 0.0617\n",
            "Epoch 4/100\n",
            " - 0s - loss: 0.0060 - val_loss: 0.0526\n",
            "Epoch 5/100\n",
            " - 0s - loss: 0.0056 - val_loss: 0.0442\n",
            "Epoch 6/100\n",
            " - 0s - loss: 0.0052 - val_loss: 0.0364\n",
            "Epoch 7/100\n",
            " - 0s - loss: 0.0049 - val_loss: 0.0330\n",
            "Epoch 8/100\n",
            " - 0s - loss: 0.0046 - val_loss: 0.0306\n",
            "Epoch 9/100\n",
            " - 0s - loss: 0.0044 - val_loss: 0.0301\n",
            "Epoch 10/100\n",
            " - 0s - loss: 0.0043 - val_loss: 0.0251\n",
            "Epoch 11/100\n",
            " - 0s - loss: 0.0041 - val_loss: 0.0252\n",
            "Epoch 12/100\n",
            " - 0s - loss: 0.0040 - val_loss: 0.0228\n",
            "Epoch 13/100\n",
            " - 0s - loss: 0.0038 - val_loss: 0.0204\n",
            "Epoch 14/100\n",
            " - 0s - loss: 0.0037 - val_loss: 0.0189\n",
            "Epoch 15/100\n",
            " - 0s - loss: 0.0035 - val_loss: 0.0170\n",
            "Epoch 16/100\n",
            " - 0s - loss: 0.0035 - val_loss: 0.0175\n",
            "Epoch 17/100\n",
            " - 0s - loss: 0.0034 - val_loss: 0.0173\n",
            "Epoch 18/100\n",
            " - 0s - loss: 0.0033 - val_loss: 0.0156\n",
            "Epoch 19/100\n",
            " - 0s - loss: 0.0032 - val_loss: 0.0155\n",
            "Epoch 20/100\n",
            " - 0s - loss: 0.0031 - val_loss: 0.0153\n",
            "Epoch 21/100\n",
            " - 0s - loss: 0.0030 - val_loss: 0.0153\n",
            "Epoch 22/100\n",
            " - 0s - loss: 0.0030 - val_loss: 0.0139\n",
            "Epoch 23/100\n",
            " - 0s - loss: 0.0030 - val_loss: 0.0136\n",
            "Epoch 24/100\n",
            " - 0s - loss: 0.0029 - val_loss: 0.0133\n",
            "Epoch 25/100\n",
            " - 0s - loss: 0.0028 - val_loss: 0.0128\n",
            "Epoch 26/100\n",
            " - 0s - loss: 0.0028 - val_loss: 0.0137\n",
            "Epoch 27/100\n",
            " - 0s - loss: 0.0027 - val_loss: 0.0129\n",
            "Epoch 28/100\n",
            " - 0s - loss: 0.0026 - val_loss: 0.0121\n",
            "Epoch 29/100\n",
            " - 0s - loss: 0.0025 - val_loss: 0.0116\n",
            "Epoch 30/100\n",
            " - 0s - loss: 0.0026 - val_loss: 0.0113\n",
            "Epoch 31/100\n",
            " - 0s - loss: 0.0025 - val_loss: 0.0110\n",
            "Epoch 32/100\n",
            " - 0s - loss: 0.0024 - val_loss: 0.0106\n",
            "Epoch 33/100\n",
            " - 0s - loss: 0.0024 - val_loss: 0.0104\n",
            "Epoch 34/100\n",
            " - 0s - loss: 0.0023 - val_loss: 0.0104\n",
            "Epoch 35/100\n",
            " - 0s - loss: 0.0023 - val_loss: 0.0098\n",
            "Epoch 36/100\n",
            " - 0s - loss: 0.0022 - val_loss: 0.0099\n",
            "Epoch 37/100\n",
            " - 0s - loss: 0.0022 - val_loss: 0.0095\n",
            "Epoch 38/100\n",
            " - 0s - loss: 0.0021 - val_loss: 0.0096\n",
            "Epoch 39/100\n",
            " - 0s - loss: 0.0022 - val_loss: 0.0092\n",
            "Epoch 40/100\n",
            " - 0s - loss: 0.0022 - val_loss: 0.0089\n",
            "Epoch 41/100\n",
            " - 0s - loss: 0.0021 - val_loss: 0.0086\n",
            "Epoch 42/100\n",
            " - 0s - loss: 0.0021 - val_loss: 0.0084\n",
            "Epoch 43/100\n",
            " - 0s - loss: 0.0020 - val_loss: 0.0087\n",
            "Epoch 44/100\n",
            " - 0s - loss: 0.0019 - val_loss: 0.0083\n",
            "Epoch 45/100\n",
            " - 0s - loss: 0.0019 - val_loss: 0.0087\n",
            "Epoch 46/100\n",
            " - 0s - loss: 0.0019 - val_loss: 0.0079\n",
            "Epoch 47/100\n",
            " - 0s - loss: 0.0018 - val_loss: 0.0086\n",
            "Epoch 48/100\n",
            " - 0s - loss: 0.0019 - val_loss: 0.0102\n",
            "Epoch 49/100\n",
            " - 0s - loss: 0.0019 - val_loss: 0.0077\n",
            "Epoch 50/100\n",
            " - 0s - loss: 0.0019 - val_loss: 0.0074\n",
            "Epoch 51/100\n",
            " - 0s - loss: 0.0018 - val_loss: 0.0083\n",
            "Epoch 52/100\n",
            " - 0s - loss: 0.0018 - val_loss: 0.0090\n",
            "Epoch 53/100\n",
            " - 0s - loss: 0.0019 - val_loss: 0.0084\n",
            "Epoch 54/100\n",
            " - 0s - loss: 0.0017 - val_loss: 0.0097\n",
            "Epoch 55/100\n",
            " - 0s - loss: 0.0018 - val_loss: 0.0078\n",
            "Epoch 56/100\n",
            " - 0s - loss: 0.0018 - val_loss: 0.0073\n",
            "Epoch 57/100\n",
            " - 0s - loss: 0.0017 - val_loss: 0.0069\n",
            "Epoch 58/100\n",
            " - 0s - loss: 0.0016 - val_loss: 0.0101\n",
            "Epoch 59/100\n",
            " - 0s - loss: 0.0016 - val_loss: 0.0067\n",
            "Epoch 60/100\n",
            " - 0s - loss: 0.0017 - val_loss: 0.0066\n",
            "Epoch 61/100\n",
            " - 0s - loss: 0.0016 - val_loss: 0.0085\n",
            "Epoch 62/100\n",
            " - 0s - loss: 0.0017 - val_loss: 0.0069\n",
            "Epoch 63/100\n",
            " - 0s - loss: 0.0017 - val_loss: 0.0065\n",
            "Epoch 64/100\n",
            " - 0s - loss: 0.0016 - val_loss: 0.0065\n",
            "Epoch 65/100\n",
            " - 0s - loss: 0.0016 - val_loss: 0.0102\n",
            "Epoch 66/100\n",
            " - 0s - loss: 0.0015 - val_loss: 0.0066\n",
            "Epoch 67/100\n",
            " - 0s - loss: 0.0016 - val_loss: 0.0062\n",
            "Epoch 68/100\n",
            " - 0s - loss: 0.0016 - val_loss: 0.0061\n",
            "Epoch 69/100\n",
            " - 0s - loss: 0.0015 - val_loss: 0.0075\n",
            "Epoch 70/100\n",
            " - 0s - loss: 0.0015 - val_loss: 0.0066\n",
            "Epoch 71/100\n",
            " - 0s - loss: 0.0016 - val_loss: 0.0077\n",
            "Epoch 72/100\n",
            " - 0s - loss: 0.0015 - val_loss: 0.0063\n",
            "Epoch 73/100\n",
            " - 0s - loss: 0.0014 - val_loss: 0.0080\n",
            "Epoch 74/100\n",
            " - 0s - loss: 0.0015 - val_loss: 0.0078\n",
            "Epoch 75/100\n",
            " - 0s - loss: 0.0015 - val_loss: 0.0066\n",
            "Epoch 76/100\n",
            " - 0s - loss: 0.0015 - val_loss: 0.0065\n",
            "Epoch 77/100\n",
            " - 0s - loss: 0.0015 - val_loss: 0.0077\n",
            "Epoch 78/100\n",
            " - 0s - loss: 0.0014 - val_loss: 0.0064\n",
            "Epoch 79/100\n",
            " - 0s - loss: 0.0014 - val_loss: 0.0090\n",
            "Epoch 80/100\n",
            " - 0s - loss: 0.0015 - val_loss: 0.0069\n",
            "Epoch 81/100\n",
            " - 0s - loss: 0.0014 - val_loss: 0.0058\n",
            "Epoch 82/100\n",
            " - 0s - loss: 0.0014 - val_loss: 0.0073\n",
            "Epoch 83/100\n",
            " - 0s - loss: 0.0014 - val_loss: 0.0063\n",
            "Epoch 84/100\n",
            " - 0s - loss: 0.0014 - val_loss: 0.0059\n",
            "Epoch 85/100\n",
            " - 0s - loss: 0.0014 - val_loss: 0.0061\n",
            "Epoch 86/100\n",
            " - 0s - loss: 0.0015 - val_loss: 0.0062\n",
            "Epoch 87/100\n",
            " - 0s - loss: 0.0014 - val_loss: 0.0070\n",
            "Epoch 88/100\n",
            " - 0s - loss: 0.0013 - val_loss: 0.0057\n",
            "Epoch 89/100\n",
            " - 0s - loss: 0.0013 - val_loss: 0.0071\n",
            "Epoch 90/100\n",
            " - 0s - loss: 0.0014 - val_loss: 0.0067\n",
            "Epoch 91/100\n",
            " - 0s - loss: 0.0014 - val_loss: 0.0069\n",
            "Epoch 92/100\n",
            " - 0s - loss: 0.0013 - val_loss: 0.0054\n",
            "Epoch 93/100\n",
            " - 0s - loss: 0.0015 - val_loss: 0.0068\n",
            "Epoch 94/100\n",
            " - 0s - loss: 0.0013 - val_loss: 0.0056\n",
            "Epoch 95/100\n",
            " - 0s - loss: 0.0013 - val_loss: 0.0056\n",
            "Epoch 96/100\n",
            " - 0s - loss: 0.0013 - val_loss: 0.0058\n",
            "Epoch 97/100\n",
            " - 0s - loss: 0.0013 - val_loss: 0.0055\n",
            "Epoch 98/100\n",
            " - 0s - loss: 0.0014 - val_loss: 0.0054\n",
            "Epoch 99/100\n",
            " - 0s - loss: 0.0013 - val_loss: 0.0055\n",
            "Epoch 100/100\n",
            " - 0s - loss: 0.0013 - val_loss: 0.0053\n"
          ],
          "name": "stdout"
        }
      ]
    },
    {
      "cell_type": "code",
      "metadata": {
        "id": "Eq1L9LzlK6_4",
        "colab_type": "code",
        "colab": {}
      },
      "source": [
        "md = ModelCheckpoint(filepath = \"/content/best_LSTM_model.h5\", verbose = 1, save_best_only = True)"
      ],
      "execution_count": 0,
      "outputs": []
    },
    {
      "cell_type": "code",
      "metadata": {
        "id": "RMRvsH5RCUhk",
        "colab_type": "code",
        "colab": {
          "base_uri": "https://localhost:8080/",
          "height": 235
        },
        "outputId": "ea9dd09c-c2b2-40ec-cfbd-d44bac42509c"
      },
      "source": [
        "model.summary()"
      ],
      "execution_count": 52,
      "outputs": [
        {
          "output_type": "stream",
          "text": [
            "Model: \"sequential_5\"\n",
            "_________________________________________________________________\n",
            "Layer (type)                 Output Shape              Param #   \n",
            "=================================================================\n",
            "lstm_4 (LSTM)                (None, 4)                 240       \n",
            "_________________________________________________________________\n",
            "dense_5 (Dense)              (None, 1)                 5         \n",
            "=================================================================\n",
            "Total params: 245\n",
            "Trainable params: 245\n",
            "Non-trainable params: 0\n",
            "_________________________________________________________________\n"
          ],
          "name": "stdout"
        }
      ]
    },
    {
      "cell_type": "code",
      "metadata": {
        "id": "0iUForUclVun",
        "colab_type": "code",
        "colab": {}
      },
      "source": [
        "# Make predictions on the original scale of the data.\n",
        "pred = scaler.inverse_transform(model.predict(train_X))\n",
        "# Prepare Y data to also be on the original scale for interpretability.\n",
        "orig_data = scaler.inverse_transform([train_Y])\n",
        "# Calculate RMSE.\n",
        "score_train = np.sqrt(mean_squared_error(orig_data[0], pred[:, 0]))"
      ],
      "execution_count": 0,
      "outputs": []
    },
    {
      "cell_type": "code",
      "metadata": {
        "id": "9jq0Boz1lVs9",
        "colab_type": "code",
        "colab": {}
      },
      "source": [
        "# Make predictions on the original scale of the data.\n",
        "pred = scaler.inverse_transform(model.predict(test_X))\n",
        "# Prepare Y data to also be on the original scale for interpretability.\n",
        "orig_data = scaler.inverse_transform([test_Y])\n",
        "# Calculate RMSE.\n",
        "score_test = np.sqrt(mean_squared_error(orig_data[0], pred[:, 0]))"
      ],
      "execution_count": 0,
      "outputs": []
    },
    {
      "cell_type": "code",
      "metadata": {
        "id": "iCY2w2C9lVqw",
        "colab_type": "code",
        "outputId": "afc64a2d-372c-4e4c-e6f1-0ece14c9a1e4",
        "colab": {
          "base_uri": "https://localhost:8080/",
          "height": 54
        }
      },
      "source": [
        "print(\"Training data score: \",  score_train)\n",
        "print(\"Test data score: \",  score_test)"
      ],
      "execution_count": 55,
      "outputs": [
        {
          "output_type": "stream",
          "text": [
            "Training data score:  18.87615913619388\n",
            "Test data score:  37.67475199216503\n"
          ],
          "name": "stdout"
        }
      ]
    },
    {
      "cell_type": "markdown",
      "metadata": {
        "id": "zzl8BWzrNhED",
        "colab_type": "text"
      },
      "source": [
        "Mutliple Time Series"
      ]
    },
    {
      "cell_type": "code",
      "metadata": {
        "id": "6Rlh3nOglVnH",
        "colab_type": "code",
        "colab": {
          "base_uri": "https://localhost:8080/",
          "height": 401
        },
        "outputId": "d8fcab2a-748a-4f8c-8521-04fb544c52e8"
      },
      "source": [
        "!wget https://www.dropbox.com/sh/edjj4duz16m6fdj/AADeMAKVRqJfFCVp_U_rnCe5a/all_stocks_2006-01-01_to_2018-01-01.csv"
      ],
      "execution_count": 56,
      "outputs": [
        {
          "output_type": "stream",
          "text": [
            "--2019-12-22 06:07:00--  https://www.dropbox.com/sh/edjj4duz16m6fdj/AADeMAKVRqJfFCVp_U_rnCe5a/all_stocks_2006-01-01_to_2018-01-01.csv\n",
            "Resolving www.dropbox.com (www.dropbox.com)... 162.125.1.1, 2620:100:6016:1::a27d:101\n",
            "Connecting to www.dropbox.com (www.dropbox.com)|162.125.1.1|:443... connected.\n",
            "HTTP request sent, awaiting response... 301 Moved Permanently\n",
            "Location: /sh/raw/edjj4duz16m6fdj/AADeMAKVRqJfFCVp_U_rnCe5a/all_stocks_2006-01-01_to_2018-01-01.csv [following]\n",
            "--2019-12-22 06:07:00--  https://www.dropbox.com/sh/raw/edjj4duz16m6fdj/AADeMAKVRqJfFCVp_U_rnCe5a/all_stocks_2006-01-01_to_2018-01-01.csv\n",
            "Reusing existing connection to www.dropbox.com:443.\n",
            "HTTP request sent, awaiting response... 302 Found\n",
            "Location: https://uc29d95b4d9904feae29aed9022a.dl.dropboxusercontent.com/cd/0/inline/AusYQb3sFdwP0sQslKX7wpinj9L9d1b7EOX_pmPymeMUK1-v2Qci2ZTvc67ry9zBb8Gul_OM2VY9BbvHUFv1Feee24slxBCqTXLMFjSKFMBu8g/file# [following]\n",
            "--2019-12-22 06:07:00--  https://uc29d95b4d9904feae29aed9022a.dl.dropboxusercontent.com/cd/0/inline/AusYQb3sFdwP0sQslKX7wpinj9L9d1b7EOX_pmPymeMUK1-v2Qci2ZTvc67ry9zBb8Gul_OM2VY9BbvHUFv1Feee24slxBCqTXLMFjSKFMBu8g/file\n",
            "Resolving uc29d95b4d9904feae29aed9022a.dl.dropboxusercontent.com (uc29d95b4d9904feae29aed9022a.dl.dropboxusercontent.com)... 162.125.1.6, 2620:100:6016:6::a27d:106\n",
            "Connecting to uc29d95b4d9904feae29aed9022a.dl.dropboxusercontent.com (uc29d95b4d9904feae29aed9022a.dl.dropboxusercontent.com)|162.125.1.6|:443... connected.\n",
            "HTTP request sent, awaiting response... 200 OK\n",
            "Length: 4572477 (4.4M) [text/plain]\n",
            "Saving to: ‘all_stocks_2006-01-01_to_2018-01-01.csv’\n",
            "\n",
            "all_stocks_2006-01- 100%[===================>]   4.36M  7.08MB/s    in 0.6s    \n",
            "\n",
            "2019-12-22 06:07:01 (7.08 MB/s) - ‘all_stocks_2006-01-01_to_2018-01-01.csv’ saved [4572477/4572477]\n",
            "\n"
          ],
          "name": "stdout"
        }
      ]
    },
    {
      "cell_type": "code",
      "metadata": {
        "id": "rlhFt-33Ngdr",
        "colab_type": "code",
        "colab": {}
      },
      "source": [
        "data_stocks = pd.read_csv(\"/content/sample_data/all_stocks_2006-01-01_to_2018-01-01.csv\")"
      ],
      "execution_count": 0,
      "outputs": []
    },
    {
      "cell_type": "code",
      "metadata": {
        "id": "TZ8CW7bYlVj9",
        "colab_type": "code",
        "colab": {
          "base_uri": "https://localhost:8080/",
          "height": 198
        },
        "outputId": "19e6297e-bee4-4eaa-bb3b-0da700f15802"
      },
      "source": [
        "data_stocks.head()"
      ],
      "execution_count": 69,
      "outputs": [
        {
          "output_type": "execute_result",
          "data": {
            "text/html": [
              "<div>\n",
              "<style scoped>\n",
              "    .dataframe tbody tr th:only-of-type {\n",
              "        vertical-align: middle;\n",
              "    }\n",
              "\n",
              "    .dataframe tbody tr th {\n",
              "        vertical-align: top;\n",
              "    }\n",
              "\n",
              "    .dataframe thead th {\n",
              "        text-align: right;\n",
              "    }\n",
              "</style>\n",
              "<table border=\"1\" class=\"dataframe\">\n",
              "  <thead>\n",
              "    <tr style=\"text-align: right;\">\n",
              "      <th></th>\n",
              "      <th>Date</th>\n",
              "      <th>Open</th>\n",
              "      <th>High</th>\n",
              "      <th>Low</th>\n",
              "      <th>Close</th>\n",
              "      <th>Volume</th>\n",
              "      <th>Name</th>\n",
              "    </tr>\n",
              "  </thead>\n",
              "  <tbody>\n",
              "    <tr>\n",
              "      <th>0</th>\n",
              "      <td>2006-01-03</td>\n",
              "      <td>77.76</td>\n",
              "      <td>79.35</td>\n",
              "      <td>77.24</td>\n",
              "      <td>79.11</td>\n",
              "      <td>3117200</td>\n",
              "      <td>MMM</td>\n",
              "    </tr>\n",
              "    <tr>\n",
              "      <th>1</th>\n",
              "      <td>2006-01-04</td>\n",
              "      <td>79.49</td>\n",
              "      <td>79.49</td>\n",
              "      <td>78.25</td>\n",
              "      <td>78.71</td>\n",
              "      <td>2558000</td>\n",
              "      <td>MMM</td>\n",
              "    </tr>\n",
              "    <tr>\n",
              "      <th>2</th>\n",
              "      <td>2006-01-05</td>\n",
              "      <td>78.41</td>\n",
              "      <td>78.65</td>\n",
              "      <td>77.56</td>\n",
              "      <td>77.99</td>\n",
              "      <td>2529500</td>\n",
              "      <td>MMM</td>\n",
              "    </tr>\n",
              "    <tr>\n",
              "      <th>3</th>\n",
              "      <td>2006-01-06</td>\n",
              "      <td>78.64</td>\n",
              "      <td>78.90</td>\n",
              "      <td>77.64</td>\n",
              "      <td>78.63</td>\n",
              "      <td>2479500</td>\n",
              "      <td>MMM</td>\n",
              "    </tr>\n",
              "    <tr>\n",
              "      <th>4</th>\n",
              "      <td>2006-01-09</td>\n",
              "      <td>78.50</td>\n",
              "      <td>79.83</td>\n",
              "      <td>78.46</td>\n",
              "      <td>79.02</td>\n",
              "      <td>1845600</td>\n",
              "      <td>MMM</td>\n",
              "    </tr>\n",
              "  </tbody>\n",
              "</table>\n",
              "</div>"
            ],
            "text/plain": [
              "         Date   Open   High    Low  Close   Volume Name\n",
              "0  2006-01-03  77.76  79.35  77.24  79.11  3117200  MMM\n",
              "1  2006-01-04  79.49  79.49  78.25  78.71  2558000  MMM\n",
              "2  2006-01-05  78.41  78.65  77.56  77.99  2529500  MMM\n",
              "3  2006-01-06  78.64  78.90  77.64  78.63  2479500  MMM\n",
              "4  2006-01-09  78.50  79.83  78.46  79.02  1845600  MMM"
            ]
          },
          "metadata": {
            "tags": []
          },
          "execution_count": 69
        }
      ]
    },
    {
      "cell_type": "code",
      "metadata": {
        "id": "R6sb45ohlVhn",
        "colab_type": "code",
        "colab": {
          "base_uri": "https://localhost:8080/",
          "height": 35
        },
        "outputId": "f8a9a3f4-2b5f-499c-fd1f-28130ed5dae7"
      },
      "source": [
        "data_stocks.shape"
      ],
      "execution_count": 70,
      "outputs": [
        {
          "output_type": "execute_result",
          "data": {
            "text/plain": [
              "(93612, 7)"
            ]
          },
          "metadata": {
            "tags": []
          },
          "execution_count": 70
        }
      ]
    },
    {
      "cell_type": "code",
      "metadata": {
        "id": "Fub1aArblVf0",
        "colab_type": "code",
        "colab": {}
      },
      "source": [
        "data = data_stocks[['Date','Close','Name']]"
      ],
      "execution_count": 0,
      "outputs": []
    },
    {
      "cell_type": "code",
      "metadata": {
        "id": "sMMz-G2ulVcR",
        "colab_type": "code",
        "colab": {
          "base_uri": "https://localhost:8080/",
          "height": 198
        },
        "outputId": "f14fabbb-335b-40e3-c2fe-43ad6cbec6a0"
      },
      "source": [
        "data.head()"
      ],
      "execution_count": 72,
      "outputs": [
        {
          "output_type": "execute_result",
          "data": {
            "text/html": [
              "<div>\n",
              "<style scoped>\n",
              "    .dataframe tbody tr th:only-of-type {\n",
              "        vertical-align: middle;\n",
              "    }\n",
              "\n",
              "    .dataframe tbody tr th {\n",
              "        vertical-align: top;\n",
              "    }\n",
              "\n",
              "    .dataframe thead th {\n",
              "        text-align: right;\n",
              "    }\n",
              "</style>\n",
              "<table border=\"1\" class=\"dataframe\">\n",
              "  <thead>\n",
              "    <tr style=\"text-align: right;\">\n",
              "      <th></th>\n",
              "      <th>Date</th>\n",
              "      <th>Close</th>\n",
              "      <th>Name</th>\n",
              "    </tr>\n",
              "  </thead>\n",
              "  <tbody>\n",
              "    <tr>\n",
              "      <th>0</th>\n",
              "      <td>2006-01-03</td>\n",
              "      <td>79.11</td>\n",
              "      <td>MMM</td>\n",
              "    </tr>\n",
              "    <tr>\n",
              "      <th>1</th>\n",
              "      <td>2006-01-04</td>\n",
              "      <td>78.71</td>\n",
              "      <td>MMM</td>\n",
              "    </tr>\n",
              "    <tr>\n",
              "      <th>2</th>\n",
              "      <td>2006-01-05</td>\n",
              "      <td>77.99</td>\n",
              "      <td>MMM</td>\n",
              "    </tr>\n",
              "    <tr>\n",
              "      <th>3</th>\n",
              "      <td>2006-01-06</td>\n",
              "      <td>78.63</td>\n",
              "      <td>MMM</td>\n",
              "    </tr>\n",
              "    <tr>\n",
              "      <th>4</th>\n",
              "      <td>2006-01-09</td>\n",
              "      <td>79.02</td>\n",
              "      <td>MMM</td>\n",
              "    </tr>\n",
              "  </tbody>\n",
              "</table>\n",
              "</div>"
            ],
            "text/plain": [
              "         Date  Close Name\n",
              "0  2006-01-03  79.11  MMM\n",
              "1  2006-01-04  78.71  MMM\n",
              "2  2006-01-05  77.99  MMM\n",
              "3  2006-01-06  78.63  MMM\n",
              "4  2006-01-09  79.02  MMM"
            ]
          },
          "metadata": {
            "tags": []
          },
          "execution_count": 72
        }
      ]
    },
    {
      "cell_type": "code",
      "metadata": {
        "id": "SAWJ_379Plqw",
        "colab_type": "code",
        "colab": {
          "base_uri": "https://localhost:8080/",
          "height": 599
        },
        "outputId": "bfd65328-9717-40ff-81de-3597a66e565b"
      },
      "source": [
        "data.Name.value_counts()"
      ],
      "execution_count": 75,
      "outputs": [
        {
          "output_type": "execute_result",
          "data": {
            "text/plain": [
              "AXP      3020\n",
              "MCD      3020\n",
              "JNJ      3020\n",
              "TRV      3020\n",
              "CAT      3020\n",
              "UNH      3020\n",
              "CVX      3020\n",
              "MMM      3020\n",
              "IBM      3020\n",
              "WMT      3020\n",
              "HD       3020\n",
              "XOM      3020\n",
              "UTX      3020\n",
              "DIS      3020\n",
              "BA       3020\n",
              "KO       3020\n",
              "GS       3020\n",
              "PG       3020\n",
              "PFE      3020\n",
              "NKE      3020\n",
              "VZ       3020\n",
              "JPM      3020\n",
              "GE       3020\n",
              "MSFT     3019\n",
              "INTC     3019\n",
              "AAPL     3019\n",
              "CSCO     3019\n",
              "GOOGL    3019\n",
              "AABA     3019\n",
              "AMZN     3019\n",
              "MRK      3019\n",
              "Name: Name, dtype: int64"
            ]
          },
          "metadata": {
            "tags": []
          },
          "execution_count": 75
        }
      ]
    },
    {
      "cell_type": "code",
      "metadata": {
        "id": "ScWStn8olVYG",
        "colab_type": "code",
        "colab": {
          "base_uri": "https://localhost:8080/",
          "height": 630
        },
        "outputId": "e6f2a3e0-f0e0-4f1b-d7f7-523b63a57428"
      },
      "source": [
        "multi_ts = data.pivot_table(columns = \"Name\",values=\"Close\",index = \"Date\")\n",
        "multi_ts"
      ],
      "execution_count": 74,
      "outputs": [
        {
          "output_type": "execute_result",
          "data": {
            "text/html": [
              "<div>\n",
              "<style scoped>\n",
              "    .dataframe tbody tr th:only-of-type {\n",
              "        vertical-align: middle;\n",
              "    }\n",
              "\n",
              "    .dataframe tbody tr th {\n",
              "        vertical-align: top;\n",
              "    }\n",
              "\n",
              "    .dataframe thead th {\n",
              "        text-align: right;\n",
              "    }\n",
              "</style>\n",
              "<table border=\"1\" class=\"dataframe\">\n",
              "  <thead>\n",
              "    <tr style=\"text-align: right;\">\n",
              "      <th>Name</th>\n",
              "      <th>AABA</th>\n",
              "      <th>AAPL</th>\n",
              "      <th>AMZN</th>\n",
              "      <th>AXP</th>\n",
              "      <th>BA</th>\n",
              "      <th>CAT</th>\n",
              "      <th>CSCO</th>\n",
              "      <th>CVX</th>\n",
              "      <th>DIS</th>\n",
              "      <th>GE</th>\n",
              "      <th>GOOGL</th>\n",
              "      <th>GS</th>\n",
              "      <th>HD</th>\n",
              "      <th>IBM</th>\n",
              "      <th>INTC</th>\n",
              "      <th>JNJ</th>\n",
              "      <th>JPM</th>\n",
              "      <th>KO</th>\n",
              "      <th>MCD</th>\n",
              "      <th>MMM</th>\n",
              "      <th>MRK</th>\n",
              "      <th>MSFT</th>\n",
              "      <th>NKE</th>\n",
              "      <th>PFE</th>\n",
              "      <th>PG</th>\n",
              "      <th>TRV</th>\n",
              "      <th>UNH</th>\n",
              "      <th>UTX</th>\n",
              "      <th>VZ</th>\n",
              "      <th>WMT</th>\n",
              "      <th>XOM</th>\n",
              "    </tr>\n",
              "    <tr>\n",
              "      <th>Date</th>\n",
              "      <th></th>\n",
              "      <th></th>\n",
              "      <th></th>\n",
              "      <th></th>\n",
              "      <th></th>\n",
              "      <th></th>\n",
              "      <th></th>\n",
              "      <th></th>\n",
              "      <th></th>\n",
              "      <th></th>\n",
              "      <th></th>\n",
              "      <th></th>\n",
              "      <th></th>\n",
              "      <th></th>\n",
              "      <th></th>\n",
              "      <th></th>\n",
              "      <th></th>\n",
              "      <th></th>\n",
              "      <th></th>\n",
              "      <th></th>\n",
              "      <th></th>\n",
              "      <th></th>\n",
              "      <th></th>\n",
              "      <th></th>\n",
              "      <th></th>\n",
              "      <th></th>\n",
              "      <th></th>\n",
              "      <th></th>\n",
              "      <th></th>\n",
              "      <th></th>\n",
              "      <th></th>\n",
              "    </tr>\n",
              "  </thead>\n",
              "  <tbody>\n",
              "    <tr>\n",
              "      <th>2006-01-03</th>\n",
              "      <td>40.91</td>\n",
              "      <td>10.68</td>\n",
              "      <td>47.58</td>\n",
              "      <td>52.58</td>\n",
              "      <td>70.44</td>\n",
              "      <td>57.80</td>\n",
              "      <td>17.45</td>\n",
              "      <td>59.08</td>\n",
              "      <td>24.40</td>\n",
              "      <td>35.37</td>\n",
              "      <td>217.83</td>\n",
              "      <td>128.87</td>\n",
              "      <td>41.24</td>\n",
              "      <td>82.06</td>\n",
              "      <td>25.57</td>\n",
              "      <td>61.63</td>\n",
              "      <td>40.19</td>\n",
              "      <td>20.45</td>\n",
              "      <td>33.52</td>\n",
              "      <td>79.11</td>\n",
              "      <td>32.75</td>\n",
              "      <td>26.84</td>\n",
              "      <td>10.74</td>\n",
              "      <td>23.78</td>\n",
              "      <td>58.78</td>\n",
              "      <td>45.99</td>\n",
              "      <td>61.73</td>\n",
              "      <td>56.53</td>\n",
              "      <td>30.38</td>\n",
              "      <td>46.23</td>\n",
              "      <td>58.47</td>\n",
              "    </tr>\n",
              "    <tr>\n",
              "      <th>2006-01-04</th>\n",
              "      <td>40.97</td>\n",
              "      <td>10.71</td>\n",
              "      <td>47.25</td>\n",
              "      <td>51.95</td>\n",
              "      <td>71.17</td>\n",
              "      <td>59.27</td>\n",
              "      <td>17.85</td>\n",
              "      <td>58.91</td>\n",
              "      <td>23.99</td>\n",
              "      <td>35.32</td>\n",
              "      <td>222.84</td>\n",
              "      <td>127.09</td>\n",
              "      <td>40.48</td>\n",
              "      <td>81.95</td>\n",
              "      <td>25.91</td>\n",
              "      <td>62.58</td>\n",
              "      <td>39.62</td>\n",
              "      <td>20.41</td>\n",
              "      <td>33.82</td>\n",
              "      <td>78.71</td>\n",
              "      <td>33.13</td>\n",
              "      <td>26.97</td>\n",
              "      <td>10.69</td>\n",
              "      <td>24.55</td>\n",
              "      <td>58.89</td>\n",
              "      <td>46.50</td>\n",
              "      <td>61.88</td>\n",
              "      <td>56.19</td>\n",
              "      <td>31.27</td>\n",
              "      <td>46.32</td>\n",
              "      <td>58.57</td>\n",
              "    </tr>\n",
              "    <tr>\n",
              "      <th>2006-01-05</th>\n",
              "      <td>41.53</td>\n",
              "      <td>10.63</td>\n",
              "      <td>47.65</td>\n",
              "      <td>52.50</td>\n",
              "      <td>70.33</td>\n",
              "      <td>59.27</td>\n",
              "      <td>18.35</td>\n",
              "      <td>58.19</td>\n",
              "      <td>24.41</td>\n",
              "      <td>35.23</td>\n",
              "      <td>225.85</td>\n",
              "      <td>127.04</td>\n",
              "      <td>40.08</td>\n",
              "      <td>82.50</td>\n",
              "      <td>26.27</td>\n",
              "      <td>62.32</td>\n",
              "      <td>39.74</td>\n",
              "      <td>20.51</td>\n",
              "      <td>33.86</td>\n",
              "      <td>77.99</td>\n",
              "      <td>33.18</td>\n",
              "      <td>26.99</td>\n",
              "      <td>10.76</td>\n",
              "      <td>24.58</td>\n",
              "      <td>58.70</td>\n",
              "      <td>46.95</td>\n",
              "      <td>61.69</td>\n",
              "      <td>55.98</td>\n",
              "      <td>31.63</td>\n",
              "      <td>45.69</td>\n",
              "      <td>58.28</td>\n",
              "    </tr>\n",
              "    <tr>\n",
              "      <th>2006-01-06</th>\n",
              "      <td>43.21</td>\n",
              "      <td>10.90</td>\n",
              "      <td>47.87</td>\n",
              "      <td>52.68</td>\n",
              "      <td>69.35</td>\n",
              "      <td>60.45</td>\n",
              "      <td>18.77</td>\n",
              "      <td>59.25</td>\n",
              "      <td>24.74</td>\n",
              "      <td>35.47</td>\n",
              "      <td>233.06</td>\n",
              "      <td>128.84</td>\n",
              "      <td>40.38</td>\n",
              "      <td>84.95</td>\n",
              "      <td>26.31</td>\n",
              "      <td>62.60</td>\n",
              "      <td>40.02</td>\n",
              "      <td>20.70</td>\n",
              "      <td>34.06</td>\n",
              "      <td>78.63</td>\n",
              "      <td>33.12</td>\n",
              "      <td>26.91</td>\n",
              "      <td>10.72</td>\n",
              "      <td>24.85</td>\n",
              "      <td>58.64</td>\n",
              "      <td>47.21</td>\n",
              "      <td>62.90</td>\n",
              "      <td>56.16</td>\n",
              "      <td>31.35</td>\n",
              "      <td>45.88</td>\n",
              "      <td>59.43</td>\n",
              "    </tr>\n",
              "    <tr>\n",
              "      <th>2006-01-09</th>\n",
              "      <td>43.42</td>\n",
              "      <td>10.86</td>\n",
              "      <td>47.08</td>\n",
              "      <td>53.99</td>\n",
              "      <td>68.77</td>\n",
              "      <td>61.55</td>\n",
              "      <td>19.06</td>\n",
              "      <td>58.95</td>\n",
              "      <td>25.00</td>\n",
              "      <td>35.38</td>\n",
              "      <td>233.68</td>\n",
              "      <td>130.39</td>\n",
              "      <td>40.82</td>\n",
              "      <td>83.73</td>\n",
              "      <td>26.47</td>\n",
              "      <td>62.99</td>\n",
              "      <td>40.67</td>\n",
              "      <td>20.80</td>\n",
              "      <td>34.71</td>\n",
              "      <td>79.02</td>\n",
              "      <td>33.66</td>\n",
              "      <td>26.86</td>\n",
              "      <td>10.88</td>\n",
              "      <td>24.85</td>\n",
              "      <td>59.08</td>\n",
              "      <td>47.23</td>\n",
              "      <td>61.40</td>\n",
              "      <td>56.80</td>\n",
              "      <td>31.48</td>\n",
              "      <td>45.71</td>\n",
              "      <td>59.40</td>\n",
              "    </tr>\n",
              "    <tr>\n",
              "      <th>...</th>\n",
              "      <td>...</td>\n",
              "      <td>...</td>\n",
              "      <td>...</td>\n",
              "      <td>...</td>\n",
              "      <td>...</td>\n",
              "      <td>...</td>\n",
              "      <td>...</td>\n",
              "      <td>...</td>\n",
              "      <td>...</td>\n",
              "      <td>...</td>\n",
              "      <td>...</td>\n",
              "      <td>...</td>\n",
              "      <td>...</td>\n",
              "      <td>...</td>\n",
              "      <td>...</td>\n",
              "      <td>...</td>\n",
              "      <td>...</td>\n",
              "      <td>...</td>\n",
              "      <td>...</td>\n",
              "      <td>...</td>\n",
              "      <td>...</td>\n",
              "      <td>...</td>\n",
              "      <td>...</td>\n",
              "      <td>...</td>\n",
              "      <td>...</td>\n",
              "      <td>...</td>\n",
              "      <td>...</td>\n",
              "      <td>...</td>\n",
              "      <td>...</td>\n",
              "      <td>...</td>\n",
              "      <td>...</td>\n",
              "    </tr>\n",
              "    <tr>\n",
              "      <th>2017-12-22</th>\n",
              "      <td>71.58</td>\n",
              "      <td>175.01</td>\n",
              "      <td>1168.36</td>\n",
              "      <td>98.74</td>\n",
              "      <td>295.10</td>\n",
              "      <td>155.75</td>\n",
              "      <td>38.55</td>\n",
              "      <td>124.98</td>\n",
              "      <td>108.67</td>\n",
              "      <td>17.50</td>\n",
              "      <td>1068.86</td>\n",
              "      <td>258.97</td>\n",
              "      <td>188.13</td>\n",
              "      <td>152.50</td>\n",
              "      <td>46.70</td>\n",
              "      <td>140.12</td>\n",
              "      <td>107.45</td>\n",
              "      <td>45.59</td>\n",
              "      <td>171.42</td>\n",
              "      <td>234.73</td>\n",
              "      <td>56.36</td>\n",
              "      <td>85.51</td>\n",
              "      <td>63.29</td>\n",
              "      <td>36.14</td>\n",
              "      <td>92.13</td>\n",
              "      <td>134.39</td>\n",
              "      <td>220.00</td>\n",
              "      <td>127.23</td>\n",
              "      <td>53.19</td>\n",
              "      <td>98.21</td>\n",
              "      <td>83.97</td>\n",
              "    </tr>\n",
              "    <tr>\n",
              "      <th>2017-12-26</th>\n",
              "      <td>69.86</td>\n",
              "      <td>170.57</td>\n",
              "      <td>1176.76</td>\n",
              "      <td>98.57</td>\n",
              "      <td>295.36</td>\n",
              "      <td>156.44</td>\n",
              "      <td>38.48</td>\n",
              "      <td>125.98</td>\n",
              "      <td>108.12</td>\n",
              "      <td>17.43</td>\n",
              "      <td>1065.85</td>\n",
              "      <td>257.72</td>\n",
              "      <td>190.36</td>\n",
              "      <td>152.83</td>\n",
              "      <td>46.08</td>\n",
              "      <td>140.09</td>\n",
              "      <td>107.02</td>\n",
              "      <td>45.81</td>\n",
              "      <td>171.29</td>\n",
              "      <td>235.45</td>\n",
              "      <td>56.34</td>\n",
              "      <td>85.40</td>\n",
              "      <td>63.65</td>\n",
              "      <td>36.21</td>\n",
              "      <td>92.48</td>\n",
              "      <td>134.78</td>\n",
              "      <td>219.60</td>\n",
              "      <td>127.14</td>\n",
              "      <td>53.22</td>\n",
              "      <td>99.16</td>\n",
              "      <td>83.98</td>\n",
              "    </tr>\n",
              "    <tr>\n",
              "      <th>2017-12-27</th>\n",
              "      <td>70.06</td>\n",
              "      <td>170.60</td>\n",
              "      <td>1182.26</td>\n",
              "      <td>99.13</td>\n",
              "      <td>295.62</td>\n",
              "      <td>157.52</td>\n",
              "      <td>38.56</td>\n",
              "      <td>125.55</td>\n",
              "      <td>107.64</td>\n",
              "      <td>17.38</td>\n",
              "      <td>1060.20</td>\n",
              "      <td>255.95</td>\n",
              "      <td>190.19</td>\n",
              "      <td>153.13</td>\n",
              "      <td>46.11</td>\n",
              "      <td>140.57</td>\n",
              "      <td>107.22</td>\n",
              "      <td>45.93</td>\n",
              "      <td>172.67</td>\n",
              "      <td>236.20</td>\n",
              "      <td>56.34</td>\n",
              "      <td>85.71</td>\n",
              "      <td>62.95</td>\n",
              "      <td>36.33</td>\n",
              "      <td>92.10</td>\n",
              "      <td>134.77</td>\n",
              "      <td>220.42</td>\n",
              "      <td>127.58</td>\n",
              "      <td>53.28</td>\n",
              "      <td>99.26</td>\n",
              "      <td>83.90</td>\n",
              "    </tr>\n",
              "    <tr>\n",
              "      <th>2017-12-28</th>\n",
              "      <td>69.82</td>\n",
              "      <td>171.08</td>\n",
              "      <td>1186.10</td>\n",
              "      <td>99.70</td>\n",
              "      <td>296.35</td>\n",
              "      <td>158.42</td>\n",
              "      <td>38.59</td>\n",
              "      <td>125.58</td>\n",
              "      <td>107.77</td>\n",
              "      <td>17.36</td>\n",
              "      <td>1055.95</td>\n",
              "      <td>256.50</td>\n",
              "      <td>189.78</td>\n",
              "      <td>154.04</td>\n",
              "      <td>46.22</td>\n",
              "      <td>140.56</td>\n",
              "      <td>107.79</td>\n",
              "      <td>45.72</td>\n",
              "      <td>173.10</td>\n",
              "      <td>235.72</td>\n",
              "      <td>56.60</td>\n",
              "      <td>85.72</td>\n",
              "      <td>62.95</td>\n",
              "      <td>36.37</td>\n",
              "      <td>92.07</td>\n",
              "      <td>135.66</td>\n",
              "      <td>222.77</td>\n",
              "      <td>128.12</td>\n",
              "      <td>53.43</td>\n",
              "      <td>99.40</td>\n",
              "      <td>84.02</td>\n",
              "    </tr>\n",
              "    <tr>\n",
              "      <th>2017-12-29</th>\n",
              "      <td>69.85</td>\n",
              "      <td>169.23</td>\n",
              "      <td>1169.47</td>\n",
              "      <td>99.31</td>\n",
              "      <td>294.91</td>\n",
              "      <td>157.58</td>\n",
              "      <td>38.30</td>\n",
              "      <td>125.19</td>\n",
              "      <td>107.51</td>\n",
              "      <td>17.45</td>\n",
              "      <td>1053.40</td>\n",
              "      <td>254.76</td>\n",
              "      <td>189.53</td>\n",
              "      <td>153.42</td>\n",
              "      <td>46.16</td>\n",
              "      <td>139.72</td>\n",
              "      <td>106.94</td>\n",
              "      <td>45.88</td>\n",
              "      <td>172.12</td>\n",
              "      <td>235.37</td>\n",
              "      <td>56.27</td>\n",
              "      <td>85.54</td>\n",
              "      <td>62.55</td>\n",
              "      <td>36.22</td>\n",
              "      <td>91.88</td>\n",
              "      <td>135.64</td>\n",
              "      <td>220.46</td>\n",
              "      <td>127.57</td>\n",
              "      <td>52.93</td>\n",
              "      <td>98.75</td>\n",
              "      <td>83.64</td>\n",
              "    </tr>\n",
              "  </tbody>\n",
              "</table>\n",
              "<p>3020 rows × 31 columns</p>\n",
              "</div>"
            ],
            "text/plain": [
              "Name         AABA    AAPL     AMZN    AXP  ...     UTX     VZ    WMT    XOM\n",
              "Date                                       ...                             \n",
              "2006-01-03  40.91   10.68    47.58  52.58  ...   56.53  30.38  46.23  58.47\n",
              "2006-01-04  40.97   10.71    47.25  51.95  ...   56.19  31.27  46.32  58.57\n",
              "2006-01-05  41.53   10.63    47.65  52.50  ...   55.98  31.63  45.69  58.28\n",
              "2006-01-06  43.21   10.90    47.87  52.68  ...   56.16  31.35  45.88  59.43\n",
              "2006-01-09  43.42   10.86    47.08  53.99  ...   56.80  31.48  45.71  59.40\n",
              "...           ...     ...      ...    ...  ...     ...    ...    ...    ...\n",
              "2017-12-22  71.58  175.01  1168.36  98.74  ...  127.23  53.19  98.21  83.97\n",
              "2017-12-26  69.86  170.57  1176.76  98.57  ...  127.14  53.22  99.16  83.98\n",
              "2017-12-27  70.06  170.60  1182.26  99.13  ...  127.58  53.28  99.26  83.90\n",
              "2017-12-28  69.82  171.08  1186.10  99.70  ...  128.12  53.43  99.40  84.02\n",
              "2017-12-29  69.85  169.23  1169.47  99.31  ...  127.57  52.93  98.75  83.64\n",
              "\n",
              "[3020 rows x 31 columns]"
            ]
          },
          "metadata": {
            "tags": []
          },
          "execution_count": 74
        }
      ]
    },
    {
      "cell_type": "code",
      "metadata": {
        "id": "Kol5ZGJpP81c",
        "colab_type": "code",
        "colab": {
          "base_uri": "https://localhost:8080/",
          "height": 617
        },
        "outputId": "b563698d-330b-4b2d-e449-62ec209d4af0"
      },
      "source": [
        "multi_ts.isnull().sum()"
      ],
      "execution_count": 76,
      "outputs": [
        {
          "output_type": "execute_result",
          "data": {
            "text/plain": [
              "Name\n",
              "AABA     1\n",
              "AAPL     1\n",
              "AMZN     1\n",
              "AXP      0\n",
              "BA       0\n",
              "CAT      0\n",
              "CSCO     1\n",
              "CVX      0\n",
              "DIS      0\n",
              "GE       0\n",
              "GOOGL    1\n",
              "GS       0\n",
              "HD       0\n",
              "IBM      0\n",
              "INTC     1\n",
              "JNJ      0\n",
              "JPM      0\n",
              "KO       0\n",
              "MCD      0\n",
              "MMM      0\n",
              "MRK      1\n",
              "MSFT     1\n",
              "NKE      0\n",
              "PFE      0\n",
              "PG       0\n",
              "TRV      0\n",
              "UNH      0\n",
              "UTX      0\n",
              "VZ       0\n",
              "WMT      0\n",
              "XOM      0\n",
              "dtype: int64"
            ]
          },
          "metadata": {
            "tags": []
          },
          "execution_count": 76
        }
      ]
    },
    {
      "cell_type": "code",
      "metadata": {
        "id": "y_InHBqLP8q4",
        "colab_type": "code",
        "colab": {}
      },
      "source": [
        "multi_ts.fillna(0, inplace = True)"
      ],
      "execution_count": 0,
      "outputs": []
    },
    {
      "cell_type": "code",
      "metadata": {
        "id": "Ka5rxWL1P8mz",
        "colab_type": "code",
        "colab": {
          "base_uri": "https://localhost:8080/",
          "height": 617
        },
        "outputId": "57b42e00-a7a0-4148-9987-29d019708a9b"
      },
      "source": [
        "multi_ts.isnull().sum()"
      ],
      "execution_count": 78,
      "outputs": [
        {
          "output_type": "execute_result",
          "data": {
            "text/plain": [
              "Name\n",
              "AABA     0\n",
              "AAPL     0\n",
              "AMZN     0\n",
              "AXP      0\n",
              "BA       0\n",
              "CAT      0\n",
              "CSCO     0\n",
              "CVX      0\n",
              "DIS      0\n",
              "GE       0\n",
              "GOOGL    0\n",
              "GS       0\n",
              "HD       0\n",
              "IBM      0\n",
              "INTC     0\n",
              "JNJ      0\n",
              "JPM      0\n",
              "KO       0\n",
              "MCD      0\n",
              "MMM      0\n",
              "MRK      0\n",
              "MSFT     0\n",
              "NKE      0\n",
              "PFE      0\n",
              "PG       0\n",
              "TRV      0\n",
              "UNH      0\n",
              "UTX      0\n",
              "VZ       0\n",
              "WMT      0\n",
              "XOM      0\n",
              "dtype: int64"
            ]
          },
          "metadata": {
            "tags": []
          },
          "execution_count": 78
        }
      ]
    },
    {
      "cell_type": "code",
      "metadata": {
        "id": "rMXTKLSgP8k0",
        "colab_type": "code",
        "colab": {
          "base_uri": "https://localhost:8080/",
          "height": 108
        },
        "outputId": "1aadc300-9a06-4dc7-a3c4-ca9a582434a8"
      },
      "source": [
        "multi_ts.columns"
      ],
      "execution_count": 79,
      "outputs": [
        {
          "output_type": "execute_result",
          "data": {
            "text/plain": [
              "Index(['AABA', 'AAPL', 'AMZN', 'AXP', 'BA', 'CAT', 'CSCO', 'CVX', 'DIS', 'GE',\n",
              "       'GOOGL', 'GS', 'HD', 'IBM', 'INTC', 'JNJ', 'JPM', 'KO', 'MCD', 'MMM',\n",
              "       'MRK', 'MSFT', 'NKE', 'PFE', 'PG', 'TRV', 'UNH', 'UTX', 'VZ', 'WMT',\n",
              "       'XOM'],\n",
              "      dtype='object', name='Name')"
            ]
          },
          "metadata": {
            "tags": []
          },
          "execution_count": 79
        }
      ]
    },
    {
      "cell_type": "code",
      "metadata": {
        "id": "b4WgxPdLP8fS",
        "colab_type": "code",
        "colab": {}
      },
      "source": [
        "scaler = MinMaxScaler(feature_range=(0,1))\n",
        "\n",
        "dataset = scaler.fit_transform(multi_ts)"
      ],
      "execution_count": 0,
      "outputs": []
    },
    {
      "cell_type": "code",
      "metadata": {
        "id": "4rVa3V9RP8b4",
        "colab_type": "code",
        "colab": {
          "base_uri": "https://localhost:8080/",
          "height": 254
        },
        "outputId": "bde2d416-6249-4383-ce51-17b3311fd7cd"
      },
      "source": [
        "dataset"
      ],
      "execution_count": 81,
      "outputs": [
        {
          "output_type": "execute_result",
          "data": {
            "text/plain": [
              "array([[0.56094886, 0.06053735, 0.03978826, ..., 0.16852146, 0.06904969,\n",
              "        0.03974064],\n",
              "       [0.56177156, 0.0607074 , 0.03951231, ..., 0.19682035, 0.07061901,\n",
              "        0.04183225],\n",
              "       [0.56945016, 0.06025394, 0.0398468 , ..., 0.20826709, 0.05963383,\n",
              "        0.03576658],\n",
              "       ...,\n",
              "       [0.9606472 , 0.96701054, 0.98865223, ..., 0.89666137, 0.99372276,\n",
              "        0.57163773],\n",
              "       [0.95735637, 0.96973132, 0.99186339, ..., 0.90143084, 0.99616391,\n",
              "        0.57414767],\n",
              "       [0.95776772, 0.95924498, 0.97795673, ..., 0.88553259, 0.98482999,\n",
              "        0.56619954]])"
            ]
          },
          "metadata": {
            "tags": []
          },
          "execution_count": 81
        }
      ]
    },
    {
      "cell_type": "code",
      "metadata": {
        "id": "PhEzSd3ZP8U4",
        "colab_type": "code",
        "colab": {}
      },
      "source": [
        "train_fraction = 0.90\n",
        "\n",
        "train_size = int(len(dataset) * train_fraction)\n",
        "test_size = len(dataset) - train_size\n",
        "train, test = dataset[0:train_size, ], dataset[train_size:len(dataset), ]"
      ],
      "execution_count": 0,
      "outputs": []
    },
    {
      "cell_type": "code",
      "metadata": {
        "id": "DHrxrESnP8I8",
        "colab_type": "code",
        "colab": {
          "base_uri": "https://localhost:8080/",
          "height": 35
        },
        "outputId": "006535c9-824f-4d84-9896-dc36be9a0c32"
      },
      "source": [
        "train.shape, test.shape"
      ],
      "execution_count": 98,
      "outputs": [
        {
          "output_type": "execute_result",
          "data": {
            "text/plain": [
              "((2718, 31), (302, 31))"
            ]
          },
          "metadata": {
            "tags": []
          },
          "execution_count": 98
        }
      ]
    },
    {
      "cell_type": "code",
      "metadata": {
        "id": "zDKhdZSWXNEo",
        "colab_type": "code",
        "colab": {}
      },
      "source": [
        "def create_dataset(dataset, window_size = 1):\n",
        "    data_X, data_Y = [], []\n",
        "    for i in range(len(dataset) - window_size - 1):\n",
        "        a = dataset[i:(i + window_size),]\n",
        "        data_X.append(a)\n",
        "        data_Y.append(dataset[i + window_size, 0])\n",
        "    return(np.array(data_X), np.array(data_Y))"
      ],
      "execution_count": 0,
      "outputs": []
    },
    {
      "cell_type": "code",
      "metadata": {
        "id": "npE4qllDV0Ki",
        "colab_type": "code",
        "colab": {}
      },
      "source": [
        "window_size = 10\n",
        "train_X, train_Y = create_dataset(train,window_size=10)\n",
        "test_X, test_Y = create_dataset(test,window_size=10)"
      ],
      "execution_count": 0,
      "outputs": []
    },
    {
      "cell_type": "code",
      "metadata": {
        "id": "M0tVYmG4V0GM",
        "colab_type": "code",
        "colab": {
          "base_uri": "https://localhost:8080/",
          "height": 35
        },
        "outputId": "bd59749b-098a-4bf7-855f-49931cdab19e"
      },
      "source": [
        "train_X.shape"
      ],
      "execution_count": 101,
      "outputs": [
        {
          "output_type": "execute_result",
          "data": {
            "text/plain": [
              "(2707, 10, 31)"
            ]
          },
          "metadata": {
            "tags": []
          },
          "execution_count": 101
        }
      ]
    },
    {
      "cell_type": "code",
      "metadata": {
        "id": "oDUynAs1V0Bg",
        "colab_type": "code",
        "colab": {
          "base_uri": "https://localhost:8080/",
          "height": 35
        },
        "outputId": "83712906-7d35-4644-fa1d-31393c64d63f"
      },
      "source": [
        "train_Y.shape"
      ],
      "execution_count": 102,
      "outputs": [
        {
          "output_type": "execute_result",
          "data": {
            "text/plain": [
              "(2707,)"
            ]
          },
          "metadata": {
            "tags": []
          },
          "execution_count": 102
        }
      ]
    },
    {
      "cell_type": "code",
      "metadata": {
        "id": "tVYCp3udV0AL",
        "colab_type": "code",
        "colab": {
          "base_uri": "https://localhost:8080/",
          "height": 35
        },
        "outputId": "cda26988-98c1-4e33-c3e1-577abb78a324"
      },
      "source": [
        "train_X[0].shape"
      ],
      "execution_count": 103,
      "outputs": [
        {
          "output_type": "execute_result",
          "data": {
            "text/plain": [
              "(10, 31)"
            ]
          },
          "metadata": {
            "tags": []
          },
          "execution_count": 103
        }
      ]
    },
    {
      "cell_type": "markdown",
      "metadata": {
        "id": "WzVlEVquf6Hz",
        "colab_type": "text"
      },
      "source": [
        "the Reshape done below is different from the code present in LMS. [0] is the feature and [2] is the target and then the windows size"
      ]
    },
    {
      "cell_type": "code",
      "metadata": {
        "id": "vT9fKqjyVz7R",
        "colab_type": "code",
        "colab": {}
      },
      "source": [
        "train_X = np.reshape(train_X, (train_X.shape[0],  train_X.shape[2],window_size,))\n",
        "test_X = np.reshape(test_X, (test_X.shape[0], test_X.shape[2], window_size,))"
      ],
      "execution_count": 0,
      "outputs": []
    },
    {
      "cell_type": "code",
      "metadata": {
        "id": "rT8EgnL6VzzP",
        "colab_type": "code",
        "colab": {
          "base_uri": "https://localhost:8080/",
          "height": 145
        },
        "outputId": "28d74d73-491d-4382-dca7-f0beb7005b37"
      },
      "source": [
        "model = Sequential()\n",
        "model.add(LSTM(4, input_shape=(train_X.shape[1], window_size)))\n",
        "model.add(Dense(1))\n",
        "model.compile(loss='mean_squared_error', optimizer='adam')\n",
        "model.fit(train_X, train_Y, epochs=3, batch_size=1, verbose=1)"
      ],
      "execution_count": 106,
      "outputs": [
        {
          "output_type": "stream",
          "text": [
            "Epoch 1/3\n",
            "2707/2707 [==============================] - 45s 17ms/step - loss: 0.0077\n",
            "Epoch 2/3\n",
            "2707/2707 [==============================] - 43s 16ms/step - loss: 0.0020\n",
            "Epoch 3/3\n",
            "2707/2707 [==============================] - 44s 16ms/step - loss: 0.0016\n"
          ],
          "name": "stdout"
        },
        {
          "output_type": "execute_result",
          "data": {
            "text/plain": [
              "<keras.callbacks.History at 0x7f054e6baac8>"
            ]
          },
          "metadata": {
            "tags": []
          },
          "execution_count": 106
        }
      ]
    },
    {
      "cell_type": "code",
      "metadata": {
        "id": "CaGLoH4KbdQd",
        "colab_type": "code",
        "colab": {}
      },
      "source": [
        "testPredict = model.predict(test_X)"
      ],
      "execution_count": 0,
      "outputs": []
    },
    {
      "cell_type": "markdown",
      "metadata": {
        "id": "nkVwkSWKfZ61",
        "colab_type": "text"
      },
      "source": [
        "the below line of code will retransform the code back to the orginal scale as we did MinMax scaler"
      ]
    },
    {
      "cell_type": "code",
      "metadata": {
        "id": "8jnyIJexbdJ9",
        "colab_type": "code",
        "colab": {}
      },
      "source": [
        "def inverse_transform(data,ymax,ymin):\n",
        "    newdata=ymin+data*(ymax-ymin)\n",
        "    return(newdata)"
      ],
      "execution_count": 0,
      "outputs": []
    },
    {
      "cell_type": "markdown",
      "metadata": {
        "id": "IMdwFqo7ftE2",
        "colab_type": "text"
      },
      "source": [
        "The y_min and y_max is directly searched from the target variable(AABA) column and then feed into the function prepared."
      ]
    },
    {
      "cell_type": "code",
      "metadata": {
        "id": "kJ0xFrMjbdDY",
        "colab_type": "code",
        "colab": {}
      },
      "source": [
        "y_min=min(multi_ts['AABA'])\n",
        "y_max=max(multi_ts['AABA'])\n",
        "testPredict = inverse_transform(testPredict,y_max,y_min)\n",
        "test_Y = inverse_transform(test_Y,y_max,y_min)"
      ],
      "execution_count": 0,
      "outputs": []
    },
    {
      "cell_type": "code",
      "metadata": {
        "id": "FxHQLJWqbcy_",
        "colab_type": "code",
        "colab": {
          "base_uri": "https://localhost:8080/",
          "height": 35
        },
        "outputId": "6013b3ed-fc52-4d56-a5df-688bc5b81c13"
      },
      "source": [
        "import math\n",
        "\n",
        "testScore = math.sqrt(mean_squared_error(test_Y, testPredict))\n",
        "print('Test Score: %.2f RMSE' % (testScore))"
      ],
      "execution_count": 110,
      "outputs": [
        {
          "output_type": "stream",
          "text": [
            "Test Score: 9.15 RMSE\n"
          ],
          "name": "stdout"
        }
      ]
    }
  ]
}