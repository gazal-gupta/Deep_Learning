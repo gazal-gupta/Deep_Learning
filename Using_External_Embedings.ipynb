{
  "nbformat": 4,
  "nbformat_minor": 0,
  "metadata": {
    "colab": {
      "name": "Using External Embedings_inClass.ipynb",
      "provenance": [],
      "collapsed_sections": [],
      "include_colab_link": true
    },
    "kernelspec": {
      "name": "python3",
      "display_name": "Python 3"
    }
  },
  "cells": [
    {
      "cell_type": "markdown",
      "metadata": {
        "id": "view-in-github",
        "colab_type": "text"
      },
      "source": [
        "<a href=\"https://colab.research.google.com/github/gazal-gupta/Deep_Learning/blob/master/Using_External_Embedings.ipynb\" target=\"_parent\"><img src=\"https://colab.research.google.com/assets/colab-badge.svg\" alt=\"Open In Colab\"/></a>"
      ]
    },
    {
      "cell_type": "code",
      "metadata": {
        "id": "2Gi-6fNG9gU_",
        "colab_type": "code",
        "colab": {}
      },
      "source": [
        "import numpy as np\n",
        "import pandas as pd\n",
        "from keras.layers import LSTM,GRU, Activation, Dense, Dropout,Flatten, Input, Embedding\n",
        "from keras.models import Model\n",
        "\n",
        "from keras.models import Sequential\n",
        "from keras.layers.convolutional import Conv1D\n",
        "from keras.layers.convolutional import MaxPooling1D , GlobalMaxPooling1D"
      ],
      "execution_count": 0,
      "outputs": []
    },
    {
      "cell_type": "code",
      "metadata": {
        "id": "avaPpd909rA5",
        "colab_type": "code",
        "outputId": "3d50a351-7f55-44df-9338-2d581242288d",
        "colab": {
          "base_uri": "https://localhost:8080/",
          "height": 381
        }
      },
      "source": [
        "#download embedings\n",
        "!wget http://nlp.stanford.edu/data/glove.42B.300d.zip"
      ],
      "execution_count": 2,
      "outputs": [
        {
          "output_type": "stream",
          "text": [
            "--2019-12-29 04:55:14--  http://nlp.stanford.edu/data/glove.42B.300d.zip\n",
            "Resolving nlp.stanford.edu (nlp.stanford.edu)... 171.64.67.140\n",
            "Connecting to nlp.stanford.edu (nlp.stanford.edu)|171.64.67.140|:80... connected.\n",
            "HTTP request sent, awaiting response... 302 Found\n",
            "Location: https://nlp.stanford.edu/data/glove.42B.300d.zip [following]\n",
            "--2019-12-29 04:55:19--  https://nlp.stanford.edu/data/glove.42B.300d.zip\n",
            "Connecting to nlp.stanford.edu (nlp.stanford.edu)|171.64.67.140|:443... connected.\n",
            "HTTP request sent, awaiting response... 301 Moved Permanently\n",
            "Location: http://downloads.cs.stanford.edu/nlp/data/glove.42B.300d.zip [following]\n",
            "--2019-12-29 04:55:19--  http://downloads.cs.stanford.edu/nlp/data/glove.42B.300d.zip\n",
            "Resolving downloads.cs.stanford.edu (downloads.cs.stanford.edu)... 171.64.64.22\n",
            "Connecting to downloads.cs.stanford.edu (downloads.cs.stanford.edu)|171.64.64.22|:80... connected.\n",
            "HTTP request sent, awaiting response... 200 OK\n",
            "Length: 1877800501 (1.7G) [application/zip]\n",
            "Saving to: ‘glove.42B.300d.zip’\n",
            "\n",
            "glove.42B.300d.zip  100%[===================>]   1.75G  2.00MB/s    in 14m 33s \n",
            "\n",
            "2019-12-29 05:09:52 (2.05 MB/s) - ‘glove.42B.300d.zip’ saved [1877800501/1877800501]\n",
            "\n"
          ],
          "name": "stdout"
        }
      ]
    },
    {
      "cell_type": "code",
      "metadata": {
        "id": "yxZFty4J9q9u",
        "colab_type": "code",
        "outputId": "7a802f3d-ff65-42b8-b762-184f9af3b321",
        "colab": {
          "base_uri": "https://localhost:8080/",
          "height": 54
        }
      },
      "source": [
        "#unzip the file \n",
        "!unzip glove*.zip"
      ],
      "execution_count": 3,
      "outputs": [
        {
          "output_type": "stream",
          "text": [
            "Archive:  glove.42B.300d.zip\n",
            "  inflating: glove.42B.300d.txt      \n"
          ],
          "name": "stdout"
        }
      ]
    },
    {
      "cell_type": "code",
      "metadata": {
        "id": "5BfLQWuy9q6T",
        "colab_type": "code",
        "colab": {}
      },
      "source": [
        "#store 300 size vector representation different words from the file to a disctionary\n",
        "embedding_index = {}\n",
        "f = open('glove.42B.300d.txt',encoding='utf-8')\n",
        "for line in f:\n",
        "  value = line.split()\n",
        "  word = value[0]\n",
        "  coeffs = np.asarray(value[1:],dtype = 'float32')\n",
        "  embedding_index[word] = coeffs\n",
        "f.close()"
      ],
      "execution_count": 0,
      "outputs": []
    },
    {
      "cell_type": "code",
      "metadata": {
        "id": "Qgxp5A7lIn8u",
        "colab_type": "code",
        "outputId": "207eac0b-4bc9-463f-98c4-b582310922e0",
        "colab": {
          "base_uri": "https://localhost:8080/",
          "height": 35
        }
      },
      "source": [
        "len(embedding_index)"
      ],
      "execution_count": 5,
      "outputs": [
        {
          "output_type": "execute_result",
          "data": {
            "text/plain": [
              "1917494"
            ]
          },
          "metadata": {
            "tags": []
          },
          "execution_count": 5
        }
      ]
    },
    {
      "cell_type": "code",
      "metadata": {
        "id": "vwn8oxGS9qvA",
        "colab_type": "code",
        "outputId": "8d5df454-6047-415b-dbe3-93dfba5f746c",
        "colab": {
          "base_uri": "https://localhost:8080/",
          "height": 401
        }
      },
      "source": [
        "# download data file to colab\n",
        "!wget https://www.dropbox.com/s/1kvm3qqtxn5bhgx/yelp_labelled.txt"
      ],
      "execution_count": 6,
      "outputs": [
        {
          "output_type": "stream",
          "text": [
            "--2019-12-29 05:13:30--  https://www.dropbox.com/s/1kvm3qqtxn5bhgx/yelp_labelled.txt\n",
            "Resolving www.dropbox.com (www.dropbox.com)... 162.125.8.1, 2620:100:601f:1::a27d:901\n",
            "Connecting to www.dropbox.com (www.dropbox.com)|162.125.8.1|:443... connected.\n",
            "HTTP request sent, awaiting response... 301 Moved Permanently\n",
            "Location: /s/raw/1kvm3qqtxn5bhgx/yelp_labelled.txt [following]\n",
            "--2019-12-29 05:13:31--  https://www.dropbox.com/s/raw/1kvm3qqtxn5bhgx/yelp_labelled.txt\n",
            "Reusing existing connection to www.dropbox.com:443.\n",
            "HTTP request sent, awaiting response... 302 Found\n",
            "Location: https://ucc3aa1550ea9d05e85ff1e9e948.dl.dropboxusercontent.com/cd/0/inline/AvJJXozYPsY91C1W3xKI6phu6SaIHLkB1QVQZVxZMfJmNlMeHdI_WE2BVU7CizUurYDN9Ub7g4xGS4xh8m5MCK14S6XEVYwnRXvhpODZh_b2Cw/file# [following]\n",
            "--2019-12-29 05:13:31--  https://ucc3aa1550ea9d05e85ff1e9e948.dl.dropboxusercontent.com/cd/0/inline/AvJJXozYPsY91C1W3xKI6phu6SaIHLkB1QVQZVxZMfJmNlMeHdI_WE2BVU7CizUurYDN9Ub7g4xGS4xh8m5MCK14S6XEVYwnRXvhpODZh_b2Cw/file\n",
            "Resolving ucc3aa1550ea9d05e85ff1e9e948.dl.dropboxusercontent.com (ucc3aa1550ea9d05e85ff1e9e948.dl.dropboxusercontent.com)... 162.125.9.6, 2620:100:601b:6::a27d:806\n",
            "Connecting to ucc3aa1550ea9d05e85ff1e9e948.dl.dropboxusercontent.com (ucc3aa1550ea9d05e85ff1e9e948.dl.dropboxusercontent.com)|162.125.9.6|:443... connected.\n",
            "HTTP request sent, awaiting response... 200 OK\n",
            "Length: 61319 (60K) [text/plain]\n",
            "Saving to: ‘yelp_labelled.txt’\n",
            "\n",
            "\ryelp_labelled.txt     0%[                    ]       0  --.-KB/s               \ryelp_labelled.txt   100%[===================>]  59.88K  --.-KB/s    in 0.04s   \n",
            "\n",
            "2019-12-29 05:13:31 (1.63 MB/s) - ‘yelp_labelled.txt’ saved [61319/61319]\n",
            "\n"
          ],
          "name": "stdout"
        }
      ]
    },
    {
      "cell_type": "code",
      "metadata": {
        "id": "LbdvbRr79qqI",
        "colab_type": "code",
        "colab": {}
      },
      "source": [
        "data=pd.read_csv('/content/yelp_labelled.txt',sep='\\t',header=None)"
      ],
      "execution_count": 0,
      "outputs": []
    },
    {
      "cell_type": "code",
      "metadata": {
        "id": "61M_EToDGbrh",
        "colab_type": "code",
        "colab": {}
      },
      "source": [
        "data.columns=['review','sentiment']"
      ],
      "execution_count": 0,
      "outputs": []
    },
    {
      "cell_type": "code",
      "metadata": {
        "id": "8WW08s73IT6F",
        "colab_type": "code",
        "outputId": "ccf01e69-c875-4d62-811d-2a63d3184006",
        "colab": {
          "base_uri": "https://localhost:8080/",
          "height": 35
        }
      },
      "source": [
        "data.shape"
      ],
      "execution_count": 47,
      "outputs": [
        {
          "output_type": "execute_result",
          "data": {
            "text/plain": [
              "(1000, 2)"
            ]
          },
          "metadata": {
            "tags": []
          },
          "execution_count": 47
        }
      ]
    },
    {
      "cell_type": "code",
      "metadata": {
        "id": "39UAlciHJH-F",
        "colab_type": "code",
        "outputId": "1deefd1c-736e-497b-e45b-6183d76f4556",
        "colab": {
          "base_uri": "https://localhost:8080/",
          "height": 198
        }
      },
      "source": [
        "data.head()"
      ],
      "execution_count": 48,
      "outputs": [
        {
          "output_type": "execute_result",
          "data": {
            "text/html": [
              "<div>\n",
              "<style scoped>\n",
              "    .dataframe tbody tr th:only-of-type {\n",
              "        vertical-align: middle;\n",
              "    }\n",
              "\n",
              "    .dataframe tbody tr th {\n",
              "        vertical-align: top;\n",
              "    }\n",
              "\n",
              "    .dataframe thead th {\n",
              "        text-align: right;\n",
              "    }\n",
              "</style>\n",
              "<table border=\"1\" class=\"dataframe\">\n",
              "  <thead>\n",
              "    <tr style=\"text-align: right;\">\n",
              "      <th></th>\n",
              "      <th>review</th>\n",
              "      <th>sentiment</th>\n",
              "    </tr>\n",
              "  </thead>\n",
              "  <tbody>\n",
              "    <tr>\n",
              "      <th>0</th>\n",
              "      <td>Wow... Loved this place.</td>\n",
              "      <td>1</td>\n",
              "    </tr>\n",
              "    <tr>\n",
              "      <th>1</th>\n",
              "      <td>Crust is not good.</td>\n",
              "      <td>0</td>\n",
              "    </tr>\n",
              "    <tr>\n",
              "      <th>2</th>\n",
              "      <td>Not tasty and the texture was just nasty.</td>\n",
              "      <td>0</td>\n",
              "    </tr>\n",
              "    <tr>\n",
              "      <th>3</th>\n",
              "      <td>Stopped by during the late May bank holiday of...</td>\n",
              "      <td>1</td>\n",
              "    </tr>\n",
              "    <tr>\n",
              "      <th>4</th>\n",
              "      <td>The selection on the menu was great and so wer...</td>\n",
              "      <td>1</td>\n",
              "    </tr>\n",
              "  </tbody>\n",
              "</table>\n",
              "</div>"
            ],
            "text/plain": [
              "                                              review  sentiment\n",
              "0                           Wow... Loved this place.          1\n",
              "1                                 Crust is not good.          0\n",
              "2          Not tasty and the texture was just nasty.          0\n",
              "3  Stopped by during the late May bank holiday of...          1\n",
              "4  The selection on the menu was great and so wer...          1"
            ]
          },
          "metadata": {
            "tags": []
          },
          "execution_count": 48
        }
      ]
    },
    {
      "cell_type": "code",
      "metadata": {
        "id": "Qvw1dLg8IT20",
        "colab_type": "code",
        "colab": {}
      },
      "source": [
        "from sklearn.model_selection import train_test_split\n",
        "data_train,data_test=train_test_split(data,test_size=0.2)"
      ],
      "execution_count": 0,
      "outputs": []
    },
    {
      "cell_type": "code",
      "metadata": {
        "id": "NA1VNPXWITzX",
        "colab_type": "code",
        "colab": {}
      },
      "source": [
        "x_train = data_train['review']\n",
        "y_train = data_train['sentiment']\n",
        "x_test  = data_test['review']\n",
        "y_test  = data_test['sentiment']"
      ],
      "execution_count": 0,
      "outputs": []
    },
    {
      "cell_type": "code",
      "metadata": {
        "id": "cRZjcBazITvw",
        "colab_type": "code",
        "colab": {}
      },
      "source": [
        "from keras.preprocessing.text import Tokenizer\n",
        "from keras.preprocessing import sequence\n",
        "from keras.layers import LSTM,Activation,Dense,Input,Embedding,Dropout\n",
        "from keras.models import Model"
      ],
      "execution_count": 0,
      "outputs": []
    },
    {
      "cell_type": "code",
      "metadata": {
        "id": "kFyB380EITnu",
        "colab_type": "code",
        "colab": {}
      },
      "source": [
        "from nltk import word_tokenize"
      ],
      "execution_count": 0,
      "outputs": []
    },
    {
      "cell_type": "code",
      "metadata": {
        "id": "SfISR-onJANm",
        "colab_type": "code",
        "outputId": "a184591e-a94f-422a-c4d3-b0a662d034e8",
        "colab": {
          "base_uri": "https://localhost:8080/",
          "height": 72
        }
      },
      "source": [
        ">>> import nltk\n",
        ">>> nltk.download('punkt')"
      ],
      "execution_count": 53,
      "outputs": [
        {
          "output_type": "stream",
          "text": [
            "[nltk_data] Downloading package punkt to /root/nltk_data...\n",
            "[nltk_data]   Package punkt is already up-to-date!\n"
          ],
          "name": "stdout"
        },
        {
          "output_type": "execute_result",
          "data": {
            "text/plain": [
              "True"
            ]
          },
          "metadata": {
            "tags": []
          },
          "execution_count": 53
        }
      ]
    },
    {
      "cell_type": "code",
      "metadata": {
        "id": "FZQMxdtvIkxR",
        "colab_type": "code",
        "colab": {}
      },
      "source": [
        "sent_lens=[len(word_tokenize(x)) for x in x_train]"
      ],
      "execution_count": 0,
      "outputs": []
    },
    {
      "cell_type": "code",
      "metadata": {
        "id": "nh8NOSkEIvE7",
        "colab_type": "code",
        "outputId": "8811561e-43d7-4d62-c656-1274cfc66527",
        "colab": {
          "base_uri": "https://localhost:8080/",
          "height": 35
        }
      },
      "source": [
        "max(sent_lens)"
      ],
      "execution_count": 55,
      "outputs": [
        {
          "output_type": "execute_result",
          "data": {
            "text/plain": [
              "34"
            ]
          },
          "metadata": {
            "tags": []
          },
          "execution_count": 55
        }
      ]
    },
    {
      "cell_type": "code",
      "metadata": {
        "id": "HpGh755HIvB1",
        "colab_type": "code",
        "outputId": "ef66ee05-1cb6-480a-9fad-48bf9ccca2e7",
        "colab": {
          "base_uri": "https://localhost:8080/",
          "height": 35
        }
      },
      "source": [
        "np.percentile(sent_lens,95)"
      ],
      "execution_count": 56,
      "outputs": [
        {
          "output_type": "execute_result",
          "data": {
            "text/plain": [
              "25.0"
            ]
          },
          "metadata": {
            "tags": []
          },
          "execution_count": 56
        }
      ]
    },
    {
      "cell_type": "markdown",
      "metadata": {
        "id": "fI7MZBPzJ2mA",
        "colab_type": "text"
      },
      "source": [
        "training only on x_train, this will increase the acurracy only on test set. will help in project"
      ]
    },
    {
      "cell_type": "code",
      "metadata": {
        "id": "FJ52TCyPIu-U",
        "colab_type": "code",
        "colab": {}
      },
      "source": [
        "max_len=25\n",
        "\n",
        "tk=Tokenizer(char_level=False,split=' ')\n",
        "\n",
        "tk.fit_on_texts(x_train)\n",
        "\n",
        "seq_train=tk.texts_to_sequences(x_train)\n",
        "seq_test=tk.texts_to_sequences(x_test)\n",
        "\n",
        "vocab_size=len(tk.word_index)\n",
        "\n",
        "seq_train_matrix=sequence.pad_sequences(seq_train,maxlen=max_len)\n",
        "seq_test_matrix=sequence.pad_sequences(seq_test,maxlen=max_len)"
      ],
      "execution_count": 0,
      "outputs": []
    },
    {
      "cell_type": "code",
      "metadata": {
        "id": "e4JzC-AlJ7za",
        "colab_type": "code",
        "outputId": "3297fa33-b400-46bb-f764-892d2e758359",
        "colab": {
          "base_uri": "https://localhost:8080/",
          "height": 35
        }
      },
      "source": [
        "seq_train_matrix.shape"
      ],
      "execution_count": 58,
      "outputs": [
        {
          "output_type": "execute_result",
          "data": {
            "text/plain": [
              "(800, 25)"
            ]
          },
          "metadata": {
            "tags": []
          },
          "execution_count": 58
        }
      ]
    },
    {
      "cell_type": "code",
      "metadata": {
        "id": "NBEHY5dAKAUg",
        "colab_type": "code",
        "outputId": "2ee05d78-7160-417c-d508-433034faf35d",
        "colab": {
          "base_uri": "https://localhost:8080/",
          "height": 72
        }
      },
      "source": [
        "seq_train_matrix[2]"
      ],
      "execution_count": 59,
      "outputs": [
        {
          "output_type": "execute_result",
          "data": {
            "text/plain": [
              "array([  0,   0,   1,  17,   4,   5, 134, 135, 500,  28,  27, 248,  89,\n",
              "       250, 149, 251,  24,   1,  12,   4, 136,  11,   5, 135, 501],\n",
              "      dtype=int32)"
            ]
          },
          "metadata": {
            "tags": []
          },
          "execution_count": 59
        }
      ]
    },
    {
      "cell_type": "code",
      "metadata": {
        "id": "MAPD-LAoIu8w",
        "colab_type": "code",
        "outputId": "f7916130-0e81-4ccf-9c07-ee3148ec28ac",
        "colab": {
          "base_uri": "https://localhost:8080/",
          "height": 35
        }
      },
      "source": [
        "vocab_size"
      ],
      "execution_count": 60,
      "outputs": [
        {
          "output_type": "execute_result",
          "data": {
            "text/plain": [
              "1823"
            ]
          },
          "metadata": {
            "tags": []
          },
          "execution_count": 60
        }
      ]
    },
    {
      "cell_type": "code",
      "metadata": {
        "id": "1ABXXxxrIu4b",
        "colab_type": "code",
        "colab": {}
      },
      "source": [
        "# creating our own embedding matrix to bring down the size to 300\n",
        "# we'll use 300 D vector representation of the words from pretrained embedding index \n",
        "# that we downloaded \n",
        "\n",
        "embedding_matrix=np.zeros((vocab_size+1,300))\n",
        "\n",
        "for word,i in tk.word_index.items():\n",
        "    embed_vector=embedding_index.get(word)\n",
        "    if embed_vector is not None:\n",
        "        embedding_matrix[i]=embed_vector\n",
        "        \n",
        "# if there are specific words which are not present in pretrained embedding \n",
        "# their weights will remain 0. if there are too many such words \n",
        "# then you should probably not use pretrained embeddings \n"
      ],
      "execution_count": 0,
      "outputs": []
    },
    {
      "cell_type": "code",
      "metadata": {
        "id": "cM6ZYRRpLqqI",
        "colab_type": "code",
        "outputId": "d0df82a9-b364-4794-8886-e182f564d9fb",
        "colab": {
          "base_uri": "https://localhost:8080/",
          "height": 35
        }
      },
      "source": [
        "embedding_matrix.shape"
      ],
      "execution_count": 62,
      "outputs": [
        {
          "output_type": "execute_result",
          "data": {
            "text/plain": [
              "(1824, 300)"
            ]
          },
          "metadata": {
            "tags": []
          },
          "execution_count": 62
        }
      ]
    },
    {
      "cell_type": "markdown",
      "metadata": {
        "id": "2IkDQ_2dMA_K",
        "colab_type": "text"
      },
      "source": [
        "play with the code by combining anyone with other dense code\n",
        "\n",
        "dense2 = Dense(20,activation='relu')('dense1)\n",
        "drop - Dropout(0.2)(dense2)"
      ]
    },
    {
      "cell_type": "code",
      "metadata": {
        "id": "oOvBy6afIu1s",
        "colab_type": "code",
        "colab": {}
      },
      "source": [
        "# Now while creating the model for text data , we'll keep embedding layer weights \n",
        "# non-trainable as we are supplying those values from our end \n",
        "\n",
        "inputs=Input(name='text_input',shape=[max_len])\n",
        "embed=Embedding(vocab_size+1,300,input_length=max_len,mask_zero=True,\n",
        "                weights=[embedding_matrix],trainable=False)(inputs)\n",
        "lstm_layer=LSTM(50)(embed)\n",
        "dense1=Dense(10,activation='relu')(lstm_layer)\n",
        "drop=Dropout(0.2)(dense1)\n",
        "final_layer=Dense(1,activation='sigmoid')(drop)\n",
        "\n",
        "model=Model(inputs=inputs,outputs=final_layer)"
      ],
      "execution_count": 0,
      "outputs": []
    },
    {
      "cell_type": "code",
      "metadata": {
        "id": "JppyaH5jM9-k",
        "colab_type": "code",
        "colab": {}
      },
      "source": [
        "from keras.layers import Input, concatenate\n",
        "# Cocanting with 2 LSTM model \n",
        "\n",
        "inputs=Input(name='text_input',shape=[max_len])\n",
        "embed=Embedding(vocab_size+1,300,input_length=max_len,mask_zero=True,\n",
        "                weights=[embedding_matrix],trainable=False)(inputs)\n",
        "lstm_layer1=LSTM(50)(embed)\n",
        "lstm_layer2=LSTM(100)(embed)\n",
        "dense1=Dense(10,activation='relu')(lstm_layer1)\n",
        "dense2=Dense(20,activation='relu')(lstm_layer2)\n",
        "concat_layer = concatenate([dense1,dense2])\n",
        "dense3 = Dense(5,activation='relu')(concat_layer)\n",
        "drop=Dropout(0.2)(dense3)\n",
        "final_layer=Dense(1,activation='sigmoid')(drop)\n",
        "\n",
        "model=Model(inputs=inputs,outputs=final_layer)"
      ],
      "execution_count": 0,
      "outputs": []
    },
    {
      "cell_type": "markdown",
      "metadata": {
        "id": "ffWhMAkwNsp4",
        "colab_type": "text"
      },
      "source": [
        ""
      ]
    },
    {
      "cell_type": "code",
      "metadata": {
        "id": "kZt-Y050IuzT",
        "colab_type": "code",
        "outputId": "568b5e95-7b07-4e86-f63b-6ada8784b94e",
        "colab": {
          "base_uri": "https://localhost:8080/",
          "height": 545
        }
      },
      "source": [
        "# you can see that bulk of the weights come from embedding layer\n",
        "# using pretrained weights for the same , brings down number of trainable parameters \n",
        "# by a huge amount. This in turn results in pretty short training times \n",
        "model.summary()"
      ],
      "execution_count": 65,
      "outputs": [
        {
          "output_type": "stream",
          "text": [
            "Model: \"model_5\"\n",
            "__________________________________________________________________________________________________\n",
            "Layer (type)                    Output Shape         Param #     Connected to                     \n",
            "==================================================================================================\n",
            "text_input (InputLayer)         (None, 25)           0                                            \n",
            "__________________________________________________________________________________________________\n",
            "embedding_8 (Embedding)         (None, 25, 300)      547200      text_input[0][0]                 \n",
            "__________________________________________________________________________________________________\n",
            "lstm_5 (LSTM)                   (None, 50)           70200       embedding_8[0][0]                \n",
            "__________________________________________________________________________________________________\n",
            "lstm_6 (LSTM)                   (None, 100)          160400      embedding_8[0][0]                \n",
            "__________________________________________________________________________________________________\n",
            "dense_13 (Dense)                (None, 10)           510         lstm_5[0][0]                     \n",
            "__________________________________________________________________________________________________\n",
            "dense_14 (Dense)                (None, 20)           2020        lstm_6[0][0]                     \n",
            "__________________________________________________________________________________________________\n",
            "concatenate_2 (Concatenate)     (None, 30)           0           dense_13[0][0]                   \n",
            "                                                                 dense_14[0][0]                   \n",
            "__________________________________________________________________________________________________\n",
            "dense_15 (Dense)                (None, 5)            155         concatenate_2[0][0]              \n",
            "__________________________________________________________________________________________________\n",
            "dropout_6 (Dropout)             (None, 5)            0           dense_15[0][0]                   \n",
            "__________________________________________________________________________________________________\n",
            "dense_16 (Dense)                (None, 1)            6           dropout_6[0][0]                  \n",
            "==================================================================================================\n",
            "Total params: 780,491\n",
            "Trainable params: 233,291\n",
            "Non-trainable params: 547,200\n",
            "__________________________________________________________________________________________________\n"
          ],
          "name": "stdout"
        }
      ]
    },
    {
      "cell_type": "markdown",
      "metadata": {
        "id": "Czbfu_dmL4As",
        "colab_type": "text"
      },
      "source": [
        "25*300\n",
        "50 LSTM as 1 output therfore 50 output\n",
        "dense 10 and then dense 10"
      ]
    },
    {
      "cell_type": "code",
      "metadata": {
        "id": "GuqB05dPIuwV",
        "colab_type": "code",
        "colab": {}
      },
      "source": [
        "model.compile(optimizer='adam',loss='binary_crossentropy',metrics=['accuracy'])"
      ],
      "execution_count": 0,
      "outputs": []
    },
    {
      "cell_type": "code",
      "metadata": {
        "id": "w8-3EjjWIus4",
        "colab_type": "code",
        "outputId": "e21f08b5-63e1-4d1f-cf61-a6642feb0cc2",
        "colab": {
          "base_uri": "https://localhost:8080/",
          "height": 417
        }
      },
      "source": [
        "model.fit(seq_train_matrix,y_train,validation_data=[seq_test_matrix,y_test],epochs=10,class_weight={0:1,1:12},\n",
        "          batch_size=10000)"
      ],
      "execution_count": 67,
      "outputs": [
        {
          "output_type": "stream",
          "text": [
            "Train on 800 samples, validate on 200 samples\n",
            "Epoch 1/10\n",
            "800/800 [==============================] - 4s 5ms/step - loss: 5.2453 - acc: 0.4988 - val_loss: 0.6927 - val_acc: 0.5050\n",
            "Epoch 2/10\n",
            "800/800 [==============================] - 1s 1ms/step - loss: 4.6347 - acc: 0.4875 - val_loss: 0.6938 - val_acc: 0.4550\n",
            "Epoch 3/10\n",
            "800/800 [==============================] - 1s 1ms/step - loss: 4.5366 - acc: 0.5000 - val_loss: 0.6931 - val_acc: 0.4800\n",
            "Epoch 4/10\n",
            "800/800 [==============================] - 1s 1ms/step - loss: 4.5276 - acc: 0.5000 - val_loss: 0.6931 - val_acc: 0.4850\n",
            "Epoch 5/10\n",
            "800/800 [==============================] - 1s 1ms/step - loss: 4.5254 - acc: 0.4975 - val_loss: 0.6931 - val_acc: 0.4750\n",
            "Epoch 6/10\n",
            "800/800 [==============================] - 1s 1ms/step - loss: 4.5192 - acc: 0.5075 - val_loss: 0.6932 - val_acc: 0.4700\n",
            "Epoch 7/10\n",
            "800/800 [==============================] - 1s 1ms/step - loss: 4.5153 - acc: 0.5050 - val_loss: 0.6932 - val_acc: 0.4800\n",
            "Epoch 8/10\n",
            "800/800 [==============================] - 1s 1ms/step - loss: 4.5112 - acc: 0.5050 - val_loss: 0.6933 - val_acc: 0.4850\n",
            "Epoch 9/10\n",
            "800/800 [==============================] - 1s 1ms/step - loss: 4.5059 - acc: 0.5050 - val_loss: 0.6934 - val_acc: 0.4850\n",
            "Epoch 10/10\n",
            "800/800 [==============================] - 1s 1ms/step - loss: 4.5004 - acc: 0.5050 - val_loss: 0.6935 - val_acc: 0.4850\n"
          ],
          "name": "stdout"
        },
        {
          "output_type": "execute_result",
          "data": {
            "text/plain": [
              "<keras.callbacks.History at 0x7fa0e35483c8>"
            ]
          },
          "metadata": {
            "tags": []
          },
          "execution_count": 67
        }
      ]
    },
    {
      "cell_type": "code",
      "metadata": {
        "id": "Oc66IJjTIurr",
        "colab_type": "code",
        "colab": {}
      },
      "source": [
        "p=model.predict(seq_test_matrix)"
      ],
      "execution_count": 0,
      "outputs": []
    },
    {
      "cell_type": "code",
      "metadata": {
        "id": "yUFlL7wQIum5",
        "colab_type": "code",
        "outputId": "37d854b9-b806-486c-df73-21956afaa9bb",
        "colab": {
          "base_uri": "https://localhost:8080/",
          "height": 35
        }
      },
      "source": [
        "from sklearn.metrics import roc_auc_score\n",
        "roc_auc_score(y_test,p)"
      ],
      "execution_count": 69,
      "outputs": [
        {
          "output_type": "execute_result",
          "data": {
            "text/plain": [
              "0.5002502252026824"
            ]
          },
          "metadata": {
            "tags": []
          },
          "execution_count": 69
        }
      ]
    },
    {
      "cell_type": "code",
      "metadata": {
        "id": "netEpi_tIukW",
        "colab_type": "code",
        "colab": {
          "base_uri": "https://localhost:8080/",
          "height": 381
        },
        "outputId": "5cfe7314-67ae-4936-9491-ccf624e095fd"
      },
      "source": [
        "inputs=Input(name='text_input',shape=[max_len])\n",
        "embed=Embedding(vocab_size+1,300,input_length=max_len,mask_zero=True,\n",
        "                weights=[embedding_matrix],trainable=False)(inputs)\n",
        "GRU_layer=GRU(50)(embed)\n",
        "dense1=Dense(10,activation='relu')(GRU_layer)\n",
        "drop=Dropout(0.2)(dense1)\n",
        "final_layer=Dense(1,activation='sigmoid')(drop)\n",
        "\n",
        "model_GRU=Model(inputs=inputs,outputs=final_layer)\n",
        "model_GRU.summary()"
      ],
      "execution_count": 70,
      "outputs": [
        {
          "output_type": "stream",
          "text": [
            "Model: \"model_6\"\n",
            "_________________________________________________________________\n",
            "Layer (type)                 Output Shape              Param #   \n",
            "=================================================================\n",
            "text_input (InputLayer)      (None, 25)                0         \n",
            "_________________________________________________________________\n",
            "embedding_9 (Embedding)      (None, 25, 300)           547200    \n",
            "_________________________________________________________________\n",
            "gru_2 (GRU)                  (None, 50)                52650     \n",
            "_________________________________________________________________\n",
            "dense_17 (Dense)             (None, 10)                510       \n",
            "_________________________________________________________________\n",
            "dropout_7 (Dropout)          (None, 10)                0         \n",
            "_________________________________________________________________\n",
            "dense_18 (Dense)             (None, 1)                 11        \n",
            "=================================================================\n",
            "Total params: 600,371\n",
            "Trainable params: 53,171\n",
            "Non-trainable params: 547,200\n",
            "_________________________________________________________________\n"
          ],
          "name": "stdout"
        }
      ]
    },
    {
      "cell_type": "code",
      "metadata": {
        "id": "_LlcXS2HIuhl",
        "colab_type": "code",
        "colab": {}
      },
      "source": [
        "model_GRU.compile(optimizer='adam',loss='binary_crossentropy',metrics=['accuracy'])"
      ],
      "execution_count": 0,
      "outputs": []
    },
    {
      "cell_type": "code",
      "metadata": {
        "id": "nXk02VdKIud8",
        "colab_type": "code",
        "colab": {
          "base_uri": "https://localhost:8080/",
          "height": 417
        },
        "outputId": "01ccf97e-79f6-4e44-941b-4f3cb5c8e56a"
      },
      "source": [
        "model_GRU.fit(seq_train_matrix,y_train,validation_data=[seq_test_matrix,y_test],epochs=10,class_weight={0:1,1:12},\n",
        "          batch_size=10000)"
      ],
      "execution_count": 72,
      "outputs": [
        {
          "output_type": "stream",
          "text": [
            "Train on 800 samples, validate on 200 samples\n",
            "Epoch 1/10\n",
            "800/800 [==============================] - 2s 3ms/step - loss: 5.0663 - acc: 0.4775 - val_loss: 0.6930 - val_acc: 0.5150\n",
            "Epoch 2/10\n",
            "800/800 [==============================] - 0s 385us/step - loss: 4.6928 - acc: 0.5238 - val_loss: 0.6912 - val_acc: 0.5350\n",
            "Epoch 3/10\n",
            "800/800 [==============================] - 0s 378us/step - loss: 4.4901 - acc: 0.5437 - val_loss: 0.6908 - val_acc: 0.5400\n",
            "Epoch 4/10\n",
            "800/800 [==============================] - 0s 374us/step - loss: 4.3768 - acc: 0.5350 - val_loss: 0.6901 - val_acc: 0.5450\n",
            "Epoch 5/10\n",
            "800/800 [==============================] - 0s 376us/step - loss: 4.2033 - acc: 0.5300 - val_loss: 0.6902 - val_acc: 0.5300\n",
            "Epoch 6/10\n",
            "800/800 [==============================] - 0s 374us/step - loss: 4.0164 - acc: 0.5163 - val_loss: 0.6925 - val_acc: 0.5050\n",
            "Epoch 7/10\n",
            "800/800 [==============================] - 0s 372us/step - loss: 3.8021 - acc: 0.5200 - val_loss: 0.6987 - val_acc: 0.4900\n",
            "Epoch 8/10\n",
            "800/800 [==============================] - 0s 370us/step - loss: 3.6083 - acc: 0.4938 - val_loss: 0.7094 - val_acc: 0.4850\n",
            "Epoch 9/10\n",
            "800/800 [==============================] - 0s 378us/step - loss: 3.4266 - acc: 0.5025 - val_loss: 0.7254 - val_acc: 0.4850\n",
            "Epoch 10/10\n",
            "800/800 [==============================] - 0s 374us/step - loss: 3.1820 - acc: 0.5113 - val_loss: 0.7477 - val_acc: 0.4850\n"
          ],
          "name": "stdout"
        },
        {
          "output_type": "execute_result",
          "data": {
            "text/plain": [
              "<keras.callbacks.History at 0x7fa0e31ad828>"
            ]
          },
          "metadata": {
            "tags": []
          },
          "execution_count": 72
        }
      ]
    },
    {
      "cell_type": "code",
      "metadata": {
        "id": "S9W_czKNIucv",
        "colab_type": "code",
        "colab": {
          "base_uri": "https://localhost:8080/",
          "height": 35
        },
        "outputId": "39a66534-4dd5-4084-a2cb-16a2fdaeedb9"
      },
      "source": [
        "p=model_GRU.predict(seq_test_matrix)\n",
        "from sklearn.metrics import roc_auc_score\n",
        "roc_auc_score(y_test,p)"
      ],
      "execution_count": 80,
      "outputs": [
        {
          "output_type": "execute_result",
          "data": {
            "text/plain": [
              "0.6168551696526874"
            ]
          },
          "metadata": {
            "tags": []
          },
          "execution_count": 80
        }
      ]
    },
    {
      "cell_type": "markdown",
      "metadata": {
        "id": "Z7-C2oF-FbOf",
        "colab_type": "text"
      },
      "source": [
        "Analysis by Conv1D"
      ]
    },
    {
      "cell_type": "code",
      "metadata": {
        "id": "1WZ4h0ethL0K",
        "colab_type": "code",
        "colab": {}
      },
      "source": [
        ""
      ],
      "execution_count": 0,
      "outputs": []
    },
    {
      "cell_type": "code",
      "metadata": {
        "id": "U-vDkp5IIuXs",
        "colab_type": "code",
        "colab": {
          "base_uri": "https://localhost:8080/",
          "height": 381
        },
        "outputId": "df578607-90c8-4697-9158-fa21ca621704"
      },
      "source": [
        "#model.add(Conv1D (kernel_size = (200), filters = 20, batch_input_shape=input_shape, activation='elu'))\n",
        "from keras.layers import GlobalMaxPooling1D\n",
        "model_3 = Sequential()\n",
        "model_3.add(Embedding(vocab_size+1,300,input_length=max_len,weights=[embedding_matrix],trainable=False))\n",
        "model_3.add(Conv1D(filters=64, kernel_size=2, activation='relu', padding = 'same'))\n",
        "model_3.add(GlobalMaxPooling1D())\n",
        "#model_3.add(Flatten())\n",
        "model_3.add(Dense(150, activation='relu'))\n",
        "model_3.add(Dropout(0.2))\n",
        "model_3.add(Dense(1,activation='sigmoid'))\n",
        "# Compile model\n",
        "model_3.compile(loss='binary_crossentropy',optimizer='adam',\n",
        "              metrics=['accuracy'])\n",
        "model_3.summary()"
      ],
      "execution_count": 78,
      "outputs": [
        {
          "output_type": "stream",
          "text": [
            "Model: \"sequential_8\"\n",
            "_________________________________________________________________\n",
            "Layer (type)                 Output Shape              Param #   \n",
            "=================================================================\n",
            "embedding_11 (Embedding)     (None, 25, 300)           547200    \n",
            "_________________________________________________________________\n",
            "conv1d_7 (Conv1D)            (None, 25, 64)            38464     \n",
            "_________________________________________________________________\n",
            "global_max_pooling1d_3 (Glob (None, 64)                0         \n",
            "_________________________________________________________________\n",
            "dense_21 (Dense)             (None, 150)               9750      \n",
            "_________________________________________________________________\n",
            "dropout_9 (Dropout)          (None, 150)               0         \n",
            "_________________________________________________________________\n",
            "dense_22 (Dense)             (None, 1)                 151       \n",
            "=================================================================\n",
            "Total params: 595,565\n",
            "Trainable params: 48,365\n",
            "Non-trainable params: 547,200\n",
            "_________________________________________________________________\n"
          ],
          "name": "stdout"
        }
      ]
    },
    {
      "cell_type": "code",
      "metadata": {
        "id": "nHeBffTQFvlw",
        "colab_type": "code",
        "colab": {
          "base_uri": "https://localhost:8080/",
          "height": 1000
        },
        "outputId": "2c465947-26f4-40c4-c42d-8191e6c89f14"
      },
      "source": [
        "model_3.fit(seq_train_matrix,y_train, validation_data=(seq_test_matrix,y_test),batch_size=50,epochs=50, verbose=1)"
      ],
      "execution_count": 79,
      "outputs": [
        {
          "output_type": "stream",
          "text": [
            "Train on 800 samples, validate on 200 samples\n",
            "Epoch 1/50\n",
            "800/800 [==============================] - 2s 2ms/step - loss: 0.6776 - acc: 0.5700 - val_loss: 0.6331 - val_acc: 0.6750\n",
            "Epoch 2/50\n",
            "800/800 [==============================] - 0s 225us/step - loss: 0.5216 - acc: 0.7987 - val_loss: 0.5406 - val_acc: 0.7200\n",
            "Epoch 3/50\n",
            "800/800 [==============================] - 0s 257us/step - loss: 0.3594 - acc: 0.8725 - val_loss: 0.4905 - val_acc: 0.7700\n",
            "Epoch 4/50\n",
            "800/800 [==============================] - 0s 226us/step - loss: 0.2393 - acc: 0.9200 - val_loss: 0.4613 - val_acc: 0.7700\n",
            "Epoch 5/50\n",
            "800/800 [==============================] - 0s 221us/step - loss: 0.1626 - acc: 0.9488 - val_loss: 0.4533 - val_acc: 0.7900\n",
            "Epoch 6/50\n",
            "800/800 [==============================] - 0s 222us/step - loss: 0.1080 - acc: 0.9713 - val_loss: 0.4666 - val_acc: 0.8000\n",
            "Epoch 7/50\n",
            "800/800 [==============================] - 0s 227us/step - loss: 0.0698 - acc: 0.9925 - val_loss: 0.4948 - val_acc: 0.7900\n",
            "Epoch 8/50\n",
            "800/800 [==============================] - 0s 220us/step - loss: 0.0488 - acc: 0.9963 - val_loss: 0.5194 - val_acc: 0.7900\n",
            "Epoch 9/50\n",
            "800/800 [==============================] - 0s 238us/step - loss: 0.0311 - acc: 0.9975 - val_loss: 0.5407 - val_acc: 0.7800\n",
            "Epoch 10/50\n",
            "800/800 [==============================] - 0s 224us/step - loss: 0.0198 - acc: 0.9988 - val_loss: 0.5778 - val_acc: 0.7950\n",
            "Epoch 11/50\n",
            "800/800 [==============================] - 0s 228us/step - loss: 0.0146 - acc: 0.9988 - val_loss: 0.6081 - val_acc: 0.7850\n",
            "Epoch 12/50\n",
            "800/800 [==============================] - 0s 214us/step - loss: 0.0095 - acc: 1.0000 - val_loss: 0.6505 - val_acc: 0.7800\n",
            "Epoch 13/50\n",
            "800/800 [==============================] - 0s 223us/step - loss: 0.0077 - acc: 1.0000 - val_loss: 0.6502 - val_acc: 0.7950\n",
            "Epoch 14/50\n",
            "800/800 [==============================] - 0s 228us/step - loss: 0.0054 - acc: 1.0000 - val_loss: 0.6753 - val_acc: 0.8000\n",
            "Epoch 15/50\n",
            "800/800 [==============================] - 0s 234us/step - loss: 0.0048 - acc: 1.0000 - val_loss: 0.7082 - val_acc: 0.7900\n",
            "Epoch 16/50\n",
            "800/800 [==============================] - 0s 249us/step - loss: 0.0037 - acc: 1.0000 - val_loss: 0.7195 - val_acc: 0.7950\n",
            "Epoch 17/50\n",
            "800/800 [==============================] - 0s 236us/step - loss: 0.0032 - acc: 1.0000 - val_loss: 0.7375 - val_acc: 0.7950\n",
            "Epoch 18/50\n",
            "800/800 [==============================] - 0s 236us/step - loss: 0.0026 - acc: 1.0000 - val_loss: 0.7476 - val_acc: 0.7950\n",
            "Epoch 19/50\n",
            "800/800 [==============================] - 0s 234us/step - loss: 0.0022 - acc: 1.0000 - val_loss: 0.7699 - val_acc: 0.7900\n",
            "Epoch 20/50\n",
            "800/800 [==============================] - 0s 244us/step - loss: 0.0021 - acc: 1.0000 - val_loss: 0.7704 - val_acc: 0.7950\n",
            "Epoch 21/50\n",
            "800/800 [==============================] - 0s 232us/step - loss: 0.0015 - acc: 1.0000 - val_loss: 0.7964 - val_acc: 0.7950\n",
            "Epoch 22/50\n",
            "800/800 [==============================] - 0s 233us/step - loss: 0.0015 - acc: 1.0000 - val_loss: 0.8105 - val_acc: 0.7950\n",
            "Epoch 23/50\n",
            "800/800 [==============================] - 0s 253us/step - loss: 0.0013 - acc: 1.0000 - val_loss: 0.8136 - val_acc: 0.7950\n",
            "Epoch 24/50\n",
            "800/800 [==============================] - 0s 245us/step - loss: 0.0011 - acc: 1.0000 - val_loss: 0.8346 - val_acc: 0.7950\n",
            "Epoch 25/50\n",
            "800/800 [==============================] - 0s 228us/step - loss: 0.0011 - acc: 1.0000 - val_loss: 0.8395 - val_acc: 0.7950\n",
            "Epoch 26/50\n",
            "800/800 [==============================] - 0s 232us/step - loss: 0.0010 - acc: 1.0000 - val_loss: 0.8494 - val_acc: 0.7950\n",
            "Epoch 27/50\n",
            "800/800 [==============================] - 0s 236us/step - loss: 7.5141e-04 - acc: 1.0000 - val_loss: 0.8616 - val_acc: 0.7950\n",
            "Epoch 28/50\n",
            "800/800 [==============================] - 0s 226us/step - loss: 7.9046e-04 - acc: 1.0000 - val_loss: 0.8705 - val_acc: 0.7950\n",
            "Epoch 29/50\n",
            "800/800 [==============================] - 0s 229us/step - loss: 6.6189e-04 - acc: 1.0000 - val_loss: 0.8758 - val_acc: 0.7950\n",
            "Epoch 30/50\n",
            "800/800 [==============================] - 0s 222us/step - loss: 5.9741e-04 - acc: 1.0000 - val_loss: 0.8916 - val_acc: 0.7950\n",
            "Epoch 31/50\n",
            "800/800 [==============================] - 0s 240us/step - loss: 5.1503e-04 - acc: 1.0000 - val_loss: 0.8934 - val_acc: 0.7950\n",
            "Epoch 32/50\n",
            "800/800 [==============================] - 0s 226us/step - loss: 5.3291e-04 - acc: 1.0000 - val_loss: 0.8991 - val_acc: 0.7950\n",
            "Epoch 33/50\n",
            "800/800 [==============================] - 0s 234us/step - loss: 4.6012e-04 - acc: 1.0000 - val_loss: 0.9140 - val_acc: 0.7950\n",
            "Epoch 34/50\n",
            "800/800 [==============================] - 0s 244us/step - loss: 4.5155e-04 - acc: 1.0000 - val_loss: 0.9175 - val_acc: 0.7950\n",
            "Epoch 35/50\n",
            "800/800 [==============================] - 0s 230us/step - loss: 3.7472e-04 - acc: 1.0000 - val_loss: 0.9289 - val_acc: 0.7950\n",
            "Epoch 36/50\n",
            "800/800 [==============================] - 0s 232us/step - loss: 3.7365e-04 - acc: 1.0000 - val_loss: 0.9285 - val_acc: 0.7950\n",
            "Epoch 37/50\n",
            "800/800 [==============================] - 0s 233us/step - loss: 3.3988e-04 - acc: 1.0000 - val_loss: 0.9407 - val_acc: 0.7950\n",
            "Epoch 38/50\n",
            "800/800 [==============================] - 0s 232us/step - loss: 3.3112e-04 - acc: 1.0000 - val_loss: 0.9498 - val_acc: 0.7900\n",
            "Epoch 39/50\n",
            "800/800 [==============================] - 0s 241us/step - loss: 3.1736e-04 - acc: 1.0000 - val_loss: 0.9599 - val_acc: 0.7900\n",
            "Epoch 40/50\n",
            "800/800 [==============================] - 0s 234us/step - loss: 2.7375e-04 - acc: 1.0000 - val_loss: 0.9661 - val_acc: 0.7900\n",
            "Epoch 41/50\n",
            "800/800 [==============================] - 0s 236us/step - loss: 3.0127e-04 - acc: 1.0000 - val_loss: 0.9695 - val_acc: 0.7900\n",
            "Epoch 42/50\n",
            "800/800 [==============================] - 0s 247us/step - loss: 2.7997e-04 - acc: 1.0000 - val_loss: 0.9728 - val_acc: 0.7900\n",
            "Epoch 43/50\n",
            "800/800 [==============================] - 0s 232us/step - loss: 3.2027e-04 - acc: 1.0000 - val_loss: 0.9840 - val_acc: 0.7900\n",
            "Epoch 44/50\n",
            "800/800 [==============================] - 0s 250us/step - loss: 2.4309e-04 - acc: 1.0000 - val_loss: 1.0025 - val_acc: 0.7700\n",
            "Epoch 45/50\n",
            "800/800 [==============================] - 0s 232us/step - loss: 2.1528e-04 - acc: 1.0000 - val_loss: 1.0000 - val_acc: 0.7850\n",
            "Epoch 46/50\n",
            "800/800 [==============================] - 0s 230us/step - loss: 2.1996e-04 - acc: 1.0000 - val_loss: 0.9995 - val_acc: 0.7950\n",
            "Epoch 47/50\n",
            "800/800 [==============================] - 0s 224us/step - loss: 2.0325e-04 - acc: 1.0000 - val_loss: 1.0112 - val_acc: 0.7850\n",
            "Epoch 48/50\n",
            "800/800 [==============================] - 0s 228us/step - loss: 1.7774e-04 - acc: 1.0000 - val_loss: 1.0190 - val_acc: 0.7750\n",
            "Epoch 49/50\n",
            "800/800 [==============================] - 0s 222us/step - loss: 1.8915e-04 - acc: 1.0000 - val_loss: 1.0145 - val_acc: 0.7900\n",
            "Epoch 50/50\n",
            "800/800 [==============================] - 0s 232us/step - loss: 1.8304e-04 - acc: 1.0000 - val_loss: 1.0282 - val_acc: 0.7850\n"
          ],
          "name": "stdout"
        },
        {
          "output_type": "execute_result",
          "data": {
            "text/plain": [
              "<keras.callbacks.History at 0x7fa0e2f03c50>"
            ]
          },
          "metadata": {
            "tags": []
          },
          "execution_count": 79
        }
      ]
    },
    {
      "cell_type": "code",
      "metadata": {
        "id": "w3Em2V_hixq4",
        "colab_type": "code",
        "colab": {
          "base_uri": "https://localhost:8080/",
          "height": 35
        },
        "outputId": "c002b5d3-2398-43e6-dd38-d545c12ec505"
      },
      "source": [
        "p=model_3.predict(seq_test_matrix)\n",
        "from sklearn.metrics import roc_auc_score\n",
        "roc_auc_score(y_test,p)"
      ],
      "execution_count": 81,
      "outputs": [
        {
          "output_type": "execute_result",
          "data": {
            "text/plain": [
              "0.8765889300370333"
            ]
          },
          "metadata": {
            "tags": []
          },
          "execution_count": 81
        }
      ]
    },
    {
      "cell_type": "code",
      "metadata": {
        "id": "e_6ikXVEkq7F",
        "colab_type": "code",
        "colab": {}
      },
      "source": [
        ""
      ],
      "execution_count": 0,
      "outputs": []
    }
  ]
}