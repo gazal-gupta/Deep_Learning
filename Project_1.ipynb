{
  "nbformat": 4,
  "nbformat_minor": 0,
  "metadata": {
    "colab": {
      "name": "Project 1.ipynb",
      "provenance": [],
      "collapsed_sections": [
        "EuG0HUhqjatU"
      ],
      "machine_shape": "hm",
      "include_colab_link": true
    },
    "kernelspec": {
      "name": "python3",
      "display_name": "Python 3"
    },
    "accelerator": "GPU"
  },
  "cells": [
    {
      "cell_type": "markdown",
      "metadata": {
        "id": "view-in-github",
        "colab_type": "text"
      },
      "source": [
        "<a href=\"https://colab.research.google.com/github/gazal-gupta/Deep_Learning/blob/master/Project_1.ipynb\" target=\"_parent\"><img src=\"https://colab.research.google.com/assets/colab-badge.svg\" alt=\"Open In Colab\"/></a>"
      ]
    },
    {
      "cell_type": "markdown",
      "metadata": {
        "id": "EuG0HUhqjatU",
        "colab_type": "text"
      },
      "source": [
        "#Problem Statement"
      ]
    },
    {
      "cell_type": "markdown",
      "metadata": {
        "id": "v0zWH2tPiPtr",
        "colab_type": "text"
      },
      "source": [
        "Project 1 : Multiclass Multilabel prediction For stack overflow Questions Download data from here : https://www.dropbox.com/s/5721wcs2guuykzl/stacksample.zip?dl=0\n",
        "\n",
        "Goal : Given text for Questions , predict tags associated with them\n",
        "\n",
        "Suggested Guidelines :\n",
        "\n",
        "Pick top 10 most occurring tags and filter data for them and build your model for them\n",
        "\n",
        "You can expand your model later on . \n",
        "\n",
        "Since there is no performance threshold and associated data given to you , you'll need to separate data in train/validation yourself\n",
        "\n",
        "Before directly jumping in with LSTM ( or any other model of your choice ) , explore this text data and see if any basic data cleaning is required .\n",
        "\n",
        "Usage of Answers.csv is optional\n",
        "\n",
        "This is a multi class - multilabel prediction problem , keep that in mind\n",
        "\n",
        "Your end solution needs to be uploaded on GitHub repo of your team\n",
        "*******************************************************************************"
      ]
    },
    {
      "cell_type": "markdown",
      "metadata": {
        "id": "XgpWVO5JjWR9",
        "colab_type": "text"
      },
      "source": [
        "#Model Starts Now"
      ]
    },
    {
      "cell_type": "code",
      "metadata": {
        "id": "2fgXV9g5iMkq",
        "colab_type": "code",
        "outputId": "39e228d1-088f-40d3-9fa6-1f2cbc1b7b44",
        "colab": {
          "base_uri": "https://localhost:8080/",
          "height": 445
        }
      },
      "source": [
        "#Fetching data online from the dropbox link given in the project. \n",
        "#Note: After disconnecting from the session data will be lost\n",
        "\n",
        "!wget https://www.dropbox.com/s/5721wcs2guuykzl/stacksample.zip"
      ],
      "execution_count": 1,
      "outputs": [
        {
          "output_type": "stream",
          "text": [
            "--2020-01-09 13:47:31--  https://www.dropbox.com/s/5721wcs2guuykzl/stacksample.zip\n",
            "Resolving www.dropbox.com (www.dropbox.com)... 162.125.82.1, 2620:100:6032:1::a27d:5201\n",
            "Connecting to www.dropbox.com (www.dropbox.com)|162.125.82.1|:443... connected.\n",
            "HTTP request sent, awaiting response... 200 OK\n",
            "Length: 1231288519 (1.1G) [application/zip]\n",
            "Saving to: ‘stacksample.zip’\n",
            "\n",
            "stacksample.zip     100%[===================>]   1.15G  4.36MB/s    in 4m 11s  \n",
            "\n",
            "2020-01-09 13:51:44 (4.67 MB/s) - ‘stacksample.zip’ saved [1231288519/1231288519]\n",
            "\n"
          ],
          "name": "stdout"
        }
      ]
    },
    {
      "cell_type": "markdown",
      "metadata": {
        "id": "EIeeR6SLIHHa",
        "colab_type": "text"
      },
      "source": [
        "https://github.com/gazal-gupta/Deep_Learning/edit/master/Project_1.ipynb\n",
            ]
    },
    {
      "cell_type": "code",
      "metadata": {
        "id": "SNeLVMhXiXfQ",
        "colab_type": "code",
        "outputId": "e03b7b17-f510-431c-941f-5161e4d43d25",
        "colab": {
          "base_uri": "https://localhost:8080/",
          "height": 85
        }
      },
      "source": [
        "#unzip the file in the google session. \n",
        "#Note: After disconnecting from the session data will be lost\n",
        "!unzip stacksample.zip"
      ],
      "execution_count": 2,
      "outputs": [
        {
          "output_type": "stream",
          "text": [
            "Archive:  stacksample.zip\n",
            "  inflating: Answers.csv             \n",
            "  inflating: Questions.csv           \n",
            "  inflating: Tags.csv                \n"
          ],
          "name": "stdout"
        }
      ]
    },
    {
      "cell_type": "code",
      "metadata": {
        "id": "T_JR8QtLoK-A",
        "colab_type": "code",
        "colab": {}
      },
      "source": [
        "import pandas as pd\n",
        "import numpy as np\n",
        "import seaborn as sns\n",
        "import matplotlib.pyplot as plt\n",
        "import os\n",
        "#print(os.listdir(\"/content\")) # verifying the contents loaded"
      ],
      "execution_count": 0,
      "outputs": []
    },
    {
      "cell_type": "code",
      "metadata": {
        "id": "vlNpLOxFhByn",
        "colab_type": "code",
        "colab": {}
      },
      "source": [
        "#Reading files\n",
        "#answers   = pd.read_csv('/content/Answers.csv', encoding='latin-1')\n",
        "questions = pd.read_csv('/content/Questions.csv', encoding='latin-1')\n",
        "tags      = pd.read_csv('/content/Tags.csv')"
      ],
      "execution_count": 0,
      "outputs": []
    },
    {
      "cell_type": "code",
      "metadata": {
        "id": "faEj2b2pvTrn",
        "colab_type": "code",
        "outputId": "afc9c1c6-ecea-4c88-819e-b8205e5cab97",
        "colab": {
          "base_uri": "https://localhost:8080/",
          "height": 51
        }
      },
      "source": [
        "#print(\"Answer Data   : \", answers.shape)\n",
        "print(\"Question Data : \", questions.shape)\n",
        "print(\"Tags Data     : \", tags.shape)"
      ],
      "execution_count": 5,
      "outputs": [
        {
          "output_type": "stream",
          "text": [
            "Question Data :  (1264216, 7)\n",
            "Tags Data     :  (3750994, 2)\n"
          ],
          "name": "stdout"
        }
      ]
    },
    {
      "cell_type": "code",
      "metadata": {
        "id": "Dd78l7TUjdF4",
        "colab_type": "code",
        "colab": {
          "base_uri": "https://localhost:8080/",
          "height": 289
        },
        "outputId": "50e2ff82-154e-43c9-fc04-97a2f7a7addc"
      },
      "source": [
        "questions.head()"
      ],
      "execution_count": 6,
      "outputs": [
        {
          "output_type": "execute_result",
          "data": {
            "text/html": [
              "<div>\n",
              "<style scoped>\n",
              "    .dataframe tbody tr th:only-of-type {\n",
              "        vertical-align: middle;\n",
              "    }\n",
              "\n",
              "    .dataframe tbody tr th {\n",
              "        vertical-align: top;\n",
              "    }\n",
              "\n",
              "    .dataframe thead th {\n",
              "        text-align: right;\n",
              "    }\n",
              "</style>\n",
              "<table border=\"1\" class=\"dataframe\">\n",
              "  <thead>\n",
              "    <tr style=\"text-align: right;\">\n",
              "      <th></th>\n",
              "      <th>Id</th>\n",
              "      <th>OwnerUserId</th>\n",
              "      <th>CreationDate</th>\n",
              "      <th>ClosedDate</th>\n",
              "      <th>Score</th>\n",
              "      <th>Title</th>\n",
              "      <th>Body</th>\n",
              "    </tr>\n",
              "  </thead>\n",
              "  <tbody>\n",
              "    <tr>\n",
              "      <th>0</th>\n",
              "      <td>80</td>\n",
              "      <td>26.0</td>\n",
              "      <td>2008-08-01T13:57:07Z</td>\n",
              "      <td>NaN</td>\n",
              "      <td>26</td>\n",
              "      <td>SQLStatement.execute() - multiple queries in o...</td>\n",
              "      <td>&lt;p&gt;I've written a database generation script i...</td>\n",
              "    </tr>\n",
              "    <tr>\n",
              "      <th>1</th>\n",
              "      <td>90</td>\n",
              "      <td>58.0</td>\n",
              "      <td>2008-08-01T14:41:24Z</td>\n",
              "      <td>2012-12-26T03:45:49Z</td>\n",
              "      <td>144</td>\n",
              "      <td>Good branching and merging tutorials for Torto...</td>\n",
              "      <td>&lt;p&gt;Are there any really good tutorials explain...</td>\n",
              "    </tr>\n",
              "    <tr>\n",
              "      <th>2</th>\n",
              "      <td>120</td>\n",
              "      <td>83.0</td>\n",
              "      <td>2008-08-01T15:50:08Z</td>\n",
              "      <td>NaN</td>\n",
              "      <td>21</td>\n",
              "      <td>ASP.NET Site Maps</td>\n",
              "      <td>&lt;p&gt;Has anyone got experience creating &lt;strong&gt;...</td>\n",
              "    </tr>\n",
              "    <tr>\n",
              "      <th>3</th>\n",
              "      <td>180</td>\n",
              "      <td>2089740.0</td>\n",
              "      <td>2008-08-01T18:42:19Z</td>\n",
              "      <td>NaN</td>\n",
              "      <td>53</td>\n",
              "      <td>Function for creating color wheels</td>\n",
              "      <td>&lt;p&gt;This is something I've pseudo-solved many t...</td>\n",
              "    </tr>\n",
              "    <tr>\n",
              "      <th>4</th>\n",
              "      <td>260</td>\n",
              "      <td>91.0</td>\n",
              "      <td>2008-08-01T23:22:08Z</td>\n",
              "      <td>NaN</td>\n",
              "      <td>49</td>\n",
              "      <td>Adding scripting functionality to .NET applica...</td>\n",
              "      <td>&lt;p&gt;I have a little game written in C#. It uses...</td>\n",
              "    </tr>\n",
              "  </tbody>\n",
              "</table>\n",
              "</div>"
            ],
            "text/plain": [
              "    Id  ...                                               Body\n",
              "0   80  ...  <p>I've written a database generation script i...\n",
              "1   90  ...  <p>Are there any really good tutorials explain...\n",
              "2  120  ...  <p>Has anyone got experience creating <strong>...\n",
              "3  180  ...  <p>This is something I've pseudo-solved many t...\n",
              "4  260  ...  <p>I have a little game written in C#. It uses...\n",
              "\n",
              "[5 rows x 7 columns]"
            ]
          },
          "metadata": {
            "tags": []
          },
          "execution_count": 6
        }
      ]
    },
    {
      "cell_type": "code",
      "metadata": {
        "id": "0HXC3n4wuPo_",
        "colab_type": "code",
        "colab": {
          "base_uri": "https://localhost:8080/",
          "height": 359
        },
        "outputId": "e6e7ff81-2a1d-485f-cd05-c4106f321275"
      },
      "source": [
        "tags.head(10)"
      ],
      "execution_count": 7,
      "outputs": [
        {
          "output_type": "execute_result",
          "data": {
            "text/html": [
              "<div>\n",
              "<style scoped>\n",
              "    .dataframe tbody tr th:only-of-type {\n",
              "        vertical-align: middle;\n",
              "    }\n",
              "\n",
              "    .dataframe tbody tr th {\n",
              "        vertical-align: top;\n",
              "    }\n",
              "\n",
              "    .dataframe thead th {\n",
              "        text-align: right;\n",
              "    }\n",
              "</style>\n",
              "<table border=\"1\" class=\"dataframe\">\n",
              "  <thead>\n",
              "    <tr style=\"text-align: right;\">\n",
              "      <th></th>\n",
              "      <th>Id</th>\n",
              "      <th>Tag</th>\n",
              "    </tr>\n",
              "  </thead>\n",
              "  <tbody>\n",
              "    <tr>\n",
              "      <th>0</th>\n",
              "      <td>80</td>\n",
              "      <td>flex</td>\n",
              "    </tr>\n",
              "    <tr>\n",
              "      <th>1</th>\n",
              "      <td>80</td>\n",
              "      <td>actionscript-3</td>\n",
              "    </tr>\n",
              "    <tr>\n",
              "      <th>2</th>\n",
              "      <td>80</td>\n",
              "      <td>air</td>\n",
              "    </tr>\n",
              "    <tr>\n",
              "      <th>3</th>\n",
              "      <td>90</td>\n",
              "      <td>svn</td>\n",
              "    </tr>\n",
              "    <tr>\n",
              "      <th>4</th>\n",
              "      <td>90</td>\n",
              "      <td>tortoisesvn</td>\n",
              "    </tr>\n",
              "    <tr>\n",
              "      <th>5</th>\n",
              "      <td>90</td>\n",
              "      <td>branch</td>\n",
              "    </tr>\n",
              "    <tr>\n",
              "      <th>6</th>\n",
              "      <td>90</td>\n",
              "      <td>branching-and-merging</td>\n",
              "    </tr>\n",
              "    <tr>\n",
              "      <th>7</th>\n",
              "      <td>120</td>\n",
              "      <td>sql</td>\n",
              "    </tr>\n",
              "    <tr>\n",
              "      <th>8</th>\n",
              "      <td>120</td>\n",
              "      <td>asp.net</td>\n",
              "    </tr>\n",
              "    <tr>\n",
              "      <th>9</th>\n",
              "      <td>120</td>\n",
              "      <td>sitemap</td>\n",
              "    </tr>\n",
              "  </tbody>\n",
              "</table>\n",
              "</div>"
            ],
            "text/plain": [
              "    Id                    Tag\n",
              "0   80                   flex\n",
              "1   80         actionscript-3\n",
              "2   80                    air\n",
              "3   90                    svn\n",
              "4   90            tortoisesvn\n",
              "5   90                 branch\n",
              "6   90  branching-and-merging\n",
              "7  120                    sql\n",
              "8  120                asp.net\n",
              "9  120                sitemap"
            ]
          },
          "metadata": {
            "tags": []
          },
          "execution_count": 7
        }
      ]
    },
    {
      "cell_type": "code",
      "metadata": {
        "id": "2llA6e5lncwD",
        "colab_type": "code",
        "outputId": "3575b524-f02e-4648-b3f4-da56bf0578b9",
        "colab": {
          "base_uri": "https://localhost:8080/",
          "height": 204
        }
      },
      "source": [
        "top_10 = tags['Tag'].value_counts().head(10) #checking which are the 10 most frequent tags\n",
        "top_10"
      ],
      "execution_count": 8,
      "outputs": [
        {
          "output_type": "execute_result",
          "data": {
            "text/plain": [
              "javascript    124155\n",
              "java          115212\n",
              "c#            101186\n",
              "php            98808\n",
              "android        90659\n",
              "jquery         78542\n",
              "python         64601\n",
              "html           58976\n",
              "c++            47591\n",
              "ios            47009\n",
              "Name: Tag, dtype: int64"
            ]
          },
          "metadata": {
            "tags": []
          },
          "execution_count": 8
        }
      ]
    },
    {
      "cell_type": "code",
      "metadata": {
        "id": "gAH1ihQDsMwW",
        "colab_type": "code",
        "outputId": "ea45c027-39ee-47e3-d391-9b271ab399f3",
        "colab": {
          "base_uri": "https://localhost:8080/",
          "height": 359
        }
      },
      "source": [
        "#converting Series output into Dataframe\n",
        "top_10 = pd.DataFrame({'Tag':top_10.index, 'Counts':top_10.values})\n",
        "top_10"
      ],
      "execution_count": 9,
      "outputs": [
        {
          "output_type": "execute_result",
          "data": {
            "text/html": [
              "<div>\n",
              "<style scoped>\n",
              "    .dataframe tbody tr th:only-of-type {\n",
              "        vertical-align: middle;\n",
              "    }\n",
              "\n",
              "    .dataframe tbody tr th {\n",
              "        vertical-align: top;\n",
              "    }\n",
              "\n",
              "    .dataframe thead th {\n",
              "        text-align: right;\n",
              "    }\n",
              "</style>\n",
              "<table border=\"1\" class=\"dataframe\">\n",
              "  <thead>\n",
              "    <tr style=\"text-align: right;\">\n",
              "      <th></th>\n",
              "      <th>Tag</th>\n",
              "      <th>Counts</th>\n",
              "    </tr>\n",
              "  </thead>\n",
              "  <tbody>\n",
              "    <tr>\n",
              "      <th>0</th>\n",
              "      <td>javascript</td>\n",
              "      <td>124155</td>\n",
              "    </tr>\n",
              "    <tr>\n",
              "      <th>1</th>\n",
              "      <td>java</td>\n",
              "      <td>115212</td>\n",
              "    </tr>\n",
              "    <tr>\n",
              "      <th>2</th>\n",
              "      <td>c#</td>\n",
              "      <td>101186</td>\n",
              "    </tr>\n",
              "    <tr>\n",
              "      <th>3</th>\n",
              "      <td>php</td>\n",
              "      <td>98808</td>\n",
              "    </tr>\n",
              "    <tr>\n",
              "      <th>4</th>\n",
              "      <td>android</td>\n",
              "      <td>90659</td>\n",
              "    </tr>\n",
              "    <tr>\n",
              "      <th>5</th>\n",
              "      <td>jquery</td>\n",
              "      <td>78542</td>\n",
              "    </tr>\n",
              "    <tr>\n",
              "      <th>6</th>\n",
              "      <td>python</td>\n",
              "      <td>64601</td>\n",
              "    </tr>\n",
              "    <tr>\n",
              "      <th>7</th>\n",
              "      <td>html</td>\n",
              "      <td>58976</td>\n",
              "    </tr>\n",
              "    <tr>\n",
              "      <th>8</th>\n",
              "      <td>c++</td>\n",
              "      <td>47591</td>\n",
              "    </tr>\n",
              "    <tr>\n",
              "      <th>9</th>\n",
              "      <td>ios</td>\n",
              "      <td>47009</td>\n",
              "    </tr>\n",
              "  </tbody>\n",
              "</table>\n",
              "</div>"
            ],
            "text/plain": [
              "          Tag  Counts\n",
              "0  javascript  124155\n",
              "1        java  115212\n",
              "2          c#  101186\n",
              "3         php   98808\n",
              "4     android   90659\n",
              "5      jquery   78542\n",
              "6      python   64601\n",
              "7        html   58976\n",
              "8         c++   47591\n",
              "9         ios   47009"
            ]
          },
          "metadata": {
            "tags": []
          },
          "execution_count": 9
        }
      ]
    },
    {
      "cell_type": "code",
      "metadata": {
        "id": "2EgpoF5foQhL",
        "colab_type": "code",
        "outputId": "0b440587-3c8e-406c-c1f1-703c6908f488",
        "colab": {
          "base_uri": "https://localhost:8080/",
          "height": 300
        }
      },
      "source": [
        "sns.set(style=\"whitegrid\") # for different color into bars in histogram\n",
        "sns.set(rc={'figure.figsize':(8,4.27)})#size of the plot\n",
        "sns.barplot(x=\"Tag\", y=\"Counts\", data=top_10); #plotting histogram"
      ],
      "execution_count": 10,
      "outputs": [
        {
          "output_type": "display_data",
          "data": {
            "image/png": "iVBORw0KGgoAAAANSUhEUgAAAhEAAAEbCAYAAABk7dbpAAAABHNCSVQICAgIfAhkiAAAAAlwSFlz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\n1lkRCAAAAABJRU5ErkJggg==\n",
            "text/plain": [
              "<Figure size 576x307.44 with 1 Axes>"
            ]
          },
          "metadata": {
            "tags": []
          }
        }
      ]
    },
    {
      "cell_type": "code",
      "metadata": {
        "id": "_OauNl-e2_Or",
        "colab_type": "code",
        "outputId": "9c3306eb-519b-4815-99cb-594135d2fd0b",
        "colab": {
          "base_uri": "https://localhost:8080/",
          "height": 419
        }
      },
      "source": [
        "pd.merge(top_10, tags, on='Tag', how='outer', indicator='indicator_column')"
      ],
      "execution_count": 11,
      "outputs": [
        {
          "output_type": "execute_result",
          "data": {
            "text/html": [
              "<div>\n",
              "<style scoped>\n",
              "    .dataframe tbody tr th:only-of-type {\n",
              "        vertical-align: middle;\n",
              "    }\n",
              "\n",
              "    .dataframe tbody tr th {\n",
              "        vertical-align: top;\n",
              "    }\n",
              "\n",
              "    .dataframe thead th {\n",
              "        text-align: right;\n",
              "    }\n",
              "</style>\n",
              "<table border=\"1\" class=\"dataframe\">\n",
              "  <thead>\n",
              "    <tr style=\"text-align: right;\">\n",
              "      <th></th>\n",
              "      <th>Tag</th>\n",
              "      <th>Counts</th>\n",
              "      <th>Id</th>\n",
              "      <th>indicator_column</th>\n",
              "    </tr>\n",
              "  </thead>\n",
              "  <tbody>\n",
              "    <tr>\n",
              "      <th>0</th>\n",
              "      <td>javascript</td>\n",
              "      <td>124155.0</td>\n",
              "      <td>7540</td>\n",
              "      <td>both</td>\n",
              "    </tr>\n",
              "    <tr>\n",
              "      <th>1</th>\n",
              "      <td>javascript</td>\n",
              "      <td>124155.0</td>\n",
              "      <td>15390</td>\n",
              "      <td>both</td>\n",
              "    </tr>\n",
              "    <tr>\n",
              "      <th>2</th>\n",
              "      <td>javascript</td>\n",
              "      <td>124155.0</td>\n",
              "      <td>19280</td>\n",
              "      <td>both</td>\n",
              "    </tr>\n",
              "    <tr>\n",
              "      <th>3</th>\n",
              "      <td>javascript</td>\n",
              "      <td>124155.0</td>\n",
              "      <td>19970</td>\n",
              "      <td>both</td>\n",
              "    </tr>\n",
              "    <tr>\n",
              "      <th>4</th>\n",
              "      <td>javascript</td>\n",
              "      <td>124155.0</td>\n",
              "      <td>20510</td>\n",
              "      <td>both</td>\n",
              "    </tr>\n",
              "    <tr>\n",
              "      <th>...</th>\n",
              "      <td>...</td>\n",
              "      <td>...</td>\n",
              "      <td>...</td>\n",
              "      <td>...</td>\n",
              "    </tr>\n",
              "    <tr>\n",
              "      <th>3750989</th>\n",
              "      <td>heyzap</td>\n",
              "      <td>NaN</td>\n",
              "      <td>40134700</td>\n",
              "      <td>right_only</td>\n",
              "    </tr>\n",
              "    <tr>\n",
              "      <th>3750990</th>\n",
              "      <td>searchcontainer</td>\n",
              "      <td>NaN</td>\n",
              "      <td>40138220</td>\n",
              "      <td>right_only</td>\n",
              "    </tr>\n",
              "    <tr>\n",
              "      <th>3750991</th>\n",
              "      <td>union-types</td>\n",
              "      <td>NaN</td>\n",
              "      <td>40138730</td>\n",
              "      <td>right_only</td>\n",
              "    </tr>\n",
              "    <tr>\n",
              "      <th>3750992</th>\n",
              "      <td>voce</td>\n",
              "      <td>NaN</td>\n",
              "      <td>40139990</td>\n",
              "      <td>right_only</td>\n",
              "    </tr>\n",
              "    <tr>\n",
              "      <th>3750993</th>\n",
              "      <td>docker-windows</td>\n",
              "      <td>NaN</td>\n",
              "      <td>40142140</td>\n",
              "      <td>right_only</td>\n",
              "    </tr>\n",
              "  </tbody>\n",
              "</table>\n",
              "<p>3750994 rows × 4 columns</p>\n",
              "</div>"
            ],
            "text/plain": [
              "                     Tag    Counts        Id indicator_column\n",
              "0             javascript  124155.0      7540             both\n",
              "1             javascript  124155.0     15390             both\n",
              "2             javascript  124155.0     19280             both\n",
              "3             javascript  124155.0     19970             both\n",
              "4             javascript  124155.0     20510             both\n",
              "...                  ...       ...       ...              ...\n",
              "3750989           heyzap       NaN  40134700       right_only\n",
              "3750990  searchcontainer       NaN  40138220       right_only\n",
              "3750991      union-types       NaN  40138730       right_only\n",
              "3750992             voce       NaN  40139990       right_only\n",
              "3750993   docker-windows       NaN  40142140       right_only\n",
              "\n",
              "[3750994 rows x 4 columns]"
            ]
          },
          "metadata": {
            "tags": []
          },
          "execution_count": 11
        }
      ]
    },
    {
      "cell_type": "code",
      "metadata": {
        "id": "x8U9kzJe_7_Q",
        "colab_type": "code",
        "colab": {}
      },
      "source": [
        "#   df3 = top_10.merge(tags, on='Tag',how = 'right')\n",
        "# #top_10.join(tags.set_index('Tag'), on='Tag_Name')\n",
        "# df3"
      ],
      "execution_count": 0,
      "outputs": []
    },
    {
      "cell_type": "markdown",
      "metadata": {
        "id": "HS3mWMqEt3BG",
        "colab_type": "text"
      },
      "source": [
        ""
      ]
    },
    {
      "cell_type": "code",
      "metadata": {
        "id": "xeie2mgU8EGK",
        "colab_type": "code",
        "outputId": "5eed8e5d-822e-43ed-d0fe-1fdbb7468b93",
        "colab": {
          "base_uri": "https://localhost:8080/",
          "height": 34
        }
      },
      "source": [
        "top10=['javascript','java','c#','php','android','jquery','python','html','c++','ios']\n",
        "\n",
        "tag_top10= tags[tags.Tag.isin(top10)]\n",
        "print (tag_top10.shape)"
      ],
      "execution_count": 13,
      "outputs": [
        {
          "output_type": "stream",
          "text": [
            "(826739, 2)\n"
          ],
          "name": "stdout"
        }
      ]
    },
    {
      "cell_type": "code",
      "metadata": {
        "id": "f5jGm4eLHk1y",
        "colab_type": "code",
        "outputId": "dca87423-358b-4332-8ada-5c4f1b902a2c",
        "colab": {
          "base_uri": "https://localhost:8080/",
          "height": 419
        }
      },
      "source": [
        "tag_top10"
      ],
      "execution_count": 14,
      "outputs": [
        {
          "output_type": "execute_result",
          "data": {
            "text/html": [
              "<div>\n",
              "<style scoped>\n",
              "    .dataframe tbody tr th:only-of-type {\n",
              "        vertical-align: middle;\n",
              "    }\n",
              "\n",
              "    .dataframe tbody tr th {\n",
              "        vertical-align: top;\n",
              "    }\n",
              "\n",
              "    .dataframe thead th {\n",
              "        text-align: right;\n",
              "    }\n",
              "</style>\n",
              "<table border=\"1\" class=\"dataframe\">\n",
              "  <thead>\n",
              "    <tr style=\"text-align: right;\">\n",
              "      <th></th>\n",
              "      <th>Id</th>\n",
              "      <th>Tag</th>\n",
              "    </tr>\n",
              "  </thead>\n",
              "  <tbody>\n",
              "    <tr>\n",
              "      <th>14</th>\n",
              "      <td>260</td>\n",
              "      <td>c#</td>\n",
              "    </tr>\n",
              "    <tr>\n",
              "      <th>18</th>\n",
              "      <td>330</td>\n",
              "      <td>c++</td>\n",
              "    </tr>\n",
              "    <tr>\n",
              "      <th>28</th>\n",
              "      <td>650</td>\n",
              "      <td>c#</td>\n",
              "    </tr>\n",
              "    <tr>\n",
              "      <th>35</th>\n",
              "      <td>930</td>\n",
              "      <td>c#</td>\n",
              "    </tr>\n",
              "    <tr>\n",
              "      <th>39</th>\n",
              "      <td>1010</td>\n",
              "      <td>c#</td>\n",
              "    </tr>\n",
              "    <tr>\n",
              "      <th>...</th>\n",
              "      <td>...</td>\n",
              "      <td>...</td>\n",
              "    </tr>\n",
              "    <tr>\n",
              "      <th>3750974</th>\n",
              "      <td>40143150</td>\n",
              "      <td>javascript</td>\n",
              "    </tr>\n",
              "    <tr>\n",
              "      <th>3750981</th>\n",
              "      <td>40143190</td>\n",
              "      <td>python</td>\n",
              "    </tr>\n",
              "    <tr>\n",
              "      <th>3750984</th>\n",
              "      <td>40143210</td>\n",
              "      <td>php</td>\n",
              "    </tr>\n",
              "    <tr>\n",
              "      <th>3750987</th>\n",
              "      <td>40143340</td>\n",
              "      <td>android</td>\n",
              "    </tr>\n",
              "    <tr>\n",
              "      <th>3750989</th>\n",
              "      <td>40143360</td>\n",
              "      <td>javascript</td>\n",
              "    </tr>\n",
              "  </tbody>\n",
              "</table>\n",
              "<p>826739 rows × 2 columns</p>\n",
              "</div>"
            ],
            "text/plain": [
              "               Id         Tag\n",
              "14            260          c#\n",
              "18            330         c++\n",
              "28            650          c#\n",
              "35            930          c#\n",
              "39           1010          c#\n",
              "...           ...         ...\n",
              "3750974  40143150  javascript\n",
              "3750981  40143190      python\n",
              "3750984  40143210         php\n",
              "3750987  40143340     android\n",
              "3750989  40143360  javascript\n",
              "\n",
              "[826739 rows x 2 columns]"
            ]
          },
          "metadata": {
            "tags": []
          },
          "execution_count": 14
        }
      ]
    },
    {
      "cell_type": "code",
      "metadata": {
        "id": "XsiW0RtW7nds",
        "colab_type": "code",
        "outputId": "a966c72a-b6b0-4778-d47d-e2d5d2f8bfa2",
        "colab": {
          "base_uri": "https://localhost:8080/",
          "height": 289
        }
      },
      "source": [
        "merged_tags = pd.merge(tag_top10, questions, on='Id', how='inner')#used inner to extract intersection between two tables\n",
        "merged_tags.head()"
      ],
      "execution_count": 15,
      "outputs": [
        {
          "output_type": "execute_result",
          "data": {
            "text/html": [
              "<div>\n",
              "<style scoped>\n",
              "    .dataframe tbody tr th:only-of-type {\n",
              "        vertical-align: middle;\n",
              "    }\n",
              "\n",
              "    .dataframe tbody tr th {\n",
              "        vertical-align: top;\n",
              "    }\n",
              "\n",
              "    .dataframe thead th {\n",
              "        text-align: right;\n",
              "    }\n",
              "</style>\n",
              "<table border=\"1\" class=\"dataframe\">\n",
              "  <thead>\n",
              "    <tr style=\"text-align: right;\">\n",
              "      <th></th>\n",
              "      <th>Id</th>\n",
              "      <th>Tag</th>\n",
              "      <th>OwnerUserId</th>\n",
              "      <th>CreationDate</th>\n",
              "      <th>ClosedDate</th>\n",
              "      <th>Score</th>\n",
              "      <th>Title</th>\n",
              "      <th>Body</th>\n",
              "    </tr>\n",
              "  </thead>\n",
              "  <tbody>\n",
              "    <tr>\n",
              "      <th>0</th>\n",
              "      <td>260</td>\n",
              "      <td>c#</td>\n",
              "      <td>91.0</td>\n",
              "      <td>2008-08-01T23:22:08Z</td>\n",
              "      <td>NaN</td>\n",
              "      <td>49</td>\n",
              "      <td>Adding scripting functionality to .NET applica...</td>\n",
              "      <td>&lt;p&gt;I have a little game written in C#. It uses...</td>\n",
              "    </tr>\n",
              "    <tr>\n",
              "      <th>1</th>\n",
              "      <td>330</td>\n",
              "      <td>c++</td>\n",
              "      <td>63.0</td>\n",
              "      <td>2008-08-02T02:51:36Z</td>\n",
              "      <td>NaN</td>\n",
              "      <td>29</td>\n",
              "      <td>Should I use nested classes in this case?</td>\n",
              "      <td>&lt;p&gt;I am working on a collection of classes use...</td>\n",
              "    </tr>\n",
              "    <tr>\n",
              "      <th>2</th>\n",
              "      <td>650</td>\n",
              "      <td>c#</td>\n",
              "      <td>143.0</td>\n",
              "      <td>2008-08-03T11:12:52Z</td>\n",
              "      <td>NaN</td>\n",
              "      <td>79</td>\n",
              "      <td>Automatically update version number</td>\n",
              "      <td>&lt;p&gt;I would like the version property of my app...</td>\n",
              "    </tr>\n",
              "    <tr>\n",
              "      <th>3</th>\n",
              "      <td>930</td>\n",
              "      <td>c#</td>\n",
              "      <td>245.0</td>\n",
              "      <td>2008-08-04T00:47:25Z</td>\n",
              "      <td>NaN</td>\n",
              "      <td>28</td>\n",
              "      <td>How do I connect to a database and loop over a...</td>\n",
              "      <td>&lt;p&gt;What's the simplest way to connect and quer...</td>\n",
              "    </tr>\n",
              "    <tr>\n",
              "      <th>4</th>\n",
              "      <td>1010</td>\n",
              "      <td>c#</td>\n",
              "      <td>67.0</td>\n",
              "      <td>2008-08-04T03:59:42Z</td>\n",
              "      <td>NaN</td>\n",
              "      <td>14</td>\n",
              "      <td>How to get the value of built, encoded ViewState?</td>\n",
              "      <td>&lt;p&gt;I need to grab the base64-encoded represent...</td>\n",
              "    </tr>\n",
              "  </tbody>\n",
              "</table>\n",
              "</div>"
            ],
            "text/plain": [
              "     Id  ...                                               Body\n",
              "0   260  ...  <p>I have a little game written in C#. It uses...\n",
              "1   330  ...  <p>I am working on a collection of classes use...\n",
              "2   650  ...  <p>I would like the version property of my app...\n",
              "3   930  ...  <p>What's the simplest way to connect and quer...\n",
              "4  1010  ...  <p>I need to grab the base64-encoded represent...\n",
              "\n",
              "[5 rows x 8 columns]"
            ]
          },
          "metadata": {
            "tags": []
          },
          "execution_count": 15
        }
      ]
    },
    {
      "cell_type": "markdown",
      "metadata": {
        "id": "li54cH3K-jA9",
        "colab_type": "text"
      },
      "source": [
        "As per the problem statement we need to predict from the question title , therefore we can drop OwnerUserId, CreationDate,ClosedDate and Score OR can fetch only Title and Body"
      ]
    },
    {
      "cell_type": "code",
      "metadata": {
        "id": "WBdd5eOz9svY",
        "colab_type": "code",
        "outputId": "f10ff33a-6c35-4d04-fac0-e0bd306d2104",
        "colab": {
          "base_uri": "https://localhost:8080/",
          "height": 419
        }
      },
      "source": [
        "quest_data = merged_tags.drop(['OwnerUserId', 'CreationDate','ClosedDate','Score'],axis=1)\n",
        "quest_data"
      ],
      "execution_count": 16,
      "outputs": [
        {
          "output_type": "execute_result",
          "data": {
            "text/html": [
              "<div>\n",
              "<style scoped>\n",
              "    .dataframe tbody tr th:only-of-type {\n",
              "        vertical-align: middle;\n",
              "    }\n",
              "\n",
              "    .dataframe tbody tr th {\n",
              "        vertical-align: top;\n",
              "    }\n",
              "\n",
              "    .dataframe thead th {\n",
              "        text-align: right;\n",
              "    }\n",
              "</style>\n",
              "<table border=\"1\" class=\"dataframe\">\n",
              "  <thead>\n",
              "    <tr style=\"text-align: right;\">\n",
              "      <th></th>\n",
              "      <th>Id</th>\n",
              "      <th>Tag</th>\n",
              "      <th>Title</th>\n",
              "      <th>Body</th>\n",
              "    </tr>\n",
              "  </thead>\n",
              "  <tbody>\n",
              "    <tr>\n",
              "      <th>0</th>\n",
              "      <td>260</td>\n",
              "      <td>c#</td>\n",
              "      <td>Adding scripting functionality to .NET applica...</td>\n",
              "      <td>&lt;p&gt;I have a little game written in C#. It uses...</td>\n",
              "    </tr>\n",
              "    <tr>\n",
              "      <th>1</th>\n",
              "      <td>330</td>\n",
              "      <td>c++</td>\n",
              "      <td>Should I use nested classes in this case?</td>\n",
              "      <td>&lt;p&gt;I am working on a collection of classes use...</td>\n",
              "    </tr>\n",
              "    <tr>\n",
              "      <th>2</th>\n",
              "      <td>650</td>\n",
              "      <td>c#</td>\n",
              "      <td>Automatically update version number</td>\n",
              "      <td>&lt;p&gt;I would like the version property of my app...</td>\n",
              "    </tr>\n",
              "    <tr>\n",
              "      <th>3</th>\n",
              "      <td>930</td>\n",
              "      <td>c#</td>\n",
              "      <td>How do I connect to a database and loop over a...</td>\n",
              "      <td>&lt;p&gt;What's the simplest way to connect and quer...</td>\n",
              "    </tr>\n",
              "    <tr>\n",
              "      <th>4</th>\n",
              "      <td>1010</td>\n",
              "      <td>c#</td>\n",
              "      <td>How to get the value of built, encoded ViewState?</td>\n",
              "      <td>&lt;p&gt;I need to grab the base64-encoded represent...</td>\n",
              "    </tr>\n",
              "    <tr>\n",
              "      <th>...</th>\n",
              "      <td>...</td>\n",
              "      <td>...</td>\n",
              "      <td>...</td>\n",
              "      <td>...</td>\n",
              "    </tr>\n",
              "    <tr>\n",
              "      <th>826734</th>\n",
              "      <td>40143150</td>\n",
              "      <td>javascript</td>\n",
              "      <td>YouTube iFrame API: no ready call, no error call</td>\n",
              "      <td>&lt;p&gt;I'm trying to detect the \"flash out of date...</td>\n",
              "    </tr>\n",
              "    <tr>\n",
              "      <th>826735</th>\n",
              "      <td>40143190</td>\n",
              "      <td>python</td>\n",
              "      <td>How to execute multiline python code from a ba...</td>\n",
              "      <td>&lt;p&gt;I need to extend a shell script (bash). As ...</td>\n",
              "    </tr>\n",
              "    <tr>\n",
              "      <th>826736</th>\n",
              "      <td>40143210</td>\n",
              "      <td>php</td>\n",
              "      <td>URL routing in PHP (MVC)</td>\n",
              "      <td>&lt;p&gt;I am building a custom MVC project and I ha...</td>\n",
              "    </tr>\n",
              "    <tr>\n",
              "      <th>826737</th>\n",
              "      <td>40143340</td>\n",
              "      <td>android</td>\n",
              "      <td>Obfuscating code in android studio</td>\n",
              "      <td>&lt;p&gt;Under minifyEnabled I changed from false to...</td>\n",
              "    </tr>\n",
              "    <tr>\n",
              "      <th>826738</th>\n",
              "      <td>40143360</td>\n",
              "      <td>javascript</td>\n",
              "      <td>How to fire function after v-model change?</td>\n",
              "      <td>&lt;p&gt;I have input which I use to filter my array...</td>\n",
              "    </tr>\n",
              "  </tbody>\n",
              "</table>\n",
              "<p>826739 rows × 4 columns</p>\n",
              "</div>"
            ],
            "text/plain": [
              "              Id  ...                                               Body\n",
              "0            260  ...  <p>I have a little game written in C#. It uses...\n",
              "1            330  ...  <p>I am working on a collection of classes use...\n",
              "2            650  ...  <p>I would like the version property of my app...\n",
              "3            930  ...  <p>What's the simplest way to connect and quer...\n",
              "4           1010  ...  <p>I need to grab the base64-encoded represent...\n",
              "...          ...  ...                                                ...\n",
              "826734  40143150  ...  <p>I'm trying to detect the \"flash out of date...\n",
              "826735  40143190  ...  <p>I need to extend a shell script (bash). As ...\n",
              "826736  40143210  ...  <p>I am building a custom MVC project and I ha...\n",
              "826737  40143340  ...  <p>Under minifyEnabled I changed from false to...\n",
              "826738  40143360  ...  <p>I have input which I use to filter my array...\n",
              "\n",
              "[826739 rows x 4 columns]"
            ]
          },
          "metadata": {
            "tags": []
          },
          "execution_count": 16
        }
      ]
    },
    {
      "cell_type": "code",
      "metadata": {
        "id": "jem7CImf8G_r",
        "colab_type": "code",
        "outputId": "edcdd44a-f217-47a8-ea9a-c78463113533",
        "colab": {
          "base_uri": "https://localhost:8080/",
          "height": 34
        }
      },
      "source": [
        "merged_tags.shape, quest_data.shape"
      ],
      "execution_count": 17,
      "outputs": [
        {
          "output_type": "execute_result",
          "data": {
            "text/plain": [
              "((826739, 8), (826739, 4))"
            ]
          },
          "metadata": {
            "tags": []
          },
          "execution_count": 17
        }
      ]
    },
    {
      "cell_type": "code",
      "metadata": {
        "id": "LkdFfY-q_VK0",
        "colab_type": "code",
        "outputId": "a0a92423-ee3d-4211-84f7-1ffd7575850e",
        "colab": {
          "base_uri": "https://localhost:8080/",
          "height": 34
        }
      },
      "source": [
        "quest_data['Body'][3]"
      ],
      "execution_count": 18,
      "outputs": [
        {
          "output_type": "execute_result",
          "data": {
            "text/plain": [
              "\"<p>What's the simplest way to connect and query a database for a set of records in C#?</p>\\n\""
            ]
          },
          "metadata": {
            "tags": []
          },
          "execution_count": 18
        }
      ]
    },
    {
      "cell_type": "code",
      "metadata": {
        "id": "AW-yVfcgDB84",
        "colab_type": "code",
        "colab": {}
      },
      "source": [
        "import re\n",
        "\n",
        "def cleanhtml(raw_html):\n",
        "  cleanr = re.compile('<.*?>')\n",
        "  #cleanr = re.compile('<.*?>|&([a-z0-9]+|#[0-9]{1,6}|#x[0-9a-f]{1,6});')\n",
        "  cleantext = re.sub(cleanr, '', raw_html)\n",
        "  cleantext = cleantext.replace('\\n','')\n",
        "  return cleantext\n",
        "#cleanhtml(quest_data['Body'])"
      ],
      "execution_count": 0,
      "outputs": []
    },
    {
      "cell_type": "code",
      "metadata": {
        "id": "_U9HbEfFkzYp",
        "colab_type": "code",
        "outputId": "0a99f090-b2e7-4317-ac56-066d5563e210",
        "colab": {
          "base_uri": "https://localhost:8080/",
          "height": 34
        }
      },
      "source": [
        "quest_data['Body'][3]"
      ],
      "execution_count": 20,
      "outputs": [
        {
          "output_type": "execute_result",
          "data": {
            "text/plain": [
              "\"<p>What's the simplest way to connect and query a database for a set of records in C#?</p>\\n\""
            ]
          },
          "metadata": {
            "tags": []
          },
          "execution_count": 20
        }
      ]
    },
    {
      "cell_type": "code",
      "metadata": {
        "id": "zn4ogxgNhENS",
        "colab_type": "code",
        "outputId": "c2d74b9f-eac6-4858-92e7-22b5568e1c63",
        "colab": {
          "base_uri": "https://localhost:8080/",
          "height": 204
        }
      },
      "source": [
        "quest_data['Body'] = quest_data['Body'].apply(cleanhtml)\n",
        "quest_data.head()"
      ],
      "execution_count": 21,
      "outputs": [
        {
          "output_type": "execute_result",
          "data": {
            "text/html": [
              "<div>\n",
              "<style scoped>\n",
              "    .dataframe tbody tr th:only-of-type {\n",
              "        vertical-align: middle;\n",
              "    }\n",
              "\n",
              "    .dataframe tbody tr th {\n",
              "        vertical-align: top;\n",
              "    }\n",
              "\n",
              "    .dataframe thead th {\n",
              "        text-align: right;\n",
              "    }\n",
              "</style>\n",
              "<table border=\"1\" class=\"dataframe\">\n",
              "  <thead>\n",
              "    <tr style=\"text-align: right;\">\n",
              "      <th></th>\n",
              "      <th>Id</th>\n",
              "      <th>Tag</th>\n",
              "      <th>Title</th>\n",
              "      <th>Body</th>\n",
              "    </tr>\n",
              "  </thead>\n",
              "  <tbody>\n",
              "    <tr>\n",
              "      <th>0</th>\n",
              "      <td>260</td>\n",
              "      <td>c#</td>\n",
              "      <td>Adding scripting functionality to .NET applica...</td>\n",
              "      <td>I have a little game written in C#. It uses a ...</td>\n",
              "    </tr>\n",
              "    <tr>\n",
              "      <th>1</th>\n",
              "      <td>330</td>\n",
              "      <td>c++</td>\n",
              "      <td>Should I use nested classes in this case?</td>\n",
              "      <td>I am working on a collection of classes used f...</td>\n",
              "    </tr>\n",
              "    <tr>\n",
              "      <th>2</th>\n",
              "      <td>650</td>\n",
              "      <td>c#</td>\n",
              "      <td>Automatically update version number</td>\n",
              "      <td>I would like the version property of my applic...</td>\n",
              "    </tr>\n",
              "    <tr>\n",
              "      <th>3</th>\n",
              "      <td>930</td>\n",
              "      <td>c#</td>\n",
              "      <td>How do I connect to a database and loop over a...</td>\n",
              "      <td>What's the simplest way to connect and query a...</td>\n",
              "    </tr>\n",
              "    <tr>\n",
              "      <th>4</th>\n",
              "      <td>1010</td>\n",
              "      <td>c#</td>\n",
              "      <td>How to get the value of built, encoded ViewState?</td>\n",
              "      <td>I need to grab the base64-encoded representati...</td>\n",
              "    </tr>\n",
              "  </tbody>\n",
              "</table>\n",
              "</div>"
            ],
            "text/plain": [
              "     Id  ...                                               Body\n",
              "0   260  ...  I have a little game written in C#. It uses a ...\n",
              "1   330  ...  I am working on a collection of classes used f...\n",
              "2   650  ...  I would like the version property of my applic...\n",
              "3   930  ...  What's the simplest way to connect and query a...\n",
              "4  1010  ...  I need to grab the base64-encoded representati...\n",
              "\n",
              "[5 rows x 4 columns]"
            ]
          },
          "metadata": {
            "tags": []
          },
          "execution_count": 21
        }
      ]
    },
    {
      "cell_type": "code",
      "metadata": {
        "id": "74L1oPhuqMUN",
        "colab_type": "code",
        "outputId": "701d77a6-18c3-4109-ee6d-c4ba5dd2d4de",
        "colab": {
          "base_uri": "https://localhost:8080/",
          "height": 34
        }
      },
      "source": [
        "quest_data['Title'][3]"
      ],
      "execution_count": 22,
      "outputs": [
        {
          "output_type": "execute_result",
          "data": {
            "text/plain": [
              "'How do I connect to a database and loop over a recordset in C#?'"
            ]
          },
          "metadata": {
            "tags": []
          },
          "execution_count": 22
        }
      ]
    },
    {
      "cell_type": "code",
      "metadata": {
        "id": "58OkDnQ0q5Yz",
        "colab_type": "code",
        "outputId": "ceb1a388-0b22-421f-9c52-6378d0eabcc2",
        "colab": {
          "base_uri": "https://localhost:8080/",
          "height": 204
        }
      },
      "source": [
        "quest_data.head()"
      ],
      "execution_count": 23,
      "outputs": [
        {
          "output_type": "execute_result",
          "data": {
            "text/html": [
              "<div>\n",
              "<style scoped>\n",
              "    .dataframe tbody tr th:only-of-type {\n",
              "        vertical-align: middle;\n",
              "    }\n",
              "\n",
              "    .dataframe tbody tr th {\n",
              "        vertical-align: top;\n",
              "    }\n",
              "\n",
              "    .dataframe thead th {\n",
              "        text-align: right;\n",
              "    }\n",
              "</style>\n",
              "<table border=\"1\" class=\"dataframe\">\n",
              "  <thead>\n",
              "    <tr style=\"text-align: right;\">\n",
              "      <th></th>\n",
              "      <th>Id</th>\n",
              "      <th>Tag</th>\n",
              "      <th>Title</th>\n",
              "      <th>Body</th>\n",
              "    </tr>\n",
              "  </thead>\n",
              "  <tbody>\n",
              "    <tr>\n",
              "      <th>0</th>\n",
              "      <td>260</td>\n",
              "      <td>c#</td>\n",
              "      <td>Adding scripting functionality to .NET applica...</td>\n",
              "      <td>I have a little game written in C#. It uses a ...</td>\n",
              "    </tr>\n",
              "    <tr>\n",
              "      <th>1</th>\n",
              "      <td>330</td>\n",
              "      <td>c++</td>\n",
              "      <td>Should I use nested classes in this case?</td>\n",
              "      <td>I am working on a collection of classes used f...</td>\n",
              "    </tr>\n",
              "    <tr>\n",
              "      <th>2</th>\n",
              "      <td>650</td>\n",
              "      <td>c#</td>\n",
              "      <td>Automatically update version number</td>\n",
              "      <td>I would like the version property of my applic...</td>\n",
              "    </tr>\n",
              "    <tr>\n",
              "      <th>3</th>\n",
              "      <td>930</td>\n",
              "      <td>c#</td>\n",
              "      <td>How do I connect to a database and loop over a...</td>\n",
              "      <td>What's the simplest way to connect and query a...</td>\n",
              "    </tr>\n",
              "    <tr>\n",
              "      <th>4</th>\n",
              "      <td>1010</td>\n",
              "      <td>c#</td>\n",
              "      <td>How to get the value of built, encoded ViewState?</td>\n",
              "      <td>I need to grab the base64-encoded representati...</td>\n",
              "    </tr>\n",
              "  </tbody>\n",
              "</table>\n",
              "</div>"
            ],
            "text/plain": [
              "     Id  ...                                               Body\n",
              "0   260  ...  I have a little game written in C#. It uses a ...\n",
              "1   330  ...  I am working on a collection of classes used f...\n",
              "2   650  ...  I would like the version property of my applic...\n",
              "3   930  ...  What's the simplest way to connect and query a...\n",
              "4  1010  ...  I need to grab the base64-encoded representati...\n",
              "\n",
              "[5 rows x 4 columns]"
            ]
          },
          "metadata": {
            "tags": []
          },
          "execution_count": 23
        }
      ]
    },
    {
      "cell_type": "code",
      "metadata": {
        "id": "Ph3K1X3ds9rG",
        "colab_type": "code",
        "outputId": "71cb5356-0629-4b6e-c8d9-7ca91de3b535",
        "colab": {
          "base_uri": "https://localhost:8080/",
          "height": 80
        }
      },
      "source": [
        "import pandas as pd\n",
        "import numpy as np\n",
        "from sklearn.model_selection import train_test_split\n",
        "from nltk import word_tokenize\n",
        "from tensorflow.keras.preprocessing.text import Tokenizer\n",
        "from tensorflow.keras.preprocessing import sequence\n",
        "from tensorflow.keras.layers import LSTM, Activation, Dense, Dropout, Input, Embedding\n",
        "from tensorflow.keras.models import Model"
      ],
      "execution_count": 24,
      "outputs": [
        {
          "output_type": "display_data",
          "data": {
            "text/html": [
              "<p style=\"color: red;\">\n",
              "The default version of TensorFlow in Colab will soon switch to TensorFlow 2.x.<br>\n",
              "We recommend you <a href=\"https://www.tensorflow.org/guide/migrate\" target=\"_blank\">upgrade</a> now \n",
              "or ensure your notebook will continue to use TensorFlow 1.x via the <code>%tensorflow_version 1.x</code> magic:\n",
              "<a href=\"https://colab.research.google.com/notebooks/tensorflow_version.ipynb\" target=\"_blank\">more info</a>.</p>\n"
            ],
            "text/plain": [
              "<IPython.core.display.HTML object>"
            ]
          },
          "metadata": {
            "tags": []
          }
        }
      ]
    },
    {
      "cell_type": "code",
      "metadata": {
        "id": "fSpB8yWP_Jka",
        "colab_type": "code",
        "colab": {}
      },
      "source": [
        "# from sklearn.preprocessing import MultiLabelBinarizer\n",
        "# mlb = MultiLabelBinarizer()\n",
        "# mlb.fit(quest_data.Tag)\n",
        "# labels = mlb.classes_\n",
        "# labels"
      ],
      "execution_count": 0,
      "outputs": []
    },
    {
      "cell_type": "code",
      "metadata": {
        "id": "Frxr0vUv8d18",
        "colab_type": "code",
        "colab": {}
      },
      "source": [
        "train,test=train_test_split(quest_data[:100000],test_size=0.2,random_state=2)"
      ],
      "execution_count": 0,
      "outputs": []
    },
    {
      "cell_type": "code",
      "metadata": {
        "id": "iqh-Yakk8v1J",
        "colab_type": "code",
        "outputId": "54e35f9a-0591-420e-dd4b-238a1bd717d7",
        "colab": {
          "base_uri": "https://localhost:8080/",
          "height": 34
        }
      },
      "source": [
        "train.shape, test.shape"
      ],
      "execution_count": 28,
      "outputs": [
        {
          "output_type": "execute_result",
          "data": {
            "text/plain": [
              "((80000, 4), (20000, 4))"
            ]
          },
          "metadata": {
            "tags": []
          },
          "execution_count": 28
        }
      ]
    },
    {
      "cell_type": "code",
      "metadata": {
        "id": "W66PZwGs8zbA",
        "colab_type": "code",
        "colab": {}
      },
      "source": [
        "#training set\n",
        "x_train_title =train['Title']\n",
        "x_train_body = train['Body']\n",
        "\n",
        "#test set\n",
        "x_test_title = test ['Title']\n",
        "x_test_body = test['Body']\n",
        "\n",
        "#target Y\n",
        "y_train=train['Tag']\n",
        "y_test=test['Tag']"
      ],
      "execution_count": 0,
      "outputs": []
    },
    {
      "cell_type": "code",
      "metadata": {
        "id": "IKNDbYfWVMhF",
        "colab_type": "code",
        "outputId": "76528695-cb36-45d5-9437-c688320f39ad",
        "colab": {
          "base_uri": "https://localhost:8080/",
          "height": 34
        }
      },
      "source": [
        "x_train_title.shape , x_train_body.shape , x_test_title.shape , x_test_body.shape"
      ],
      "execution_count": 30,
      "outputs": [
        {
          "output_type": "execute_result",
          "data": {
            "text/plain": [
              "((80000,), (80000,), (20000,), (20000,))"
            ]
          },
          "metadata": {
            "tags": []
          },
          "execution_count": 30
        }
      ]
    },
    {
      "cell_type": "code",
      "metadata": {
        "id": "U_wZkH5_WlHp",
        "colab_type": "code",
        "colab": {}
      },
      "source": [
        "y_train=pd.get_dummies(train['Tag'],prefix='T')\n",
        "y_test=pd.get_dummies(test['Tag'],prefix='T')"
      ],
      "execution_count": 0,
      "outputs": []
    },
    {
      "cell_type": "code",
      "metadata": {
        "id": "7erS1uxUWsUI",
        "colab_type": "code",
        "outputId": "b1ae8d36-347a-454a-c390-934ede085260",
        "colab": {
          "base_uri": "https://localhost:8080/",
          "height": 204
        }
      },
      "source": [
        "y_train.head()"
      ],
      "execution_count": 32,
      "outputs": [
        {
          "output_type": "execute_result",
          "data": {
            "text/html": [
              "<div>\n",
              "<style scoped>\n",
              "    .dataframe tbody tr th:only-of-type {\n",
              "        vertical-align: middle;\n",
              "    }\n",
              "\n",
              "    .dataframe tbody tr th {\n",
              "        vertical-align: top;\n",
              "    }\n",
              "\n",
              "    .dataframe thead th {\n",
              "        text-align: right;\n",
              "    }\n",
              "</style>\n",
              "<table border=\"1\" class=\"dataframe\">\n",
              "  <thead>\n",
              "    <tr style=\"text-align: right;\">\n",
              "      <th></th>\n",
              "      <th>T_android</th>\n",
              "      <th>T_c#</th>\n",
              "      <th>T_c++</th>\n",
              "      <th>T_html</th>\n",
              "      <th>T_ios</th>\n",
              "      <th>T_java</th>\n",
              "      <th>T_javascript</th>\n",
              "      <th>T_jquery</th>\n",
              "      <th>T_php</th>\n",
              "      <th>T_python</th>\n",
              "    </tr>\n",
              "  </thead>\n",
              "  <tbody>\n",
              "    <tr>\n",
              "      <th>34555</th>\n",
              "      <td>0</td>\n",
              "      <td>0</td>\n",
              "      <td>1</td>\n",
              "      <td>0</td>\n",
              "      <td>0</td>\n",
              "      <td>0</td>\n",
              "      <td>0</td>\n",
              "      <td>0</td>\n",
              "      <td>0</td>\n",
              "      <td>0</td>\n",
              "    </tr>\n",
              "    <tr>\n",
              "      <th>4442</th>\n",
              "      <td>0</td>\n",
              "      <td>1</td>\n",
              "      <td>0</td>\n",
              "      <td>0</td>\n",
              "      <td>0</td>\n",
              "      <td>0</td>\n",
              "      <td>0</td>\n",
              "      <td>0</td>\n",
              "      <td>0</td>\n",
              "      <td>0</td>\n",
              "    </tr>\n",
              "    <tr>\n",
              "      <th>50811</th>\n",
              "      <td>0</td>\n",
              "      <td>0</td>\n",
              "      <td>0</td>\n",
              "      <td>0</td>\n",
              "      <td>0</td>\n",
              "      <td>0</td>\n",
              "      <td>0</td>\n",
              "      <td>0</td>\n",
              "      <td>1</td>\n",
              "      <td>0</td>\n",
              "    </tr>\n",
              "    <tr>\n",
              "      <th>45326</th>\n",
              "      <td>0</td>\n",
              "      <td>0</td>\n",
              "      <td>0</td>\n",
              "      <td>1</td>\n",
              "      <td>0</td>\n",
              "      <td>0</td>\n",
              "      <td>0</td>\n",
              "      <td>0</td>\n",
              "      <td>0</td>\n",
              "      <td>0</td>\n",
              "    </tr>\n",
              "    <tr>\n",
              "      <th>57679</th>\n",
              "      <td>1</td>\n",
              "      <td>0</td>\n",
              "      <td>0</td>\n",
              "      <td>0</td>\n",
              "      <td>0</td>\n",
              "      <td>0</td>\n",
              "      <td>0</td>\n",
              "      <td>0</td>\n",
              "      <td>0</td>\n",
              "      <td>0</td>\n",
              "    </tr>\n",
              "  </tbody>\n",
              "</table>\n",
              "</div>"
            ],
            "text/plain": [
              "       T_android  T_c#  T_c++  T_html  ...  T_javascript  T_jquery  T_php  T_python\n",
              "34555          0     0      1       0  ...             0         0      0         0\n",
              "4442           0     1      0       0  ...             0         0      0         0\n",
              "50811          0     0      0       0  ...             0         0      1         0\n",
              "45326          0     0      0       1  ...             0         0      0         0\n",
              "57679          1     0      0       0  ...             0         0      0         0\n",
              "\n",
              "[5 rows x 10 columns]"
            ]
          },
          "metadata": {
            "tags": []
          },
          "execution_count": 32
        }
      ]
    },
    {
      "cell_type": "code",
      "metadata": {
        "id": "566zNQ52VNwv",
        "colab_type": "code",
        "outputId": "93279650-c455-412d-a4b8-3e7af0d6e9b8",
        "colab": {
          "base_uri": "https://localhost:8080/",
          "height": 1000
        }
      },
      "source": [
        "import nltk\n",
        "nltk.download(\"all\")"
      ],
      "execution_count": 33,
      "outputs": [
        {
          "output_type": "stream",
          "text": [
            "[nltk_data] Downloading collection 'all'\n",
            "[nltk_data]    | \n",
            "[nltk_data]    | Downloading package abc to /root/nltk_data...\n",
            "[nltk_data]    |   Unzipping corpora/abc.zip.\n",
            "[nltk_data]    | Downloading package alpino to /root/nltk_data...\n",
            "[nltk_data]    |   Unzipping corpora/alpino.zip.\n",
            "[nltk_data]    | Downloading package biocreative_ppi to\n",
            "[nltk_data]    |     /root/nltk_data...\n",
            "[nltk_data]    |   Unzipping corpora/biocreative_ppi.zip.\n",
            "[nltk_data]    | Downloading package brown to /root/nltk_data...\n",
            "[nltk_data]    |   Unzipping corpora/brown.zip.\n",
            "[nltk_data]    | Downloading package brown_tei to /root/nltk_data...\n",
            "[nltk_data]    |   Unzipping corpora/brown_tei.zip.\n",
            "[nltk_data]    | Downloading package cess_cat to /root/nltk_data...\n",
            "[nltk_data]    |   Unzipping corpora/cess_cat.zip.\n",
            "[nltk_data]    | Downloading package cess_esp to /root/nltk_data...\n",
            "[nltk_data]    |   Unzipping corpora/cess_esp.zip.\n",
            "[nltk_data]    | Downloading package chat80 to /root/nltk_data...\n",
            "[nltk_data]    |   Unzipping corpora/chat80.zip.\n",
            "[nltk_data]    | Downloading package city_database to\n",
            "[nltk_data]    |     /root/nltk_data...\n",
            "[nltk_data]    |   Unzipping corpora/city_database.zip.\n",
            "[nltk_data]    | Downloading package cmudict to /root/nltk_data...\n",
            "[nltk_data]    |   Unzipping corpora/cmudict.zip.\n",
            "[nltk_data]    | Downloading package comparative_sentences to\n",
            "[nltk_data]    |     /root/nltk_data...\n",
            "[nltk_data]    |   Unzipping corpora/comparative_sentences.zip.\n",
            "[nltk_data]    | Downloading package comtrans to /root/nltk_data...\n",
            "[nltk_data]    | Downloading package conll2000 to /root/nltk_data...\n",
            "[nltk_data]    |   Unzipping corpora/conll2000.zip.\n",
            "[nltk_data]    | Downloading package conll2002 to /root/nltk_data...\n",
            "[nltk_data]    |   Unzipping corpora/conll2002.zip.\n",
            "[nltk_data]    | Downloading package conll2007 to /root/nltk_data...\n",
            "[nltk_data]    | Downloading package crubadan to /root/nltk_data...\n",
            "[nltk_data]    |   Unzipping corpora/crubadan.zip.\n",
            "[nltk_data]    | Downloading package dependency_treebank to\n",
            "[nltk_data]    |     /root/nltk_data...\n",
            "[nltk_data]    |   Unzipping corpora/dependency_treebank.zip.\n",
            "[nltk_data]    | Downloading package dolch to /root/nltk_data...\n",
            "[nltk_data]    |   Unzipping corpora/dolch.zip.\n",
            "[nltk_data]    | Downloading package europarl_raw to\n",
            "[nltk_data]    |     /root/nltk_data...\n",
            "[nltk_data]    | Downloading package floresta to /root/nltk_data...\n",
            "[nltk_data]    |   Unzipping corpora/floresta.zip.\n",
            "[nltk_data]    | Downloading package framenet_v15 to\n",
            "[nltk_data]    |     /root/nltk_data...\n",
            "[nltk_data]    |   Unzipping corpora/framenet_v15.zip.\n",
            "[nltk_data]    | Downloading package framenet_v17 to\n",
            "[nltk_data]    |     /root/nltk_data...\n",
            "[nltk_data]    |   Unzipping corpora/framenet_v17.zip.\n",
            "[nltk_data]    | Downloading package gazetteers to /root/nltk_data...\n",
            "[nltk_data]    |   Unzipping corpora/gazetteers.zip.\n",
            "[nltk_data]    | Downloading package genesis to /root/nltk_data...\n",
            "[nltk_data]    |   Unzipping corpora/genesis.zip.\n",
            "[nltk_data]    | Downloading package gutenberg to /root/nltk_data...\n",
            "[nltk_data]    |   Unzipping corpora/gutenberg.zip.\n",
            "[nltk_data]    | Downloading package ieer to /root/nltk_data...\n",
            "[nltk_data]    |   Unzipping corpora/ieer.zip.\n",
            "[nltk_data]    | Downloading package inaugural to /root/nltk_data...\n",
            "[nltk_data]    |   Unzipping corpora/inaugural.zip.\n",
            "[nltk_data]    | Downloading package indian to /root/nltk_data...\n",
            "[nltk_data]    |   Unzipping corpora/indian.zip.\n",
            "[nltk_data]    | Downloading package jeita to /root/nltk_data...\n",
            "[nltk_data]    | Downloading package kimmo to /root/nltk_data...\n",
            "[nltk_data]    |   Unzipping corpora/kimmo.zip.\n",
            "[nltk_data]    | Downloading package knbc to /root/nltk_data...\n",
            "[nltk_data]    | Downloading package lin_thesaurus to\n",
            "[nltk_data]    |     /root/nltk_data...\n",
            "[nltk_data]    |   Unzipping corpora/lin_thesaurus.zip.\n",
            "[nltk_data]    | Downloading package mac_morpho to /root/nltk_data...\n",
            "[nltk_data]    |   Unzipping corpora/mac_morpho.zip.\n",
            "[nltk_data]    | Downloading package machado to /root/nltk_data...\n",
            "[nltk_data]    | Downloading package masc_tagged to /root/nltk_data...\n",
            "[nltk_data]    | Downloading package moses_sample to\n",
            "[nltk_data]    |     /root/nltk_data...\n",
            "[nltk_data]    |   Unzipping models/moses_sample.zip.\n",
            "[nltk_data]    | Downloading package movie_reviews to\n",
            "[nltk_data]    |     /root/nltk_data...\n",
            "[nltk_data]    |   Unzipping corpora/movie_reviews.zip.\n",
            "[nltk_data]    | Downloading package names to /root/nltk_data...\n",
            "[nltk_data]    |   Unzipping corpora/names.zip.\n",
            "[nltk_data]    | Downloading package nombank.1.0 to /root/nltk_data...\n",
            "[nltk_data]    | Downloading package nps_chat to /root/nltk_data...\n",
            "[nltk_data]    |   Unzipping corpora/nps_chat.zip.\n",
            "[nltk_data]    | Downloading package omw to /root/nltk_data...\n",
            "[nltk_data]    |   Unzipping corpora/omw.zip.\n",
            "[nltk_data]    | Downloading package opinion_lexicon to\n",
            "[nltk_data]    |     /root/nltk_data...\n",
            "[nltk_data]    |   Unzipping corpora/opinion_lexicon.zip.\n",
            "[nltk_data]    | Downloading package paradigms to /root/nltk_data...\n",
            "[nltk_data]    |   Unzipping corpora/paradigms.zip.\n",
            "[nltk_data]    | Downloading package pil to /root/nltk_data...\n",
            "[nltk_data]    |   Unzipping corpora/pil.zip.\n",
            "[nltk_data]    | Downloading package pl196x to /root/nltk_data...\n",
            "[nltk_data]    |   Unzipping corpora/pl196x.zip.\n",
            "[nltk_data]    | Downloading package ppattach to /root/nltk_data...\n",
            "[nltk_data]    |   Unzipping corpora/ppattach.zip.\n",
            "[nltk_data]    | Downloading package problem_reports to\n",
            "[nltk_data]    |     /root/nltk_data...\n",
            "[nltk_data]    |   Unzipping corpora/problem_reports.zip.\n",
            "[nltk_data]    | Downloading package propbank to /root/nltk_data...\n",
            "[nltk_data]    | Downloading package ptb to /root/nltk_data...\n",
            "[nltk_data]    |   Unzipping corpora/ptb.zip.\n",
            "[nltk_data]    | Downloading package product_reviews_1 to\n",
            "[nltk_data]    |     /root/nltk_data...\n",
            "[nltk_data]    |   Unzipping corpora/product_reviews_1.zip.\n",
            "[nltk_data]    | Downloading package product_reviews_2 to\n",
            "[nltk_data]    |     /root/nltk_data...\n",
            "[nltk_data]    |   Unzipping corpora/product_reviews_2.zip.\n",
            "[nltk_data]    | Downloading package pros_cons to /root/nltk_data...\n",
            "[nltk_data]    |   Unzipping corpora/pros_cons.zip.\n",
            "[nltk_data]    | Downloading package qc to /root/nltk_data...\n",
            "[nltk_data]    |   Unzipping corpora/qc.zip.\n",
            "[nltk_data]    | Downloading package reuters to /root/nltk_data...\n",
            "[nltk_data]    | Downloading package rte to /root/nltk_data...\n",
            "[nltk_data]    |   Unzipping corpora/rte.zip.\n",
            "[nltk_data]    | Downloading package semcor to /root/nltk_data...\n",
            "[nltk_data]    | Downloading package senseval to /root/nltk_data...\n",
            "[nltk_data]    |   Unzipping corpora/senseval.zip.\n",
            "[nltk_data]    | Downloading package sentiwordnet to\n",
            "[nltk_data]    |     /root/nltk_data...\n",
            "[nltk_data]    |   Unzipping corpora/sentiwordnet.zip.\n",
            "[nltk_data]    | Downloading package sentence_polarity to\n",
            "[nltk_data]    |     /root/nltk_data...\n",
            "[nltk_data]    |   Unzipping corpora/sentence_polarity.zip.\n",
            "[nltk_data]    | Downloading package shakespeare to /root/nltk_data...\n",
            "[nltk_data]    |   Unzipping corpora/shakespeare.zip.\n",
            "[nltk_data]    | Downloading package sinica_treebank to\n",
            "[nltk_data]    |     /root/nltk_data...\n",
            "[nltk_data]    |   Unzipping corpora/sinica_treebank.zip.\n",
            "[nltk_data]    | Downloading package smultron to /root/nltk_data...\n",
            "[nltk_data]    |   Unzipping corpora/smultron.zip.\n",
            "[nltk_data]    | Downloading package state_union to /root/nltk_data...\n",
            "[nltk_data]    |   Unzipping corpora/state_union.zip.\n",
            "[nltk_data]    | Downloading package stopwords to /root/nltk_data...\n",
            "[nltk_data]    |   Unzipping corpora/stopwords.zip.\n",
            "[nltk_data]    | Downloading package subjectivity to\n",
            "[nltk_data]    |     /root/nltk_data...\n",
            "[nltk_data]    |   Unzipping corpora/subjectivity.zip.\n",
            "[nltk_data]    | Downloading package swadesh to /root/nltk_data...\n",
            "[nltk_data]    |   Unzipping corpora/swadesh.zip.\n",
            "[nltk_data]    | Downloading package switchboard to /root/nltk_data...\n",
            "[nltk_data]    |   Unzipping corpora/switchboard.zip.\n",
            "[nltk_data]    | Downloading package timit to /root/nltk_data...\n",
            "[nltk_data]    |   Unzipping corpora/timit.zip.\n",
            "[nltk_data]    | Downloading package toolbox to /root/nltk_data...\n",
            "[nltk_data]    |   Unzipping corpora/toolbox.zip.\n",
            "[nltk_data]    | Downloading package treebank to /root/nltk_data...\n",
            "[nltk_data]    |   Unzipping corpora/treebank.zip.\n",
            "[nltk_data]    | Downloading package twitter_samples to\n",
            "[nltk_data]    |     /root/nltk_data...\n",
            "[nltk_data]    |   Unzipping corpora/twitter_samples.zip.\n",
            "[nltk_data]    | Downloading package udhr to /root/nltk_data...\n",
            "[nltk_data]    |   Unzipping corpora/udhr.zip.\n",
            "[nltk_data]    | Downloading package udhr2 to /root/nltk_data...\n",
            "[nltk_data]    |   Unzipping corpora/udhr2.zip.\n",
            "[nltk_data]    | Downloading package unicode_samples to\n",
            "[nltk_data]    |     /root/nltk_data...\n",
            "[nltk_data]    |   Unzipping corpora/unicode_samples.zip.\n",
            "[nltk_data]    | Downloading package universal_treebanks_v20 to\n",
            "[nltk_data]    |     /root/nltk_data...\n",
            "[nltk_data]    | Downloading package verbnet to /root/nltk_data...\n",
            "[nltk_data]    |   Unzipping corpora/verbnet.zip.\n",
            "[nltk_data]    | Downloading package verbnet3 to /root/nltk_data...\n",
            "[nltk_data]    |   Unzipping corpora/verbnet3.zip.\n",
            "[nltk_data]    | Downloading package webtext to /root/nltk_data...\n",
            "[nltk_data]    |   Unzipping corpora/webtext.zip.\n",
            "[nltk_data]    | Downloading package wordnet to /root/nltk_data...\n",
            "[nltk_data]    |   Unzipping corpora/wordnet.zip.\n",
            "[nltk_data]    | Downloading package wordnet_ic to /root/nltk_data...\n",
            "[nltk_data]    |   Unzipping corpora/wordnet_ic.zip.\n",
            "[nltk_data]    | Downloading package words to /root/nltk_data...\n",
            "[nltk_data]    |   Unzipping corpora/words.zip.\n",
            "[nltk_data]    | Downloading package ycoe to /root/nltk_data...\n",
            "[nltk_data]    |   Unzipping corpora/ycoe.zip.\n",
            "[nltk_data]    | Downloading package rslp to /root/nltk_data...\n",
            "[nltk_data]    |   Unzipping stemmers/rslp.zip.\n",
            "[nltk_data]    | Downloading package maxent_treebank_pos_tagger to\n",
            "[nltk_data]    |     /root/nltk_data...\n",
            "[nltk_data]    |   Unzipping taggers/maxent_treebank_pos_tagger.zip.\n",
            "[nltk_data]    | Downloading package universal_tagset to\n",
            "[nltk_data]    |     /root/nltk_data...\n",
            "[nltk_data]    |   Unzipping taggers/universal_tagset.zip.\n",
            "[nltk_data]    | Downloading package maxent_ne_chunker to\n",
            "[nltk_data]    |     /root/nltk_data...\n",
            "[nltk_data]    |   Unzipping chunkers/maxent_ne_chunker.zip.\n",
            "[nltk_data]    | Downloading package punkt to /root/nltk_data...\n",
            "[nltk_data]    |   Unzipping tokenizers/punkt.zip.\n",
            "[nltk_data]    | Downloading package book_grammars to\n",
            "[nltk_data]    |     /root/nltk_data...\n",
            "[nltk_data]    |   Unzipping grammars/book_grammars.zip.\n",
            "[nltk_data]    | Downloading package sample_grammars to\n",
            "[nltk_data]    |     /root/nltk_data...\n",
            "[nltk_data]    |   Unzipping grammars/sample_grammars.zip.\n",
            "[nltk_data]    | Downloading package spanish_grammars to\n",
            "[nltk_data]    |     /root/nltk_data...\n",
            "[nltk_data]    |   Unzipping grammars/spanish_grammars.zip.\n",
            "[nltk_data]    | Downloading package basque_grammars to\n",
            "[nltk_data]    |     /root/nltk_data...\n",
            "[nltk_data]    |   Unzipping grammars/basque_grammars.zip.\n",
            "[nltk_data]    | Downloading package large_grammars to\n",
            "[nltk_data]    |     /root/nltk_data...\n",
            "[nltk_data]    |   Unzipping grammars/large_grammars.zip.\n",
            "[nltk_data]    | Downloading package tagsets to /root/nltk_data...\n",
            "[nltk_data]    |   Unzipping help/tagsets.zip.\n",
            "[nltk_data]    | Downloading package snowball_data to\n",
            "[nltk_data]    |     /root/nltk_data...\n",
            "[nltk_data]    | Downloading package bllip_wsj_no_aux to\n",
            "[nltk_data]    |     /root/nltk_data...\n",
            "[nltk_data]    |   Unzipping models/bllip_wsj_no_aux.zip.\n",
            "[nltk_data]    | Downloading package word2vec_sample to\n",
            "[nltk_data]    |     /root/nltk_data...\n",
            "[nltk_data]    |   Unzipping models/word2vec_sample.zip.\n",
            "[nltk_data]    | Downloading package panlex_swadesh to\n",
            "[nltk_data]    |     /root/nltk_data...\n",
            "[nltk_data]    | Downloading package mte_teip5 to /root/nltk_data...\n",
            "[nltk_data]    |   Unzipping corpora/mte_teip5.zip.\n",
            "[nltk_data]    | Downloading package averaged_perceptron_tagger to\n",
            "[nltk_data]    |     /root/nltk_data...\n",
            "[nltk_data]    |   Unzipping taggers/averaged_perceptron_tagger.zip.\n",
            "[nltk_data]    | Downloading package averaged_perceptron_tagger_ru to\n",
            "[nltk_data]    |     /root/nltk_data...\n",
            "[nltk_data]    |   Unzipping\n",
            "[nltk_data]    |       taggers/averaged_perceptron_tagger_ru.zip.\n",
            "[nltk_data]    | Downloading package perluniprops to\n",
            "[nltk_data]    |     /root/nltk_data...\n",
            "[nltk_data]    |   Unzipping misc/perluniprops.zip.\n",
            "[nltk_data]    | Downloading package nonbreaking_prefixes to\n",
            "[nltk_data]    |     /root/nltk_data...\n",
            "[nltk_data]    |   Unzipping corpora/nonbreaking_prefixes.zip.\n",
            "[nltk_data]    | Downloading package vader_lexicon to\n",
            "[nltk_data]    |     /root/nltk_data...\n",
            "[nltk_data]    | Downloading package porter_test to /root/nltk_data...\n",
            "[nltk_data]    |   Unzipping stemmers/porter_test.zip.\n",
            "[nltk_data]    | Downloading package wmt15_eval to /root/nltk_data...\n",
            "[nltk_data]    |   Unzipping models/wmt15_eval.zip.\n",
            "[nltk_data]    | Downloading package mwa_ppdb to /root/nltk_data...\n",
            "[nltk_data]    |   Unzipping misc/mwa_ppdb.zip.\n",
            "[nltk_data]    | \n",
            "[nltk_data]  Done downloading collection all\n"
          ],
          "name": "stdout"
        },
        {
          "output_type": "execute_result",
          "data": {
            "text/plain": [
              "True"
            ]
          },
          "metadata": {
            "tags": []
          },
          "execution_count": 33
        }
      ]
    },
    {
      "cell_type": "code",
      "metadata": {
        "id": "3x4EBtr0VtlD",
        "colab_type": "code",
        "colab": {}
      },
      "source": [
        "sent_lens=[]\n",
        "for sent in train['Body']:\n",
        "    sent_lens.append(len(word_tokenize(sent)))"
      ],
      "execution_count": 0,
      "outputs": []
    },
    {
      "cell_type": "code",
      "metadata": {
        "id": "FTK5kr_lV5f9",
        "colab_type": "code",
        "colab": {
          "base_uri": "https://localhost:8080/",
          "height": 1000
        },
        "outputId": "7b64301b-caf7-474c-eda6-a4a4076607e1"
      },
      "source": [
        "sent_lens"
      ],
      "execution_count": 35,
      "outputs": [
        {
          "output_type": "execute_result",
          "data": {
            "text/plain": [
              "[197,\n",
              " 175,\n",
              " 36,\n",
              " 105,\n",
              " 581,\n",
              " 83,\n",
              " 210,\n",
              " 93,\n",
              " 71,\n",
              " 109,\n",
              " 115,\n",
              " 599,\n",
              " 49,\n",
              " 229,\n",
              " 28,\n",
              " 36,\n",
              " 84,\n",
              " 44,\n",
              " 134,\n",
              " 86,\n",
              " 14,\n",
              " 20,\n",
              " 64,\n",
              " 144,\n",
              " 173,\n",
              " 201,\n",
              " 65,\n",
              " 96,\n",
              " 196,\n",
              " 335,\n",
              " 229,\n",
              " 363,\n",
              " 421,\n",
              " 214,\n",
              " 57,\n",
              " 16,\n",
              " 281,\n",
              " 155,\n",
              " 132,\n",
              " 123,\n",
              " 95,\n",
              " 277,\n",
              " 226,\n",
              " 95,\n",
              " 102,\n",
              " 222,\n",
              " 46,\n",
              " 125,\n",
              " 63,\n",
              " 183,\n",
              " 238,\n",
              " 37,\n",
              " 210,\n",
              " 52,\n",
              " 110,\n",
              " 88,\n",
              " 188,\n",
              " 176,\n",
              " 127,\n",
              " 123,\n",
              " 77,\n",
              " 538,\n",
              " 37,\n",
              " 277,\n",
              " 100,\n",
              " 226,\n",
              " 134,\n",
              " 196,\n",
              " 254,\n",
              " 115,\n",
              " 100,\n",
              " 157,\n",
              " 280,\n",
              " 345,\n",
              " 191,\n",
              " 141,\n",
              " 936,\n",
              " 189,\n",
              " 207,\n",
              " 94,\n",
              " 299,\n",
              " 169,\n",
              " 159,\n",
              " 243,\n",
              " 140,\n",
              " 79,\n",
              " 231,\n",
              " 287,\n",
              " 356,\n",
              " 172,\n",
              " 127,\n",
              " 51,\n",
              " 89,\n",
              " 740,\n",
              " 113,\n",
              " 44,\n",
              " 679,\n",
              " 147,\n",
              " 68,\n",
              " 103,\n",
              " 328,\n",
              " 529,\n",
              " 131,\n",
              " 145,\n",
              " 52,\n",
              " 373,\n",
              " 784,\n",
              " 340,\n",
              " 113,\n",
              " 35,\n",
              " 67,\n",
              " 238,\n",
              " 597,\n",
              " 295,\n",
              " 405,\n",
              " 43,\n",
              " 523,\n",
              " 98,\n",
              " 225,\n",
              " 128,\n",
              " 246,\n",
              " 128,\n",
              " 74,\n",
              " 81,\n",
              " 121,\n",
              " 70,\n",
              " 295,\n",
              " 118,\n",
              " 95,\n",
              " 93,\n",
              " 244,\n",
              " 352,\n",
              " 87,\n",
              " 207,\n",
              " 291,\n",
              " 118,\n",
              " 126,\n",
              " 647,\n",
              " 66,\n",
              " 89,\n",
              " 121,\n",
              " 8,\n",
              " 173,\n",
              " 366,\n",
              " 92,\n",
              " 242,\n",
              " 135,\n",
              " 508,\n",
              " 117,\n",
              " 631,\n",
              " 655,\n",
              " 13,\n",
              " 374,\n",
              " 601,\n",
              " 143,\n",
              " 360,\n",
              " 68,\n",
              " 175,\n",
              " 165,\n",
              " 330,\n",
              " 40,\n",
              " 189,\n",
              " 86,\n",
              " 385,\n",
              " 146,\n",
              " 86,\n",
              " 237,\n",
              " 68,\n",
              " 294,\n",
              " 81,\n",
              " 282,\n",
              " 92,\n",
              " 105,\n",
              " 239,\n",
              " 58,\n",
              " 112,\n",
              " 115,\n",
              " 32,\n",
              " 50,\n",
              " 82,\n",
              " 238,\n",
              " 608,\n",
              " 100,\n",
              " 67,\n",
              " 179,\n",
              " 336,\n",
              " 215,\n",
              " 84,\n",
              " 188,\n",
              " 136,\n",
              " 104,\n",
              " 105,\n",
              " 157,\n",
              " 110,\n",
              " 227,\n",
              " 42,\n",
              " 297,\n",
              " 76,\n",
              " 582,\n",
              " 28,\n",
              " 598,\n",
              " 76,\n",
              " 17,\n",
              " 391,\n",
              " 173,\n",
              " 112,\n",
              " 80,\n",
              " 41,\n",
              " 88,\n",
              " 227,\n",
              " 267,\n",
              " 151,\n",
              " 88,\n",
              " 704,\n",
              " 159,\n",
              " 172,\n",
              " 192,\n",
              " 99,\n",
              " 116,\n",
              " 220,\n",
              " 150,\n",
              " 216,\n",
              " 862,\n",
              " 108,\n",
              " 235,\n",
              " 136,\n",
              " 155,\n",
              " 28,\n",
              " 147,\n",
              " 362,\n",
              " 54,\n",
              " 53,\n",
              " 91,\n",
              " 51,\n",
              " 80,\n",
              " 315,\n",
              " 216,\n",
              " 523,\n",
              " 187,\n",
              " 81,\n",
              " 24,\n",
              " 206,\n",
              " 392,\n",
              " 21,\n",
              " 79,\n",
              " 1125,\n",
              " 135,\n",
              " 212,\n",
              " 501,\n",
              " 127,\n",
              " 41,\n",
              " 252,\n",
              " 414,\n",
              " 73,\n",
              " 74,\n",
              " 157,\n",
              " 72,\n",
              " 135,\n",
              " 190,\n",
              " 424,\n",
              " 159,\n",
              " 539,\n",
              " 367,\n",
              " 9,\n",
              " 110,\n",
              " 106,\n",
              " 207,\n",
              " 118,\n",
              " 632,\n",
              " 84,\n",
              " 12,\n",
              " 93,\n",
              " 224,\n",
              " 171,\n",
              " 42,\n",
              " 224,\n",
              " 325,\n",
              " 79,\n",
              " 515,\n",
              " 259,\n",
              " 61,\n",
              " 121,\n",
              " 111,\n",
              " 220,\n",
              " 222,\n",
              " 444,\n",
              " 150,\n",
              " 298,\n",
              " 42,\n",
              " 98,\n",
              " 51,\n",
              " 105,\n",
              " 197,\n",
              " 321,\n",
              " 250,\n",
              " 117,\n",
              " 153,\n",
              " 17,\n",
              " 119,\n",
              " 79,\n",
              " 52,\n",
              " 145,\n",
              " 106,\n",
              " 114,\n",
              " 177,\n",
              " 110,\n",
              " 52,\n",
              " 41,\n",
              " 40,\n",
              " 723,\n",
              " 1887,\n",
              " 237,\n",
              " 254,\n",
              " 118,\n",
              " 78,\n",
              " 89,\n",
              " 173,\n",
              " 911,\n",
              " 129,\n",
              " 670,\n",
              " 105,\n",
              " 494,\n",
              " 310,\n",
              " 59,\n",
              " 681,\n",
              " 50,\n",
              " 59,\n",
              " 44,\n",
              " 205,\n",
              " 87,\n",
              " 354,\n",
              " 227,\n",
              " 84,\n",
              " 1799,\n",
              " 581,\n",
              " 72,\n",
              " 38,\n",
              " 297,\n",
              " 331,\n",
              " 59,\n",
              " 85,\n",
              " 397,\n",
              " 168,\n",
              " 117,\n",
              " 200,\n",
              " 93,\n",
              " 326,\n",
              " 457,\n",
              " 426,\n",
              " 133,\n",
              " 321,\n",
              " 93,\n",
              " 59,\n",
              " 124,\n",
              " 199,\n",
              " 246,\n",
              " 144,\n",
              " 114,\n",
              " 69,\n",
              " 312,\n",
              " 71,\n",
              " 76,\n",
              " 314,\n",
              " 180,\n",
              " 109,\n",
              " 208,\n",
              " 164,\n",
              " 483,\n",
              " 137,\n",
              " 481,\n",
              " 86,\n",
              " 309,\n",
              " 106,\n",
              " 37,\n",
              " 161,\n",
              " 34,\n",
              " 473,\n",
              " 96,\n",
              " 37,\n",
              " 37,\n",
              " 137,\n",
              " 222,\n",
              " 212,\n",
              " 101,\n",
              " 64,\n",
              " 816,\n",
              " 402,\n",
              " 142,\n",
              " 86,\n",
              " 28,\n",
              " 75,\n",
              " 39,\n",
              " 163,\n",
              " 154,\n",
              " 167,\n",
              " 97,\n",
              " 185,\n",
              " 183,\n",
              " 88,\n",
              " 274,\n",
              " 170,\n",
              " 108,\n",
              " 106,\n",
              " 81,\n",
              " 276,\n",
              " 70,\n",
              " 107,\n",
              " 211,\n",
              " 342,\n",
              " 90,\n",
              " 78,\n",
              " 85,\n",
              " 382,\n",
              " 26,\n",
              " 111,\n",
              " 61,\n",
              " 139,\n",
              " 64,\n",
              " 17,\n",
              " 234,\n",
              " 65,\n",
              " 38,\n",
              " 372,\n",
              " 218,\n",
              " 390,\n",
              " 83,\n",
              " 39,\n",
              " 123,\n",
              " 71,\n",
              " 210,\n",
              " 95,\n",
              " 67,\n",
              " 1057,\n",
              " 186,\n",
              " 104,\n",
              " 341,\n",
              " 351,\n",
              " 699,\n",
              " 612,\n",
              " 76,\n",
              " 92,\n",
              " 48,\n",
              " 132,\n",
              " 88,\n",
              " 219,\n",
              " 143,\n",
              " 486,\n",
              " 99,\n",
              " 189,\n",
              " 95,\n",
              " 38,\n",
              " 153,\n",
              " 72,\n",
              " 130,\n",
              " 130,\n",
              " 648,\n",
              " 503,\n",
              " 638,\n",
              " 314,\n",
              " 134,\n",
              " 125,\n",
              " 364,\n",
              " 748,\n",
              " 37,\n",
              " 99,\n",
              " 124,\n",
              " 71,\n",
              " 79,\n",
              " 96,\n",
              " 168,\n",
              " 90,\n",
              " 77,\n",
              " 266,\n",
              " 238,\n",
              " 88,\n",
              " 49,\n",
              " 157,\n",
              " 69,\n",
              " 237,\n",
              " 96,\n",
              " 131,\n",
              " 56,\n",
              " 409,\n",
              " 75,\n",
              " 103,\n",
              " 273,\n",
              " 108,\n",
              " 36,\n",
              " 89,\n",
              " 181,\n",
              " 34,\n",
              " 29,\n",
              " 94,\n",
              " 269,\n",
              " 178,\n",
              " 94,\n",
              " 50,\n",
              " 113,\n",
              " 167,\n",
              " 116,\n",
              " 38,\n",
              " 101,\n",
              " 275,\n",
              " 222,\n",
              " 116,\n",
              " 45,\n",
              " 60,\n",
              " 191,\n",
              " 135,\n",
              " 70,\n",
              " 66,\n",
              " 202,\n",
              " 870,\n",
              " 60,\n",
              " 148,\n",
              " 149,\n",
              " 239,\n",
              " 95,\n",
              " 10,\n",
              " 125,\n",
              " 516,\n",
              " 116,\n",
              " 45,\n",
              " 249,\n",
              " 108,\n",
              " 253,\n",
              " 178,\n",
              " 133,\n",
              " 102,\n",
              " 76,\n",
              " 245,\n",
              " 16,\n",
              " 172,\n",
              " 72,\n",
              " 59,\n",
              " 142,\n",
              " 24,\n",
              " 71,\n",
              " 487,\n",
              " 245,\n",
              " 50,\n",
              " 29,\n",
              " 119,\n",
              " 22,\n",
              " 304,\n",
              " 726,\n",
              " 124,\n",
              " 88,\n",
              " 42,\n",
              " 635,\n",
              " 199,\n",
              " 50,\n",
              " 91,\n",
              " 246,\n",
              " 164,\n",
              " 95,\n",
              " 186,\n",
              " 194,\n",
              " 85,\n",
              " 259,\n",
              " 408,\n",
              " 53,\n",
              " 278,\n",
              " 179,\n",
              " 308,\n",
              " 214,\n",
              " 263,\n",
              " 136,\n",
              " 141,\n",
              " 125,\n",
              " 583,\n",
              " 55,\n",
              " 137,\n",
              " 138,\n",
              " 14,\n",
              " 349,\n",
              " 141,\n",
              " 915,\n",
              " 155,\n",
              " 95,\n",
              " 190,\n",
              " 180,\n",
              " 74,\n",
              " 44,\n",
              " 148,\n",
              " 28,\n",
              " 76,\n",
              " 85,\n",
              " 95,\n",
              " 37,\n",
              " 228,\n",
              " 321,\n",
              " 235,\n",
              " 104,\n",
              " 87,\n",
              " 28,\n",
              " 50,\n",
              " 178,\n",
              " 292,\n",
              " 191,\n",
              " 391,\n",
              " 117,\n",
              " 137,\n",
              " 36,\n",
              " 129,\n",
              " 123,\n",
              " 127,\n",
              " 309,\n",
              " 33,\n",
              " 102,\n",
              " 39,\n",
              " 144,\n",
              " 321,\n",
              " 250,\n",
              " 195,\n",
              " 607,\n",
              " 100,\n",
              " 145,\n",
              " 183,\n",
              " 126,\n",
              " 256,\n",
              " 125,\n",
              " 194,\n",
              " 292,\n",
              " 80,\n",
              " 239,\n",
              " 149,\n",
              " 67,\n",
              " 73,\n",
              " 170,\n",
              " 1081,\n",
              " 71,\n",
              " 208,\n",
              " 89,\n",
              " 239,\n",
              " 9,\n",
              " 42,\n",
              " 278,\n",
              " 182,\n",
              " 98,\n",
              " 94,\n",
              " 60,\n",
              " 31,\n",
              " 242,\n",
              " 100,\n",
              " 144,\n",
              " 25,\n",
              " 225,\n",
              " 135,\n",
              " 40,\n",
              " 58,\n",
              " 67,\n",
              " 242,\n",
              " 119,\n",
              " 44,\n",
              " 83,\n",
              " 28,\n",
              " 103,\n",
              " 91,\n",
              " 168,\n",
              " 403,\n",
              " 329,\n",
              " 47,\n",
              " 76,\n",
              " 132,\n",
              " 211,\n",
              " 219,\n",
              " 212,\n",
              " 200,\n",
              " 248,\n",
              " 238,\n",
              " 34,\n",
              " 893,\n",
              " 19,\n",
              " 289,\n",
              " 108,\n",
              " 85,\n",
              " 126,\n",
              " 68,\n",
              " 393,\n",
              " 73,\n",
              " 121,\n",
              " 170,\n",
              " 187,\n",
              " 43,\n",
              " 184,\n",
              " 97,\n",
              " 176,\n",
              " 124,\n",
              " 26,\n",
              " 326,\n",
              " 246,\n",
              " 388,\n",
              " 201,\n",
              " 645,\n",
              " 985,\n",
              " 103,\n",
              " 32,\n",
              " 208,\n",
              " 617,\n",
              " 443,\n",
              " 110,\n",
              " 51,\n",
              " 86,\n",
              " 230,\n",
              " 27,\n",
              " 108,\n",
              " 175,\n",
              " 33,\n",
              " 284,\n",
              " 28,\n",
              " 553,\n",
              " 163,\n",
              " 69,\n",
              " 49,\n",
              " 138,\n",
              " 24,\n",
              " 1307,\n",
              " 383,\n",
              " 87,\n",
              " 53,\n",
              " 132,\n",
              " 65,\n",
              " 170,\n",
              " 204,\n",
              " 255,\n",
              " 121,\n",
              " 272,\n",
              " 98,\n",
              " 201,\n",
              " 125,\n",
              " 130,\n",
              " 145,\n",
              " 250,\n",
              " 179,\n",
              " 130,\n",
              " 111,\n",
              " 585,\n",
              " 591,\n",
              " 287,\n",
              " 259,\n",
              " 1545,\n",
              " 29,\n",
              " 18,\n",
              " 212,\n",
              " 471,\n",
              " 226,\n",
              " 41,\n",
              " 27,\n",
              " 375,\n",
              " 127,\n",
              " 173,\n",
              " 65,\n",
              " 348,\n",
              " 30,\n",
              " 110,\n",
              " 129,\n",
              " 108,\n",
              " 475,\n",
              " 120,\n",
              " 38,\n",
              " 531,\n",
              " 345,\n",
              " 149,\n",
              " 67,\n",
              " 183,\n",
              " 297,\n",
              " 71,\n",
              " 57,\n",
              " 652,\n",
              " 63,\n",
              " 76,\n",
              " 155,\n",
              " 230,\n",
              " 50,\n",
              " 52,\n",
              " 53,\n",
              " 49,\n",
              " 47,\n",
              " 390,\n",
              " 97,\n",
              " 273,\n",
              " 226,\n",
              " 130,\n",
              " 76,\n",
              " 147,\n",
              " 94,\n",
              " 147,\n",
              " 280,\n",
              " 115,\n",
              " 87,\n",
              " 248,\n",
              " 121,\n",
              " 238,\n",
              " 111,\n",
              " 111,\n",
              " 304,\n",
              " 100,\n",
              " 70,\n",
              " 56,\n",
              " 681,\n",
              " 242,\n",
              " 42,\n",
              " 39,\n",
              " 326,\n",
              " 233,\n",
              " 232,\n",
              " 96,\n",
              " 126,\n",
              " 364,\n",
              " 240,\n",
              " 336,\n",
              " 141,\n",
              " 642,\n",
              " 20,\n",
              " 531,\n",
              " 41,\n",
              " 139,\n",
              " 68,\n",
              " 162,\n",
              " 150,\n",
              " 22,\n",
              " 115,\n",
              " 285,\n",
              " 67,\n",
              " 102,\n",
              " 96,\n",
              " 35,\n",
              " 272,\n",
              " 73,\n",
              " 109,\n",
              " 189,\n",
              " 72,\n",
              " 21,\n",
              " 113,\n",
              " 169,\n",
              " 314,\n",
              " 101,\n",
              " 783,\n",
              " 118,\n",
              " 63,\n",
              " 147,\n",
              " 131,\n",
              " 114,\n",
              " 67,\n",
              " 24,\n",
              " 40,\n",
              " 436,\n",
              " 425,\n",
              " 97,\n",
              " 429,\n",
              " 105,\n",
              " 68,\n",
              " 177,\n",
              " 73,\n",
              " 106,\n",
              " 136,\n",
              " 202,\n",
              " 361,\n",
              " 391,\n",
              " 234,\n",
              " 177,\n",
              " 212,\n",
              " 314,\n",
              " 169,\n",
              " 252,\n",
              " 352,\n",
              " 35,\n",
              " 486,\n",
              " 625,\n",
              " 1230,\n",
              " 12,\n",
              " 158,\n",
              " 184,\n",
              " 113,\n",
              " 157,\n",
              " 9,\n",
              " 49,\n",
              " 510,\n",
              " 205,\n",
              " 13,\n",
              " 208,\n",
              " 1306,\n",
              " 29,\n",
              " 188,\n",
              " 39,\n",
              " 114,\n",
              " 52,\n",
              " 137,\n",
              " 287,\n",
              " 108,\n",
              " 125,\n",
              " 77,\n",
              " 232,\n",
              " 239,\n",
              " 199,\n",
              " 134,\n",
              " 15,\n",
              " 157,\n",
              " 112,\n",
              " 75,\n",
              " 22,\n",
              " 110,\n",
              " 234,\n",
              " 63,\n",
              " 42,\n",
              " 155,\n",
              " 291,\n",
              " 103,\n",
              " 197,\n",
              " 29,\n",
              " 35,\n",
              " 82,\n",
              " 92,\n",
              " 953,\n",
              " 150,\n",
              " 892,\n",
              " 230,\n",
              " 842,\n",
              " 42,\n",
              " 195,\n",
              " 149,\n",
              " 149,\n",
              " 272,\n",
              " 81,\n",
              " 64,\n",
              " 189,\n",
              " 66,\n",
              " 83,\n",
              " 126,\n",
              " 128,\n",
              " 194,\n",
              " 94,\n",
              " 127,\n",
              " 330,\n",
              " 111,\n",
              " 119,\n",
              " 40,\n",
              " 55,\n",
              " 425,\n",
              " 95,\n",
              " 128,\n",
              " 530,\n",
              " 70,\n",
              " 289,\n",
              " 2680,\n",
              " 1208,\n",
              " 83,\n",
              " 168,\n",
              " 185,\n",
              " 118,\n",
              " 37,\n",
              " 145,\n",
              " 116,\n",
              " 30,\n",
              " 21,\n",
              " 1350,\n",
              " 45,\n",
              " 159,\n",
              " 112,\n",
              " 142,\n",
              " 84,\n",
              " 27,\n",
              " 311,\n",
              " 158,\n",
              " 184,\n",
              " 92,\n",
              " 113,\n",
              " 536,\n",
              " 147,\n",
              " 280,\n",
              " 84,\n",
              " 647,\n",
              " 101,\n",
              " 264,\n",
              " 68,\n",
              " 135,\n",
              " 94,\n",
              " 400,\n",
              " 40,\n",
              " 208,\n",
              " 137,\n",
              " 99,\n",
              " 266,\n",
              " 66,\n",
              " 146,\n",
              " 194,\n",
              " 39,\n",
              " 84,\n",
              " 266,\n",
              " 75,\n",
              " 27,\n",
              " 952,\n",
              " 109,\n",
              " 83,\n",
              " 149,\n",
              " 385,\n",
              " 146,\n",
              " 100,\n",
              " 40,\n",
              " ...]"
            ]
          },
          "metadata": {
            "tags": []
          },
          "execution_count": 35
        }
      ]
    },
    {
      "cell_type": "code",
      "metadata": {
        "id": "H50ZeI0uWdTN",
        "colab_type": "code",
        "colab": {
          "base_uri": "https://localhost:8080/",
          "height": 34
        },
        "outputId": "817a1497-f5cc-40a8-d788-c2471f426b6c"
      },
      "source": [
        "max(sent_lens)"
      ],
      "execution_count": 36,
      "outputs": [
        {
          "output_type": "execute_result",
          "data": {
            "text/plain": [
              "8060"
            ]
          },
          "metadata": {
            "tags": []
          },
          "execution_count": 36
        }
      ]
    },
    {
      "cell_type": "code",
      "metadata": {
        "id": "Qg4Vmyr8bhOY",
        "colab_type": "code",
        "colab": {
          "base_uri": "https://localhost:8080/",
          "height": 34
        },
        "outputId": "c5303236-a56e-47eb-c11a-a023125a4fa5"
      },
      "source": [
        "np.quantile(sent_lens,0.97)"
      ],
      "execution_count": 37,
      "outputs": [
        {
          "output_type": "execute_result",
          "data": {
            "text/plain": [
              "747.0"
            ]
          },
          "metadata": {
            "tags": []
          },
          "execution_count": 37
        }
      ]
    },
    {
      "cell_type": "code",
      "metadata": {
        "id": "9Twg-0rdbhJ1",
        "colab_type": "code",
        "colab": {}
      },
      "source": [
        "max_length = 747\n",
        "tok = Tokenizer(char_level=False,split=' ')\n",
        "tok.fit_on_texts(x_train_body)\n",
        "sequences_train = tok.texts_to_sequences(x_train_body)"
      ],
      "execution_count": 0,
      "outputs": []
    },
    {
      "cell_type": "code",
      "metadata": {
        "id": "gAqatOC3bhHw",
        "colab_type": "code",
        "colab": {
          "base_uri": "https://localhost:8080/",
          "height": 34
        },
        "outputId": "8de5283a-dc23-429f-8289-23ca3eef04c1"
      },
      "source": [
        "vocab_len=len(tok.index_word.keys())\n",
        "vocab_len"
      ],
      "execution_count": 39,
      "outputs": [
        {
          "output_type": "execute_result",
          "data": {
            "text/plain": [
              "283646"
            ]
          },
          "metadata": {
            "tags": []
          },
          "execution_count": 39
        }
      ]
    },
    {
      "cell_type": "code",
      "metadata": {
        "id": "6NDNM2CBbhDx",
        "colab_type": "code",
        "colab": {}
      },
      "source": [
        "sequences_matrix_train = sequence.pad_sequences(sequences_train,maxlen=max_length)"
      ],
      "execution_count": 0,
      "outputs": []
    },
    {
      "cell_type": "code",
      "metadata": {
        "id": "RcQPHyLYfdXx",
        "colab_type": "code",
        "colab": {}
      },
      "source": [
        "from tensorflow.keras.preprocessing.image import img_to_array\n",
        "from tensorflow.keras.models import load_model\n",
        "# load model\n",
        "#model = load_model('Project1_model.h5')"
      ],
      "execution_count": 0,
      "outputs": []
    },
    {
      "cell_type": "code",
      "metadata": {
        "id": "qXJIpz3fbhB3",
        "colab_type": "code",
        "colab": {}
      },
      "source": [
        "def RNN():\n",
        "    inputs = Input(name='inputs',shape=[max_length])\n",
        "    layer1 = Embedding(vocab_len+1,1000,input_length=max_length,mask_zero=True)(inputs)\n",
        "    layer2 = LSTM(400)(layer1)\n",
        "    layer6 = Dense(10,name='out_layer')(layer2)\n",
        "    layer7 = Activation('softmax')(layer6)\n",
        "    model_1 = Model(inputs=inputs,outputs=layer7)\n",
        "    return model_1"
      ],
      "execution_count": 0,
      "outputs": []
    },
    {
      "cell_type": "code",
      "metadata": {
        "id": "zC2cImyJbg9o",
        "colab_type": "code",
        "colab": {
          "base_uri": "https://localhost:8080/",
          "height": 496
        },
        "outputId": "d78c18ac-35c3-4242-8e1a-0fcf87e4b7ad"
      },
      "source": [
        "model_1 = RNN()\n",
        "model_1.summary()\n",
        "model_1.compile(loss='categorical_crossentropy',\n",
        "                      optimizer='adam',\n",
        "                      metrics=['accuracy'])"
      ],
      "execution_count": 43,
      "outputs": [
        {
          "output_type": "stream",
          "text": [
            "WARNING:tensorflow:From /usr/local/lib/python3.6/dist-packages/tensorflow_core/python/keras/initializers.py:119: calling RandomUniform.__init__ (from tensorflow.python.ops.init_ops) with dtype is deprecated and will be removed in a future version.\n",
            "Instructions for updating:\n",
            "Call initializer instance with the dtype argument instead of passing it to the constructor\n",
            "WARNING:tensorflow:From /usr/local/lib/python3.6/dist-packages/tensorflow_core/python/ops/resource_variable_ops.py:1630: calling BaseResourceVariable.__init__ (from tensorflow.python.ops.resource_variable_ops) with constraint is deprecated and will be removed in a future version.\n",
            "Instructions for updating:\n",
            "If using Keras pass *_constraint arguments to layers.\n",
            "WARNING:tensorflow:From /usr/local/lib/python3.6/dist-packages/tensorflow_core/python/keras/backend.py:3994: where (from tensorflow.python.ops.array_ops) is deprecated and will be removed in a future version.\n",
            "Instructions for updating:\n",
            "Use tf.where in 2.0, which has the same broadcast rule as np.where\n",
            "Model: \"model\"\n",
            "_________________________________________________________________\n",
            "Layer (type)                 Output Shape              Param #   \n",
            "=================================================================\n",
            "inputs (InputLayer)          [(None, 747)]             0         \n",
            "_________________________________________________________________\n",
            "embedding (Embedding)        (None, 747, 1000)         283647000 \n",
            "_________________________________________________________________\n",
            "lstm (LSTM)                  (None, 400)               2241600   \n",
            "_________________________________________________________________\n",
            "out_layer (Dense)            (None, 10)                4010      \n",
            "_________________________________________________________________\n",
            "activation (Activation)      (None, 10)                0         \n",
            "=================================================================\n",
            "Total params: 285,892,610\n",
            "Trainable params: 285,892,610\n",
            "Non-trainable params: 0\n",
            "_________________________________________________________________\n"
          ],
          "name": "stdout"
        }
      ]
    },
    {
      "cell_type": "code",
      "metadata": {
        "id": "X7AjgozMOhXv",
        "colab_type": "code",
        "colab": {}
      },
      "source": [
        "#model_1.save(\"Project1_model.h5\")"
      ],
      "execution_count": 0,
      "outputs": []
    },
    {
      "cell_type": "code",
      "metadata": {
        "id": "TYB9IUYtbg7Y",
        "colab_type": "code",
        "colab": {}
      },
      "source": [
        "sequences_test = tok.texts_to_sequences(x_test_body)\n",
        "sequences_matrix_test = sequence.pad_sequences(sequences_test,\n",
        "                                               maxlen=max_length)"
      ],
      "execution_count": 0,
      "outputs": []
    },
    {
      "cell_type": "code",
      "metadata": {
        "id": "YUEktpfYbg5Y",
        "colab_type": "code",
        "colab": {
          "base_uri": "https://localhost:8080/",
          "height": 445
        },
        "outputId": "a355750a-b0f7-474b-a7f0-b735720a5301"
      },
      "source": [
        "model_1.fit(sequences_matrix_train,y_train,batch_size=500,epochs=5,validation_data=(sequences_matrix_test,y_test))"
      ],
      "execution_count": 50,
      "outputs": [
        {
          "output_type": "stream",
          "text": [
            "Train on 80000 samples, validate on 20000 samples\n",
            "Epoch 1/5\n",
            "80000/80000 [==============================] - 637s 8ms/sample - loss: 1.6494 - acc: 0.4041 - val_loss: 1.5026 - val_acc: 0.4678\n",
            "Epoch 2/5\n",
            "80000/80000 [==============================] - 630s 8ms/sample - loss: 1.1892 - acc: 0.6054 - val_loss: 2.2767 - val_acc: 0.3780\n",
            "Epoch 3/5\n",
            " 5000/80000 [>.............................] - ETA: 9:26 - loss: 1.7224 - acc: 0.4550"
          ],
          "name": "stdout"
        },
        {
          "output_type": "error",
          "ename": "KeyboardInterrupt",
          "evalue": "ignored",
          "traceback": [
            "\u001b[0;31m---------------------------------------------------------------------------\u001b[0m",
            "\u001b[0;31mKeyboardInterrupt\u001b[0m                         Traceback (most recent call last)",
            "\u001b[0;32m<ipython-input-50-a5a2e98f338e>\u001b[0m in \u001b[0;36m<module>\u001b[0;34m()\u001b[0m\n\u001b[0;32m----> 1\u001b[0;31m \u001b[0mmodel_1\u001b[0m\u001b[0;34m.\u001b[0m\u001b[0mfit\u001b[0m\u001b[0;34m(\u001b[0m\u001b[0msequences_matrix_train\u001b[0m\u001b[0;34m,\u001b[0m\u001b[0my_train\u001b[0m\u001b[0;34m,\u001b[0m\u001b[0mbatch_size\u001b[0m\u001b[0;34m=\u001b[0m\u001b[0;36m500\u001b[0m\u001b[0;34m,\u001b[0m\u001b[0mepochs\u001b[0m\u001b[0;34m=\u001b[0m\u001b[0;36m5\u001b[0m\u001b[0;34m,\u001b[0m\u001b[0mvalidation_data\u001b[0m\u001b[0;34m=\u001b[0m\u001b[0;34m(\u001b[0m\u001b[0msequences_matrix_test\u001b[0m\u001b[0;34m,\u001b[0m\u001b[0my_test\u001b[0m\u001b[0;34m)\u001b[0m\u001b[0;34m)\u001b[0m\u001b[0;34m\u001b[0m\u001b[0;34m\u001b[0m\u001b[0m\n\u001b[0m",
            "\u001b[0;32m/usr/local/lib/python3.6/dist-packages/tensorflow_core/python/keras/engine/training.py\u001b[0m in \u001b[0;36mfit\u001b[0;34m(self, x, y, batch_size, epochs, verbose, callbacks, validation_split, validation_data, shuffle, class_weight, sample_weight, initial_epoch, steps_per_epoch, validation_steps, validation_freq, max_queue_size, workers, use_multiprocessing, **kwargs)\u001b[0m\n\u001b[1;32m    725\u001b[0m         \u001b[0mmax_queue_size\u001b[0m\u001b[0;34m=\u001b[0m\u001b[0mmax_queue_size\u001b[0m\u001b[0;34m,\u001b[0m\u001b[0;34m\u001b[0m\u001b[0;34m\u001b[0m\u001b[0m\n\u001b[1;32m    726\u001b[0m         \u001b[0mworkers\u001b[0m\u001b[0;34m=\u001b[0m\u001b[0mworkers\u001b[0m\u001b[0;34m,\u001b[0m\u001b[0;34m\u001b[0m\u001b[0;34m\u001b[0m\u001b[0m\n\u001b[0;32m--> 727\u001b[0;31m         use_multiprocessing=use_multiprocessing)\n\u001b[0m\u001b[1;32m    728\u001b[0m \u001b[0;34m\u001b[0m\u001b[0m\n\u001b[1;32m    729\u001b[0m   def evaluate(self,\n",
            "\u001b[0;32m/usr/local/lib/python3.6/dist-packages/tensorflow_core/python/keras/engine/training_arrays.py\u001b[0m in \u001b[0;36mfit\u001b[0;34m(self, model, x, y, batch_size, epochs, verbose, callbacks, validation_split, validation_data, shuffle, class_weight, sample_weight, initial_epoch, steps_per_epoch, validation_steps, validation_freq, **kwargs)\u001b[0m\n\u001b[1;32m    673\u001b[0m         \u001b[0mvalidation_steps\u001b[0m\u001b[0;34m=\u001b[0m\u001b[0mvalidation_steps\u001b[0m\u001b[0;34m,\u001b[0m\u001b[0;34m\u001b[0m\u001b[0;34m\u001b[0m\u001b[0m\n\u001b[1;32m    674\u001b[0m         \u001b[0mvalidation_freq\u001b[0m\u001b[0;34m=\u001b[0m\u001b[0mvalidation_freq\u001b[0m\u001b[0;34m,\u001b[0m\u001b[0;34m\u001b[0m\u001b[0;34m\u001b[0m\u001b[0m\n\u001b[0;32m--> 675\u001b[0;31m         steps_name='steps_per_epoch')\n\u001b[0m\u001b[1;32m    676\u001b[0m \u001b[0;34m\u001b[0m\u001b[0m\n\u001b[1;32m    677\u001b[0m   def evaluate(self,\n",
            "\u001b[0;32m/usr/local/lib/python3.6/dist-packages/tensorflow_core/python/keras/engine/training_arrays.py\u001b[0m in \u001b[0;36mmodel_iteration\u001b[0;34m(model, inputs, targets, sample_weights, batch_size, epochs, verbose, callbacks, val_inputs, val_targets, val_sample_weights, shuffle, initial_epoch, steps_per_epoch, validation_steps, validation_freq, mode, validation_in_fit, prepared_feed_values_from_dataset, steps_name, **kwargs)\u001b[0m\n\u001b[1;32m    392\u001b[0m \u001b[0;34m\u001b[0m\u001b[0m\n\u001b[1;32m    393\u001b[0m         \u001b[0;31m# Get outputs.\u001b[0m\u001b[0;34m\u001b[0m\u001b[0;34m\u001b[0m\u001b[0;34m\u001b[0m\u001b[0m\n\u001b[0;32m--> 394\u001b[0;31m         \u001b[0mbatch_outs\u001b[0m \u001b[0;34m=\u001b[0m \u001b[0mf\u001b[0m\u001b[0;34m(\u001b[0m\u001b[0mins_batch\u001b[0m\u001b[0;34m)\u001b[0m\u001b[0;34m\u001b[0m\u001b[0;34m\u001b[0m\u001b[0m\n\u001b[0m\u001b[1;32m    395\u001b[0m         \u001b[0;32mif\u001b[0m \u001b[0;32mnot\u001b[0m \u001b[0misinstance\u001b[0m\u001b[0;34m(\u001b[0m\u001b[0mbatch_outs\u001b[0m\u001b[0;34m,\u001b[0m \u001b[0mlist\u001b[0m\u001b[0;34m)\u001b[0m\u001b[0;34m:\u001b[0m\u001b[0;34m\u001b[0m\u001b[0;34m\u001b[0m\u001b[0m\n\u001b[1;32m    396\u001b[0m           \u001b[0mbatch_outs\u001b[0m \u001b[0;34m=\u001b[0m \u001b[0;34m[\u001b[0m\u001b[0mbatch_outs\u001b[0m\u001b[0;34m]\u001b[0m\u001b[0;34m\u001b[0m\u001b[0;34m\u001b[0m\u001b[0m\n",
            "\u001b[0;32m/usr/local/lib/python3.6/dist-packages/tensorflow_core/python/keras/backend.py\u001b[0m in \u001b[0;36m__call__\u001b[0;34m(self, inputs)\u001b[0m\n\u001b[1;32m   3474\u001b[0m \u001b[0;34m\u001b[0m\u001b[0m\n\u001b[1;32m   3475\u001b[0m     fetched = self._callable_fn(*array_vals,\n\u001b[0;32m-> 3476\u001b[0;31m                                 run_metadata=self.run_metadata)\n\u001b[0m\u001b[1;32m   3477\u001b[0m     \u001b[0mself\u001b[0m\u001b[0;34m.\u001b[0m\u001b[0m_call_fetch_callbacks\u001b[0m\u001b[0;34m(\u001b[0m\u001b[0mfetched\u001b[0m\u001b[0;34m[\u001b[0m\u001b[0;34m-\u001b[0m\u001b[0mlen\u001b[0m\u001b[0;34m(\u001b[0m\u001b[0mself\u001b[0m\u001b[0;34m.\u001b[0m\u001b[0m_fetches\u001b[0m\u001b[0;34m)\u001b[0m\u001b[0;34m:\u001b[0m\u001b[0;34m]\u001b[0m\u001b[0;34m)\u001b[0m\u001b[0;34m\u001b[0m\u001b[0;34m\u001b[0m\u001b[0m\n\u001b[1;32m   3478\u001b[0m     output_structure = nest.pack_sequence_as(\n",
            "\u001b[0;32m/usr/local/lib/python3.6/dist-packages/tensorflow_core/python/client/session.py\u001b[0m in \u001b[0;36m__call__\u001b[0;34m(self, *args, **kwargs)\u001b[0m\n\u001b[1;32m   1470\u001b[0m         ret = tf_session.TF_SessionRunCallable(self._session._session,\n\u001b[1;32m   1471\u001b[0m                                                \u001b[0mself\u001b[0m\u001b[0;34m.\u001b[0m\u001b[0m_handle\u001b[0m\u001b[0;34m,\u001b[0m \u001b[0margs\u001b[0m\u001b[0;34m,\u001b[0m\u001b[0;34m\u001b[0m\u001b[0;34m\u001b[0m\u001b[0m\n\u001b[0;32m-> 1472\u001b[0;31m                                                run_metadata_ptr)\n\u001b[0m\u001b[1;32m   1473\u001b[0m         \u001b[0;32mif\u001b[0m \u001b[0mrun_metadata\u001b[0m\u001b[0;34m:\u001b[0m\u001b[0;34m\u001b[0m\u001b[0;34m\u001b[0m\u001b[0m\n\u001b[1;32m   1474\u001b[0m           \u001b[0mproto_data\u001b[0m \u001b[0;34m=\u001b[0m \u001b[0mtf_session\u001b[0m\u001b[0;34m.\u001b[0m\u001b[0mTF_GetBuffer\u001b[0m\u001b[0;34m(\u001b[0m\u001b[0mrun_metadata_ptr\u001b[0m\u001b[0;34m)\u001b[0m\u001b[0;34m\u001b[0m\u001b[0;34m\u001b[0m\u001b[0m\n",
            "\u001b[0;31mKeyboardInterrupt\u001b[0m: "
          ]
        }
      ]
    },
    {
      "cell_type": "code",
      "metadata": {
        "id": "I8LPU-iLbgzs",
        "colab_type": "code",
        "colab": {}
      },
      "source": [
        "predictions=model_1.predict(sequences_matrix_test)"
      ],
      "execution_count": 0,
      "outputs": []
    },
    {
      "cell_type": "code",
      "metadata": {
        "id": "tMS8J1odc5iA",
        "colab_type": "code",
        "colab": {
          "base_uri": "https://localhost:8080/",
          "height": 34
        },
        "outputId": "868ede72-419f-46de-93ec-3d1bd7d91f98"
      },
      "source": [
        "from sklearn.metrics import roc_auc_score\n",
        "roc_auc_score(y_test,predictions)"
      ],
      "execution_count": 52,
      "outputs": [
        {
          "output_type": "execute_result",
          "data": {
            "text/plain": [
              "0.8556235083048822"
            ]
          },
          "metadata": {
            "tags": []
          },
          "execution_count": 52
        }
      ]
    },
    {
      "cell_type": "code",
      "metadata": {
        "id": "xAUdDDwliyH0",
        "colab_type": "code",
        "colab": {}
      },
      "source": [
        "model_1.save(\"Project1_model.h5\")"
      ],
      "execution_count": 0,
      "outputs": []
    },
    {
      "cell_type": "code",
      "metadata": {
        "id": "4Qaw6V_5sIwq",
        "colab_type": "code",
        "colab": {}
      },
      "source": [
        ""
      ],
      "execution_count": 0,
      "outputs": []
    }
  ]
}
